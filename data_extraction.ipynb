{
 "cells": [
  {
   "cell_type": "code",
   "execution_count": 10,
   "id": "initial_id",
   "metadata": {
    "ExecuteTime": {
     "end_time": "2024-01-31T11:40:43.279391Z",
     "start_time": "2024-01-31T11:40:43.276203Z"
    },
    "collapsed": true
   },
   "outputs": [],
   "source": [
    "import pandas as pd\n",
    "import data_api\n",
    "import os\n",
    "import requests"
   ]
  },
  {
   "cell_type": "code",
   "execution_count": 11,
   "id": "906ebda7cdbae90f",
   "metadata": {
    "ExecuteTime": {
     "end_time": "2024-01-31T11:40:44.012636Z",
     "start_time": "2024-01-31T11:40:44.008790Z"
    },
    "collapsed": false
   },
   "outputs": [],
   "source": [
    "tick = [\".SPX\"]\n",
    "\n",
    "API = data_api.API_connection()"
   ]
  },
  {
   "cell_type": "code",
   "execution_count": 18,
   "id": "cbb3b9eeaffee4d1",
   "metadata": {
    "ExecuteTime": {
     "end_time": "2024-01-31T11:45:23.870632Z",
     "start_time": "2024-01-31T11:45:23.168561Z"
    },
    "collapsed": false
   },
   "outputs": [],
   "source": [
    "data = requests.get(\"https://www.alphavantage.co/query?function=TIME_SERIES_WEEKLY&symbol=SPX&apikey=FQ4QXSG40SMEWLCB&outputsize=full\")"
   ]
  },
  {
   "cell_type": "code",
   "execution_count": 20,
   "id": "dcdcf2ed0d3324ff",
   "metadata": {
    "ExecuteTime": {
     "end_time": "2024-01-31T11:46:10.928353Z",
     "start_time": "2024-01-31T11:46:10.921501Z"
    },
    "collapsed": false
   },
   "outputs": [],
   "source": [
    "import json\n",
    "\n",
    "df = data.json()"
   ]
  },
  {
   "cell_type": "code",
   "execution_count": 22,
   "id": "ecd429edd4bc2686",
   "metadata": {
    "ExecuteTime": {
     "end_time": "2024-01-31T11:46:18.319639Z",
     "start_time": "2024-01-31T11:46:18.306983Z"
    },
    "collapsed": false
   },
   "outputs": [
    {
     "data": {
      "text/plain": [
       "{}"
      ]
     },
     "execution_count": 22,
     "metadata": {},
     "output_type": "execute_result"
    }
   ],
   "source": [
    "df"
   ]
  },
  {
   "cell_type": "code",
   "execution_count": 23,
   "id": "af76ccea9ef1ee07",
   "metadata": {
    "ExecuteTime": {
     "end_time": "2024-01-31T11:53:27.334934Z",
     "start_time": "2024-01-31T11:53:26.672872Z"
    },
    "collapsed": false
   },
   "outputs": [
    {
     "ename": "ModuleNotFoundError",
     "evalue": "No module named 'multitasking'",
     "output_type": "error",
     "traceback": [
      "\u001b[0;31m---------------------------------------------------------------------------\u001b[0m",
      "\u001b[0;31mModuleNotFoundError\u001b[0m                       Traceback (most recent call last)",
      "Cell \u001b[0;32mIn[23], line 1\u001b[0m\n\u001b[0;32m----> 1\u001b[0m \u001b[38;5;28;01mimport\u001b[39;00m \u001b[38;5;21;01myfinance\u001b[39;00m\n",
      "File \u001b[0;32m~/Documents/GitHub/momentum_trading_research/yfinance/__init__.py:24\u001b[0m\n\u001b[1;32m     22\u001b[0m \u001b[38;5;28;01mfrom\u001b[39;00m \u001b[38;5;21;01m.\u001b[39;00m \u001b[38;5;28;01mimport\u001b[39;00m version\n\u001b[1;32m     23\u001b[0m \u001b[38;5;28;01mfrom\u001b[39;00m \u001b[38;5;21;01m.\u001b[39;00m\u001b[38;5;21;01mticker\u001b[39;00m \u001b[38;5;28;01mimport\u001b[39;00m Ticker\n\u001b[0;32m---> 24\u001b[0m \u001b[38;5;28;01mfrom\u001b[39;00m \u001b[38;5;21;01m.\u001b[39;00m\u001b[38;5;21;01mtickers\u001b[39;00m \u001b[38;5;28;01mimport\u001b[39;00m Tickers\n\u001b[1;32m     25\u001b[0m \u001b[38;5;28;01mfrom\u001b[39;00m \u001b[38;5;21;01m.\u001b[39;00m\u001b[38;5;21;01mmulti\u001b[39;00m \u001b[38;5;28;01mimport\u001b[39;00m download\n\u001b[1;32m     27\u001b[0m __version__ \u001b[38;5;241m=\u001b[39m version\u001b[38;5;241m.\u001b[39mversion\n",
      "File \u001b[0;32m~/Documents/GitHub/momentum_trading_research/yfinance/tickers.py:24\u001b[0m\n\u001b[1;32m      1\u001b[0m \u001b[38;5;66;03m#!/usr/bin/env python\u001b[39;00m\n\u001b[1;32m      2\u001b[0m \u001b[38;5;66;03m# -*- coding: utf-8 -*-\u001b[39;00m\n\u001b[1;32m      3\u001b[0m \u001b[38;5;66;03m#\u001b[39;00m\n\u001b[0;32m   (...)\u001b[0m\n\u001b[1;32m     19\u001b[0m \u001b[38;5;66;03m# limitations under the License.\u001b[39;00m\n\u001b[1;32m     20\u001b[0m \u001b[38;5;66;03m#\u001b[39;00m\n\u001b[1;32m     22\u001b[0m \u001b[38;5;28;01mfrom\u001b[39;00m \u001b[38;5;21;01m__future__\u001b[39;00m \u001b[38;5;28;01mimport\u001b[39;00m print_function\n\u001b[0;32m---> 24\u001b[0m \u001b[38;5;28;01mfrom\u001b[39;00m \u001b[38;5;21;01m.\u001b[39;00m \u001b[38;5;28;01mimport\u001b[39;00m Ticker, multi\n\u001b[1;32m     25\u001b[0m \u001b[38;5;66;03m# from collections import namedtuple as _namedtuple\u001b[39;00m\n\u001b[1;32m     28\u001b[0m \u001b[38;5;28;01mclass\u001b[39;00m \u001b[38;5;21;01mTickers\u001b[39;00m():\n",
      "File \u001b[0;32m~/Documents/GitHub/momentum_trading_research/yfinance/multi.py:25\u001b[0m\n\u001b[1;32m     22\u001b[0m \u001b[38;5;28;01mfrom\u001b[39;00m \u001b[38;5;21;01m__future__\u001b[39;00m \u001b[38;5;28;01mimport\u001b[39;00m print_function\n\u001b[1;32m     24\u001b[0m \u001b[38;5;28;01mimport\u001b[39;00m \u001b[38;5;21;01mtime\u001b[39;00m \u001b[38;5;28;01mas\u001b[39;00m \u001b[38;5;21;01m_time\u001b[39;00m\n\u001b[0;32m---> 25\u001b[0m \u001b[38;5;28;01mimport\u001b[39;00m \u001b[38;5;21;01mmultitasking\u001b[39;00m \u001b[38;5;28;01mas\u001b[39;00m \u001b[38;5;21;01m_multitasking\u001b[39;00m\n\u001b[1;32m     26\u001b[0m \u001b[38;5;28;01mimport\u001b[39;00m \u001b[38;5;21;01mpandas\u001b[39;00m \u001b[38;5;28;01mas\u001b[39;00m \u001b[38;5;21;01m_pd\u001b[39;00m\n\u001b[1;32m     28\u001b[0m \u001b[38;5;28;01mfrom\u001b[39;00m \u001b[38;5;21;01m.\u001b[39;00m \u001b[38;5;28;01mimport\u001b[39;00m Ticker, utils\n",
      "\u001b[0;31mModuleNotFoundError\u001b[0m: No module named 'multitasking'"
     ]
    }
   ],
   "source": [
    "import yfinance"
   ]
  },
  {
   "cell_type": "code",
   "execution_count": null,
   "id": "ed59d540a40704a1",
   "metadata": {
    "collapsed": false
   },
   "outputs": [],
   "source": []
  }
 ],
 "metadata": {
  "kernelspec": {
   "display_name": "Python 3",
   "language": "python",
   "name": "python3"
  },
  "language_info": {
   "codemirror_mode": {
    "name": "ipython",
    "version": 2
   },
   "file_extension": ".py",
   "mimetype": "text/x-python",
   "name": "python",
   "nbconvert_exporter": "python",
   "pygments_lexer": "ipython2",
   "version": "3.9.6"
  }
 },
 "nbformat": 4,
 "nbformat_minor": 5
}
