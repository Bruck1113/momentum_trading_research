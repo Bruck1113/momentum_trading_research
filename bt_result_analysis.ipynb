{
 "cells": [
  {
   "cell_type": "code",
   "execution_count": 1,
   "metadata": {
    "ExecuteTime": {
     "end_time": "2023-05-27T04:43:51.586932900Z",
     "start_time": "2023-05-27T04:43:41.842199400Z"
    },
    "collapsed": true
   },
   "outputs": [],
   "source": [
    "import seaborn\n",
    "\n",
    "import yfinance as yf\n",
    "import pandas as pd\n",
    "import openpyxl\n",
    "import numpy as np\n",
    "import matplotlib.pyplot as plt\n",
    "from matplotlib.pyplot import figure\n",
    "import statsmodels\n",
    "import seaborn as sns\n",
    "import scipy\n",
    "from scipy import stats\n",
    "from statistics import mean\n",
    "\n",
    "\n",
    "import statsmodels.tsa.api as tsa\n",
    "from statsmodels.graphics.tsaplots import plot_acf, plot_pacf\n",
    "from statsmodels.tsa.stattools import acf, q_stat, adfuller\n",
    "from scipy.stats import probplot, moment\n",
    "import requests\n",
    "\n",
    "#import graphviz\n",
    "#import pydotplus\n",
    "\n",
    "import eikon as ek  # the Eikon Python wrapper package\n",
    "import configparser as cp\n",
    "\n",
    "import sklearn\n",
    "from sklearn import tree\n",
    "from sklearn.tree import DecisionTreeClassifier\n",
    "# Load libraries\n",
    "from sklearn.tree import DecisionTreeClassifier # Import Decision Tree Classifier\n",
    "from sklearn.model_selection import train_test_split # Import train_test_split function\n",
    "from sklearn import metrics #Import scikit-learn metrics module for accuracy calculation\n",
    "from sklearn.ensemble import RandomForestClassifier\n",
    "from sklearn.metrics import accuracy_score, confusion_matrix, precision_score, recall_score, ConfusionMatrixDisplay\n",
    "from sklearn.model_selection import RandomizedSearchCV, train_test_split\n",
    "from scipy.stats import randint\n",
    "\n",
    "import tensorflow as ts\n",
    "import keras\n",
    "from keras.models import Sequential\n",
    "from keras.layers import Dense\n",
    "from keras.utils import to_categorical\n",
    "\n",
    "import rf_model"
   ]
  },
  {
   "cell_type": "code",
   "execution_count": 2,
   "metadata": {
    "ExecuteTime": {
     "end_time": "2023-05-27T04:48:09.372146200Z",
     "start_time": "2023-05-27T04:48:09.313093300Z"
    },
    "collapsed": false
   },
   "outputs": [
    {
     "data": {
      "text/plain": "      Unnamed: 0  ExponentialMovingAverage  WeightedMovingAverage   \n33            33                 22.272977              21.817292  \\\n34            34                 22.101210              21.629477   \n35            35                 21.901116              21.412308   \n36            36                 21.711031              21.203385   \n37            37                 21.532490              21.005077   \n...          ...                       ...                    ...   \n2811        2811                 47.185498              47.588923   \n2812        2812                 47.345075              47.747354   \n2813        2813                 47.498530              47.901631   \n2814        2814                 47.618644              48.024862   \n2815        2815                 47.673363              48.083046   \n\n      StochasticSlow  MACDHisto        RSI  SmoothedMovingAverage       ATR   \n33         23.841060  -0.918013  39.884703              41.656040  0.891948  \\\n34         17.849824  -0.961326  34.859427              40.976378  0.897523   \n35          9.237057  -1.027382  32.062684              40.085009  0.879129   \n36          4.833056  -1.073011  31.707557              39.247264  0.888477   \n37          5.914418  -1.099724  31.492901              38.471827  0.846800   \n...              ...        ...        ...                    ...       ...   \n2811       68.465809   0.678850  59.234829              56.773626  1.107860   \n2812       75.225942   0.743133  62.125976              57.308861  1.109441   \n2813       84.338449   0.791409  62.489777              57.826952  1.100910   \n2814       87.937809   0.797877  60.306349              58.074892  1.097273   \n2815       78.713969   0.735619  54.918695              57.759272  1.097468   \n\n            time        value        AO   WilliamR  Vol_signal  \n33    2012-05-02  1000000.000 -1.970281 -78.807947           0  \n34    2012-05-03  1000000.000 -1.942963 -96.119403           0  \n35    2012-05-04  1000000.000 -2.078287 -97.361478           0  \n36    2012-05-07  1000000.000 -2.242728 -92.019950           0  \n37    2012-05-08  1000000.000 -2.445313 -92.875318           0  \n...          ...          ...       ...        ...         ...  \n2811  2023-05-17   669601.335  1.520025 -28.758170           0  \n2812  2023-05-18   669601.335  1.652344  -6.474820           0  \n2813  2023-05-19   669601.335  1.856432 -11.751663           0  \n2814  2023-05-22   669601.335  1.910962 -17.960089           0  \n2815  2023-05-23   669601.335  1.953785 -34.146341           0  \n\n[2783 rows x 13 columns]",
      "text/html": "<div>\n<style scoped>\n    .dataframe tbody tr th:only-of-type {\n        vertical-align: middle;\n    }\n\n    .dataframe tbody tr th {\n        vertical-align: top;\n    }\n\n    .dataframe thead th {\n        text-align: right;\n    }\n</style>\n<table border=\"1\" class=\"dataframe\">\n  <thead>\n    <tr style=\"text-align: right;\">\n      <th></th>\n      <th>Unnamed: 0</th>\n      <th>ExponentialMovingAverage</th>\n      <th>WeightedMovingAverage</th>\n      <th>StochasticSlow</th>\n      <th>MACDHisto</th>\n      <th>RSI</th>\n      <th>SmoothedMovingAverage</th>\n      <th>ATR</th>\n      <th>time</th>\n      <th>value</th>\n      <th>AO</th>\n      <th>WilliamR</th>\n      <th>Vol_signal</th>\n    </tr>\n  </thead>\n  <tbody>\n    <tr>\n      <th>33</th>\n      <td>33</td>\n      <td>22.272977</td>\n      <td>21.817292</td>\n      <td>23.841060</td>\n      <td>-0.918013</td>\n      <td>39.884703</td>\n      <td>41.656040</td>\n      <td>0.891948</td>\n      <td>2012-05-02</td>\n      <td>1000000.000</td>\n      <td>-1.970281</td>\n      <td>-78.807947</td>\n      <td>0</td>\n    </tr>\n    <tr>\n      <th>34</th>\n      <td>34</td>\n      <td>22.101210</td>\n      <td>21.629477</td>\n      <td>17.849824</td>\n      <td>-0.961326</td>\n      <td>34.859427</td>\n      <td>40.976378</td>\n      <td>0.897523</td>\n      <td>2012-05-03</td>\n      <td>1000000.000</td>\n      <td>-1.942963</td>\n      <td>-96.119403</td>\n      <td>0</td>\n    </tr>\n    <tr>\n      <th>35</th>\n      <td>35</td>\n      <td>21.901116</td>\n      <td>21.412308</td>\n      <td>9.237057</td>\n      <td>-1.027382</td>\n      <td>32.062684</td>\n      <td>40.085009</td>\n      <td>0.879129</td>\n      <td>2012-05-04</td>\n      <td>1000000.000</td>\n      <td>-2.078287</td>\n      <td>-97.361478</td>\n      <td>0</td>\n    </tr>\n    <tr>\n      <th>36</th>\n      <td>36</td>\n      <td>21.711031</td>\n      <td>21.203385</td>\n      <td>4.833056</td>\n      <td>-1.073011</td>\n      <td>31.707557</td>\n      <td>39.247264</td>\n      <td>0.888477</td>\n      <td>2012-05-07</td>\n      <td>1000000.000</td>\n      <td>-2.242728</td>\n      <td>-92.019950</td>\n      <td>0</td>\n    </tr>\n    <tr>\n      <th>37</th>\n      <td>37</td>\n      <td>21.532490</td>\n      <td>21.005077</td>\n      <td>5.914418</td>\n      <td>-1.099724</td>\n      <td>31.492901</td>\n      <td>38.471827</td>\n      <td>0.846800</td>\n      <td>2012-05-08</td>\n      <td>1000000.000</td>\n      <td>-2.445313</td>\n      <td>-92.875318</td>\n      <td>0</td>\n    </tr>\n    <tr>\n      <th>...</th>\n      <td>...</td>\n      <td>...</td>\n      <td>...</td>\n      <td>...</td>\n      <td>...</td>\n      <td>...</td>\n      <td>...</td>\n      <td>...</td>\n      <td>...</td>\n      <td>...</td>\n      <td>...</td>\n      <td>...</td>\n      <td>...</td>\n    </tr>\n    <tr>\n      <th>2811</th>\n      <td>2811</td>\n      <td>47.185498</td>\n      <td>47.588923</td>\n      <td>68.465809</td>\n      <td>0.678850</td>\n      <td>59.234829</td>\n      <td>56.773626</td>\n      <td>1.107860</td>\n      <td>2023-05-17</td>\n      <td>669601.335</td>\n      <td>1.520025</td>\n      <td>-28.758170</td>\n      <td>0</td>\n    </tr>\n    <tr>\n      <th>2812</th>\n      <td>2812</td>\n      <td>47.345075</td>\n      <td>47.747354</td>\n      <td>75.225942</td>\n      <td>0.743133</td>\n      <td>62.125976</td>\n      <td>57.308861</td>\n      <td>1.109441</td>\n      <td>2023-05-18</td>\n      <td>669601.335</td>\n      <td>1.652344</td>\n      <td>-6.474820</td>\n      <td>0</td>\n    </tr>\n    <tr>\n      <th>2813</th>\n      <td>2813</td>\n      <td>47.498530</td>\n      <td>47.901631</td>\n      <td>84.338449</td>\n      <td>0.791409</td>\n      <td>62.489777</td>\n      <td>57.826952</td>\n      <td>1.100910</td>\n      <td>2023-05-19</td>\n      <td>669601.335</td>\n      <td>1.856432</td>\n      <td>-11.751663</td>\n      <td>0</td>\n    </tr>\n    <tr>\n      <th>2814</th>\n      <td>2814</td>\n      <td>47.618644</td>\n      <td>48.024862</td>\n      <td>87.937809</td>\n      <td>0.797877</td>\n      <td>60.306349</td>\n      <td>58.074892</td>\n      <td>1.097273</td>\n      <td>2023-05-22</td>\n      <td>669601.335</td>\n      <td>1.910962</td>\n      <td>-17.960089</td>\n      <td>0</td>\n    </tr>\n    <tr>\n      <th>2815</th>\n      <td>2815</td>\n      <td>47.673363</td>\n      <td>48.083046</td>\n      <td>78.713969</td>\n      <td>0.735619</td>\n      <td>54.918695</td>\n      <td>57.759272</td>\n      <td>1.097468</td>\n      <td>2023-05-23</td>\n      <td>669601.335</td>\n      <td>1.953785</td>\n      <td>-34.146341</td>\n      <td>0</td>\n    </tr>\n  </tbody>\n</table>\n<p>2783 rows × 13 columns</p>\n</div>"
     },
     "execution_count": 2,
     "metadata": {},
     "output_type": "execute_result"
    }
   ],
   "source": [
    "df = pd.read_csv(\"evaluation.csv\")\n",
    "df = df.dropna()\n",
    "df"
   ]
  },
  {
   "cell_type": "code",
   "execution_count": 3,
   "metadata": {
    "ExecuteTime": {
     "end_time": "2023-05-27T04:48:09.912931900Z",
     "start_time": "2023-05-27T04:48:09.867890100Z"
    },
    "collapsed": false
   },
   "outputs": [
    {
     "data": {
      "text/plain": "      Unnamed: 0    Datetime   Open   High    Low  Close      Volume\n0              0  2012-03-15  23.00  23.50  22.70  23.40  13911300.0\n1              1  2012-03-16  23.65  24.93  23.55  24.55   2063000.0\n2              2  2012-03-19  24.50  25.00  24.06  24.85    974300.0\n3              3  2012-03-20  24.71  25.20  24.25  24.80    444400.0\n4              4  2012-03-21  24.65  25.18  24.13  24.25    782300.0\n...          ...         ...    ...    ...    ...    ...         ...\n2812        2812  2023-05-18  48.50  49.37  48.24  49.26    767826.0\n2813        2813  2023-05-19  49.67  49.87  48.88  49.34    776622.0\n2814        2814  2023-05-22  49.22  49.58  48.53  49.06   1398773.0\n2815        2815  2023-05-23  49.00  49.43  48.33  48.33    535454.0\n2816        2816  2023-05-24  48.05  48.11  47.22  47.57    619063.0\n\n[2817 rows x 7 columns]",
      "text/html": "<div>\n<style scoped>\n    .dataframe tbody tr th:only-of-type {\n        vertical-align: middle;\n    }\n\n    .dataframe tbody tr th {\n        vertical-align: top;\n    }\n\n    .dataframe thead th {\n        text-align: right;\n    }\n</style>\n<table border=\"1\" class=\"dataframe\">\n  <thead>\n    <tr style=\"text-align: right;\">\n      <th></th>\n      <th>Unnamed: 0</th>\n      <th>Datetime</th>\n      <th>Open</th>\n      <th>High</th>\n      <th>Low</th>\n      <th>Close</th>\n      <th>Volume</th>\n    </tr>\n  </thead>\n  <tbody>\n    <tr>\n      <th>0</th>\n      <td>0</td>\n      <td>2012-03-15</td>\n      <td>23.00</td>\n      <td>23.50</td>\n      <td>22.70</td>\n      <td>23.40</td>\n      <td>13911300.0</td>\n    </tr>\n    <tr>\n      <th>1</th>\n      <td>1</td>\n      <td>2012-03-16</td>\n      <td>23.65</td>\n      <td>24.93</td>\n      <td>23.55</td>\n      <td>24.55</td>\n      <td>2063000.0</td>\n    </tr>\n    <tr>\n      <th>2</th>\n      <td>2</td>\n      <td>2012-03-19</td>\n      <td>24.50</td>\n      <td>25.00</td>\n      <td>24.06</td>\n      <td>24.85</td>\n      <td>974300.0</td>\n    </tr>\n    <tr>\n      <th>3</th>\n      <td>3</td>\n      <td>2012-03-20</td>\n      <td>24.71</td>\n      <td>25.20</td>\n      <td>24.25</td>\n      <td>24.80</td>\n      <td>444400.0</td>\n    </tr>\n    <tr>\n      <th>4</th>\n      <td>4</td>\n      <td>2012-03-21</td>\n      <td>24.65</td>\n      <td>25.18</td>\n      <td>24.13</td>\n      <td>24.25</td>\n      <td>782300.0</td>\n    </tr>\n    <tr>\n      <th>...</th>\n      <td>...</td>\n      <td>...</td>\n      <td>...</td>\n      <td>...</td>\n      <td>...</td>\n      <td>...</td>\n      <td>...</td>\n    </tr>\n    <tr>\n      <th>2812</th>\n      <td>2812</td>\n      <td>2023-05-18</td>\n      <td>48.50</td>\n      <td>49.37</td>\n      <td>48.24</td>\n      <td>49.26</td>\n      <td>767826.0</td>\n    </tr>\n    <tr>\n      <th>2813</th>\n      <td>2813</td>\n      <td>2023-05-19</td>\n      <td>49.67</td>\n      <td>49.87</td>\n      <td>48.88</td>\n      <td>49.34</td>\n      <td>776622.0</td>\n    </tr>\n    <tr>\n      <th>2814</th>\n      <td>2814</td>\n      <td>2023-05-22</td>\n      <td>49.22</td>\n      <td>49.58</td>\n      <td>48.53</td>\n      <td>49.06</td>\n      <td>1398773.0</td>\n    </tr>\n    <tr>\n      <th>2815</th>\n      <td>2815</td>\n      <td>2023-05-23</td>\n      <td>49.00</td>\n      <td>49.43</td>\n      <td>48.33</td>\n      <td>48.33</td>\n      <td>535454.0</td>\n    </tr>\n    <tr>\n      <th>2816</th>\n      <td>2816</td>\n      <td>2023-05-24</td>\n      <td>48.05</td>\n      <td>48.11</td>\n      <td>47.22</td>\n      <td>47.57</td>\n      <td>619063.0</td>\n    </tr>\n  </tbody>\n</table>\n<p>2817 rows × 7 columns</p>\n</div>"
     },
     "execution_count": 3,
     "metadata": {},
     "output_type": "execute_result"
    }
   ],
   "source": [
    "price_df = pd.read_csv(\"data.csv\")\n",
    "price_df\n",
    "\n",
    "\n"
   ]
  },
  {
   "cell_type": "code",
   "execution_count": 4,
   "metadata": {
    "ExecuteTime": {
     "end_time": "2023-05-27T04:48:10.999508800Z",
     "start_time": "2023-05-27T04:48:10.983494200Z"
    },
    "collapsed": false
   },
   "outputs": [],
   "source": [
    "df[\"Closing price\"] = price_df[\"Close\"]"
   ]
  },
  {
   "cell_type": "code",
   "execution_count": 5,
   "metadata": {
    "ExecuteTime": {
     "end_time": "2023-05-27T04:48:12.093113300Z",
     "start_time": "2023-05-27T04:48:12.071092800Z"
    },
    "collapsed": false
   },
   "outputs": [
    {
     "data": {
      "text/plain": "Index(['Unnamed: 0', 'ExponentialMovingAverage', 'WeightedMovingAverage',\n       'StochasticSlow', 'MACDHisto', 'RSI', 'SmoothedMovingAverage', 'ATR',\n       'time', 'value', 'AO', 'WilliamR', 'Vol_signal', 'Closing price'],\n      dtype='object')"
     },
     "execution_count": 5,
     "metadata": {},
     "output_type": "execute_result"
    }
   ],
   "source": [
    "df.columns"
   ]
  },
  {
   "cell_type": "code",
   "execution_count": 6,
   "metadata": {
    "ExecuteTime": {
     "end_time": "2023-05-27T04:48:12.869870600Z",
     "start_time": "2023-05-27T04:48:12.840843Z"
    },
    "collapsed": false
   },
   "outputs": [],
   "source": [
    "df[\"Short_window\"] = df[\"Closing price\"].rolling(3).mean\n",
    "df[\"Short_window\"] = df[\"Closing price\"].rolling(3).mean"
   ]
  },
  {
   "cell_type": "code",
   "execution_count": 6,
   "metadata": {
    "ExecuteTime": {
     "end_time": "2023-05-27T04:48:13.411904500Z",
     "start_time": "2023-05-27T04:48:13.405898600Z"
    },
    "collapsed": false
   },
   "outputs": [],
   "source": []
  },
  {
   "cell_type": "code",
   "execution_count": 7,
   "metadata": {
    "ExecuteTime": {
     "end_time": "2023-05-27T04:48:13.790724700Z",
     "start_time": "2023-05-27T04:48:13.757695400Z"
    },
    "collapsed": false
   },
   "outputs": [
    {
     "name": "stdout",
     "output_type": "stream",
     "text": [
      "33      20.88\n",
      "34      20.04\n",
      "35      19.50\n",
      "36      19.43\n",
      "37      19.39\n",
      "        ...  \n",
      "2811    48.63\n",
      "2812    49.26\n",
      "2813    49.34\n",
      "2814    49.06\n",
      "2815    48.33\n",
      "Name: Closing price, Length: 2783, dtype: float64\n"
     ]
    }
   ],
   "source": [
    "#df.drop(['Closing prrce'])\n",
    "print(df[\"Closing price\"])\n",
    "#A function to compute a new pandas series for percentage changes of items inside a list\n",
    "def pct_change(lst):\n",
    "    changes = []\n",
    "    for i in range(len(lst)):\n",
    "        if i > 0:\n",
    "            changes.append((lst[i] - lst[i-1])/lst[i-1])\n",
    "        else:\n",
    "            changes.append(0)\n",
    "\n",
    "    df = pd.DataFrame(changes, index=None)\n",
    "    return df\n",
    "\n",
    "def turn_trend_into_bin(lst):\n",
    "    lst = list(lst)\n",
    "    bin = []\n",
    "    for i in lst:\n",
    "        if i > 0:\n",
    "            bin.append(1)\n",
    "        else:\n",
    "            bin.append(-1)\n",
    "\n",
    "    return pd.DataFrame(bin, index = None)\n",
    "\n",
    "def range_interval(lst, high, low):\n",
    "    lst = list(lst)\n",
    "    ter = []\n",
    "    for i in lst:\n",
    "        if i >= high:\n",
    "            ter.append(1)\n",
    "        elif i > low:\n",
    "            ter.append(0)\n",
    "        else:\n",
    "            ter.append(-1)\n",
    "\n",
    "    return pd.DataFrame(ter, index = None)\n",
    "\n",
    "\n",
    "#changes mean\n",
    "short_window = 1\n",
    "long_window = 40\n",
    "\n",
    "df[\"Short_window\"] = pct_change(list(df[\"Closing price\"])).rolling(short_window).mean()\n",
    "df[\"Long_window\"] = pct_change(list(df[\"Closing price\"])).rolling(long_window).mean()\n",
    "# df[\"RSI_pct_change\"] = pct_change(list(df[\"RSI\"]))\n",
    "\n",
    "df[\"RSI_range\"] = range_interval(df[\"RSI\"], 65, 38)\n",
    "df[\"WMV_pct_change\"] = pct_change(list(df['WeightedMovingAverage']))\n",
    "df[\"WilliamR_range\"] = range_interval(df[\"WilliamR\"], -80, -20)"
   ]
  },
  {
   "cell_type": "code",
   "execution_count": 8,
   "metadata": {
    "ExecuteTime": {
     "end_time": "2023-05-27T04:49:34.220899300Z",
     "start_time": "2023-05-27T04:49:34.210887700Z"
    },
    "collapsed": false
   },
   "outputs": [],
   "source": [
    "# df[\"Short_window\"].plot()\n",
    "# df[\"Long_window\"].plot()\n",
    "\n",
    "df[\"Short window bin\"] = turn_trend_into_bin(df[\"Short_window\"])\n",
    "df[\"Long window bin\"] = turn_trend_into_bin(df[\"Long_window\"])\n",
    "# df[\"RSI_bin\"] = turn_trend_into_bin(df[\"RSI_pct_change\"])\n",
    "df[\"WMV_bin\"] = turn_trend_into_bin(df[\"WMV_pct_change\"])\n",
    "\n",
    "\n",
    "df = df.fillna(method=\"ffill\")\n",
    "df.to_csv(\"pre_model.csv\")"
   ]
  },
  {
   "cell_type": "code",
   "execution_count": 9,
   "metadata": {
    "ExecuteTime": {
     "end_time": "2023-05-27T05:20:50.299781900Z",
     "start_time": "2023-05-27T05:20:50.283767300Z"
    },
    "collapsed": false
   },
   "outputs": [],
   "source": [
    "#List out combinations that might help\n",
    "comb_1 = ['WeightedMovingAverage', 'RSI_range']\n",
    "feature_cols = ['ExponentialMovingAverage', 'WeightedMovingAverage','StochasticSlow', 'MACDHisto', 'RSI', 'SmoothedMovingAverage', 'ATR']\n",
    "\n",
    "using = [\"RSI\", \"WilliamR\"]\n",
    "X = df[using].values # Features\n",
    "y = df[\"Short window bin\"].values # Target variable\n",
    "\n",
    "# df_2 = pd.read_csv(\"evaluation2.csv\")\n",
    "# X_test = df_2[feature_cols].dropna().values\n",
    "# y_test = df_2[\"value\"].dropna().values"
   ]
  },
  {
   "cell_type": "code",
   "execution_count": 10,
   "outputs": [
    {
     "name": "stderr",
     "output_type": "stream",
     "text": [
      "C:\\Users\\tszki\\Anaconda3\\envs\\momentum_trading_research\\lib\\site-packages\\sklearn\\utils\\validation.py:1143: DataConversionWarning: A column-vector y was passed when a 1d array was expected. Please change the shape of y to (n_samples, ), for example using ravel().\n",
      "  y = column_or_1d(y, warn=True)\n"
     ]
    }
   ],
   "source": [
    "\n",
    "\n",
    "\n",
    "model = rf_model.model(\"pre_model.csv\", \"data.csv\")\n",
    "\n",
    "svm = model.svm_model(using, [\"Long window bin\"])\n",
    "\n",
    "\n",
    "#Short window accuracy: 0.525\n",
    "#Long window accuracy: 0.526\n",
    "\n",
    "#After changing the timeframe to 1\n",
    "#Short window accuracy: 0.558\n",
    "#We observe a linear relationship between win rate and windows length\n"
   ],
   "metadata": {
    "collapsed": false,
    "pycharm": {
     "name": "#%%\n"
    }
   }
  },
  {
   "cell_type": "code",
   "execution_count": 11,
   "outputs": [
    {
     "name": "stderr",
     "output_type": "stream",
     "text": [
      "C:\\Users\\tszki\\Anaconda3\\envs\\momentum_trading_research\\lib\\site-packages\\sklearn\\utils\\validation.py:1143: DataConversionWarning: A column-vector y was passed when a 1d array was expected. Please change the shape of y to (n_samples, ), for example using ravel().\n",
      "  y = column_or_1d(y, warn=True)\n",
      "C:\\Users\\tszki\\Anaconda3\\envs\\momentum_trading_research\\lib\\site-packages\\sklearn\\utils\\validation.py:1143: DataConversionWarning: A column-vector y was passed when a 1d array was expected. Please change the shape of y to (n_samples, ), for example using ravel().\n",
      "  y = column_or_1d(y, warn=True)\n",
      "C:\\Users\\tszki\\Anaconda3\\envs\\momentum_trading_research\\lib\\site-packages\\sklearn\\utils\\validation.py:1143: DataConversionWarning: A column-vector y was passed when a 1d array was expected. Please change the shape of y to (n_samples, ), for example using ravel().\n",
      "  y = column_or_1d(y, warn=True)\n",
      "C:\\Users\\tszki\\Anaconda3\\envs\\momentum_trading_research\\lib\\site-packages\\sklearn\\utils\\validation.py:1143: DataConversionWarning: A column-vector y was passed when a 1d array was expected. Please change the shape of y to (n_samples, ), for example using ravel().\n",
      "  y = column_or_1d(y, warn=True)\n",
      "C:\\Users\\tszki\\Anaconda3\\envs\\momentum_trading_research\\lib\\site-packages\\sklearn\\utils\\validation.py:1143: DataConversionWarning: A column-vector y was passed when a 1d array was expected. Please change the shape of y to (n_samples, ), for example using ravel().\n",
      "  y = column_or_1d(y, warn=True)\n",
      "C:\\Users\\tszki\\Anaconda3\\envs\\momentum_trading_research\\lib\\site-packages\\sklearn\\utils\\validation.py:1143: DataConversionWarning: A column-vector y was passed when a 1d array was expected. Please change the shape of y to (n_samples, ), for example using ravel().\n",
      "  y = column_or_1d(y, warn=True)\n",
      "C:\\Users\\tszki\\Anaconda3\\envs\\momentum_trading_research\\lib\\site-packages\\sklearn\\utils\\validation.py:1143: DataConversionWarning: A column-vector y was passed when a 1d array was expected. Please change the shape of y to (n_samples, ), for example using ravel().\n",
      "  y = column_or_1d(y, warn=True)\n",
      "C:\\Users\\tszki\\Anaconda3\\envs\\momentum_trading_research\\lib\\site-packages\\sklearn\\utils\\validation.py:1143: DataConversionWarning: A column-vector y was passed when a 1d array was expected. Please change the shape of y to (n_samples, ), for example using ravel().\n",
      "  y = column_or_1d(y, warn=True)\n",
      "C:\\Users\\tszki\\Anaconda3\\envs\\momentum_trading_research\\lib\\site-packages\\sklearn\\utils\\validation.py:1143: DataConversionWarning: A column-vector y was passed when a 1d array was expected. Please change the shape of y to (n_samples, ), for example using ravel().\n",
      "  y = column_or_1d(y, warn=True)\n",
      "C:\\Users\\tszki\\Anaconda3\\envs\\momentum_trading_research\\lib\\site-packages\\sklearn\\utils\\validation.py:1143: DataConversionWarning: A column-vector y was passed when a 1d array was expected. Please change the shape of y to (n_samples, ), for example using ravel().\n",
      "  y = column_or_1d(y, warn=True)\n",
      "C:\\Users\\tszki\\Anaconda3\\envs\\momentum_trading_research\\lib\\site-packages\\sklearn\\utils\\validation.py:1143: DataConversionWarning: A column-vector y was passed when a 1d array was expected. Please change the shape of y to (n_samples, ), for example using ravel().\n",
      "  y = column_or_1d(y, warn=True)\n",
      "C:\\Users\\tszki\\Anaconda3\\envs\\momentum_trading_research\\lib\\site-packages\\sklearn\\utils\\validation.py:1143: DataConversionWarning: A column-vector y was passed when a 1d array was expected. Please change the shape of y to (n_samples, ), for example using ravel().\n",
      "  y = column_or_1d(y, warn=True)\n",
      "C:\\Users\\tszki\\Anaconda3\\envs\\momentum_trading_research\\lib\\site-packages\\sklearn\\utils\\validation.py:1143: DataConversionWarning: A column-vector y was passed when a 1d array was expected. Please change the shape of y to (n_samples, ), for example using ravel().\n",
      "  y = column_or_1d(y, warn=True)\n",
      "C:\\Users\\tszki\\Anaconda3\\envs\\momentum_trading_research\\lib\\site-packages\\sklearn\\utils\\validation.py:1143: DataConversionWarning: A column-vector y was passed when a 1d array was expected. Please change the shape of y to (n_samples, ), for example using ravel().\n",
      "  y = column_or_1d(y, warn=True)\n",
      "C:\\Users\\tszki\\Anaconda3\\envs\\momentum_trading_research\\lib\\site-packages\\sklearn\\utils\\validation.py:1143: DataConversionWarning: A column-vector y was passed when a 1d array was expected. Please change the shape of y to (n_samples, ), for example using ravel().\n",
      "  y = column_or_1d(y, warn=True)\n",
      "C:\\Users\\tszki\\Anaconda3\\envs\\momentum_trading_research\\lib\\site-packages\\sklearn\\utils\\validation.py:1143: DataConversionWarning: A column-vector y was passed when a 1d array was expected. Please change the shape of y to (n_samples, ), for example using ravel().\n",
      "  y = column_or_1d(y, warn=True)\n",
      "C:\\Users\\tszki\\Anaconda3\\envs\\momentum_trading_research\\lib\\site-packages\\sklearn\\utils\\validation.py:1143: DataConversionWarning: A column-vector y was passed when a 1d array was expected. Please change the shape of y to (n_samples, ), for example using ravel().\n",
      "  y = column_or_1d(y, warn=True)\n",
      "C:\\Users\\tszki\\Anaconda3\\envs\\momentum_trading_research\\lib\\site-packages\\sklearn\\utils\\validation.py:1143: DataConversionWarning: A column-vector y was passed when a 1d array was expected. Please change the shape of y to (n_samples, ), for example using ravel().\n",
      "  y = column_or_1d(y, warn=True)\n",
      "C:\\Users\\tszki\\Anaconda3\\envs\\momentum_trading_research\\lib\\site-packages\\sklearn\\utils\\validation.py:1143: DataConversionWarning: A column-vector y was passed when a 1d array was expected. Please change the shape of y to (n_samples, ), for example using ravel().\n",
      "  y = column_or_1d(y, warn=True)\n",
      "C:\\Users\\tszki\\Anaconda3\\envs\\momentum_trading_research\\lib\\site-packages\\sklearn\\utils\\validation.py:1143: DataConversionWarning: A column-vector y was passed when a 1d array was expected. Please change the shape of y to (n_samples, ), for example using ravel().\n",
      "  y = column_or_1d(y, warn=True)\n",
      "C:\\Users\\tszki\\Anaconda3\\envs\\momentum_trading_research\\lib\\site-packages\\sklearn\\utils\\validation.py:1143: DataConversionWarning: A column-vector y was passed when a 1d array was expected. Please change the shape of y to (n_samples, ), for example using ravel().\n",
      "  y = column_or_1d(y, warn=True)\n",
      "C:\\Users\\tszki\\Anaconda3\\envs\\momentum_trading_research\\lib\\site-packages\\sklearn\\utils\\validation.py:1143: DataConversionWarning: A column-vector y was passed when a 1d array was expected. Please change the shape of y to (n_samples, ), for example using ravel().\n",
      "  y = column_or_1d(y, warn=True)\n",
      "C:\\Users\\tszki\\Anaconda3\\envs\\momentum_trading_research\\lib\\site-packages\\sklearn\\utils\\validation.py:1143: DataConversionWarning: A column-vector y was passed when a 1d array was expected. Please change the shape of y to (n_samples, ), for example using ravel().\n",
      "  y = column_or_1d(y, warn=True)\n",
      "C:\\Users\\tszki\\Anaconda3\\envs\\momentum_trading_research\\lib\\site-packages\\sklearn\\utils\\validation.py:1143: DataConversionWarning: A column-vector y was passed when a 1d array was expected. Please change the shape of y to (n_samples, ), for example using ravel().\n",
      "  y = column_or_1d(y, warn=True)\n",
      "C:\\Users\\tszki\\Anaconda3\\envs\\momentum_trading_research\\lib\\site-packages\\sklearn\\utils\\validation.py:1143: DataConversionWarning: A column-vector y was passed when a 1d array was expected. Please change the shape of y to (n_samples, ), for example using ravel().\n",
      "  y = column_or_1d(y, warn=True)\n",
      "C:\\Users\\tszki\\Anaconda3\\envs\\momentum_trading_research\\lib\\site-packages\\sklearn\\utils\\validation.py:1143: DataConversionWarning: A column-vector y was passed when a 1d array was expected. Please change the shape of y to (n_samples, ), for example using ravel().\n",
      "  y = column_or_1d(y, warn=True)\n",
      "C:\\Users\\tszki\\Anaconda3\\envs\\momentum_trading_research\\lib\\site-packages\\sklearn\\utils\\validation.py:1143: DataConversionWarning: A column-vector y was passed when a 1d array was expected. Please change the shape of y to (n_samples, ), for example using ravel().\n",
      "  y = column_or_1d(y, warn=True)\n",
      "C:\\Users\\tszki\\Anaconda3\\envs\\momentum_trading_research\\lib\\site-packages\\sklearn\\utils\\validation.py:1143: DataConversionWarning: A column-vector y was passed when a 1d array was expected. Please change the shape of y to (n_samples, ), for example using ravel().\n",
      "  y = column_or_1d(y, warn=True)\n",
      "C:\\Users\\tszki\\Anaconda3\\envs\\momentum_trading_research\\lib\\site-packages\\sklearn\\utils\\validation.py:1143: DataConversionWarning: A column-vector y was passed when a 1d array was expected. Please change the shape of y to (n_samples, ), for example using ravel().\n",
      "  y = column_or_1d(y, warn=True)\n",
      "C:\\Users\\tszki\\Anaconda3\\envs\\momentum_trading_research\\lib\\site-packages\\sklearn\\utils\\validation.py:1143: DataConversionWarning: A column-vector y was passed when a 1d array was expected. Please change the shape of y to (n_samples, ), for example using ravel().\n",
      "  y = column_or_1d(y, warn=True)\n",
      "C:\\Users\\tszki\\Anaconda3\\envs\\momentum_trading_research\\lib\\site-packages\\sklearn\\utils\\validation.py:1143: DataConversionWarning: A column-vector y was passed when a 1d array was expected. Please change the shape of y to (n_samples, ), for example using ravel().\n",
      "  y = column_or_1d(y, warn=True)\n",
      "C:\\Users\\tszki\\Anaconda3\\envs\\momentum_trading_research\\lib\\site-packages\\sklearn\\utils\\validation.py:1143: DataConversionWarning: A column-vector y was passed when a 1d array was expected. Please change the shape of y to (n_samples, ), for example using ravel().\n",
      "  y = column_or_1d(y, warn=True)\n",
      "C:\\Users\\tszki\\Anaconda3\\envs\\momentum_trading_research\\lib\\site-packages\\sklearn\\utils\\validation.py:1143: DataConversionWarning: A column-vector y was passed when a 1d array was expected. Please change the shape of y to (n_samples, ), for example using ravel().\n",
      "  y = column_or_1d(y, warn=True)\n",
      "C:\\Users\\tszki\\Anaconda3\\envs\\momentum_trading_research\\lib\\site-packages\\sklearn\\utils\\validation.py:1143: DataConversionWarning: A column-vector y was passed when a 1d array was expected. Please change the shape of y to (n_samples, ), for example using ravel().\n",
      "  y = column_or_1d(y, warn=True)\n",
      "C:\\Users\\tszki\\Anaconda3\\envs\\momentum_trading_research\\lib\\site-packages\\sklearn\\utils\\validation.py:1143: DataConversionWarning: A column-vector y was passed when a 1d array was expected. Please change the shape of y to (n_samples, ), for example using ravel().\n",
      "  y = column_or_1d(y, warn=True)\n",
      "C:\\Users\\tszki\\Anaconda3\\envs\\momentum_trading_research\\lib\\site-packages\\sklearn\\utils\\validation.py:1143: DataConversionWarning: A column-vector y was passed when a 1d array was expected. Please change the shape of y to (n_samples, ), for example using ravel().\n",
      "  y = column_or_1d(y, warn=True)\n",
      "C:\\Users\\tszki\\Anaconda3\\envs\\momentum_trading_research\\lib\\site-packages\\sklearn\\utils\\validation.py:1143: DataConversionWarning: A column-vector y was passed when a 1d array was expected. Please change the shape of y to (n_samples, ), for example using ravel().\n",
      "  y = column_or_1d(y, warn=True)\n",
      "C:\\Users\\tszki\\Anaconda3\\envs\\momentum_trading_research\\lib\\site-packages\\sklearn\\utils\\validation.py:1143: DataConversionWarning: A column-vector y was passed when a 1d array was expected. Please change the shape of y to (n_samples, ), for example using ravel().\n",
      "  y = column_or_1d(y, warn=True)\n",
      "C:\\Users\\tszki\\Anaconda3\\envs\\momentum_trading_research\\lib\\site-packages\\sklearn\\utils\\validation.py:1143: DataConversionWarning: A column-vector y was passed when a 1d array was expected. Please change the shape of y to (n_samples, ), for example using ravel().\n",
      "  y = column_or_1d(y, warn=True)\n",
      "C:\\Users\\tszki\\Anaconda3\\envs\\momentum_trading_research\\lib\\site-packages\\sklearn\\utils\\validation.py:1143: DataConversionWarning: A column-vector y was passed when a 1d array was expected. Please change the shape of y to (n_samples, ), for example using ravel().\n",
      "  y = column_or_1d(y, warn=True)\n",
      "C:\\Users\\tszki\\Anaconda3\\envs\\momentum_trading_research\\lib\\site-packages\\sklearn\\utils\\validation.py:1143: DataConversionWarning: A column-vector y was passed when a 1d array was expected. Please change the shape of y to (n_samples, ), for example using ravel().\n",
      "  y = column_or_1d(y, warn=True)\n",
      "C:\\Users\\tszki\\Anaconda3\\envs\\momentum_trading_research\\lib\\site-packages\\sklearn\\utils\\validation.py:1143: DataConversionWarning: A column-vector y was passed when a 1d array was expected. Please change the shape of y to (n_samples, ), for example using ravel().\n",
      "  y = column_or_1d(y, warn=True)\n",
      "C:\\Users\\tszki\\Anaconda3\\envs\\momentum_trading_research\\lib\\site-packages\\sklearn\\utils\\validation.py:1143: DataConversionWarning: A column-vector y was passed when a 1d array was expected. Please change the shape of y to (n_samples, ), for example using ravel().\n",
      "  y = column_or_1d(y, warn=True)\n",
      "C:\\Users\\tszki\\Anaconda3\\envs\\momentum_trading_research\\lib\\site-packages\\sklearn\\utils\\validation.py:1143: DataConversionWarning: A column-vector y was passed when a 1d array was expected. Please change the shape of y to (n_samples, ), for example using ravel().\n",
      "  y = column_or_1d(y, warn=True)\n",
      "C:\\Users\\tszki\\Anaconda3\\envs\\momentum_trading_research\\lib\\site-packages\\sklearn\\utils\\validation.py:1143: DataConversionWarning: A column-vector y was passed when a 1d array was expected. Please change the shape of y to (n_samples, ), for example using ravel().\n",
      "  y = column_or_1d(y, warn=True)\n",
      "C:\\Users\\tszki\\Anaconda3\\envs\\momentum_trading_research\\lib\\site-packages\\sklearn\\utils\\validation.py:1143: DataConversionWarning: A column-vector y was passed when a 1d array was expected. Please change the shape of y to (n_samples, ), for example using ravel().\n",
      "  y = column_or_1d(y, warn=True)\n",
      "C:\\Users\\tszki\\Anaconda3\\envs\\momentum_trading_research\\lib\\site-packages\\sklearn\\utils\\validation.py:1143: DataConversionWarning: A column-vector y was passed when a 1d array was expected. Please change the shape of y to (n_samples, ), for example using ravel().\n",
      "  y = column_or_1d(y, warn=True)\n",
      "C:\\Users\\tszki\\Anaconda3\\envs\\momentum_trading_research\\lib\\site-packages\\sklearn\\utils\\validation.py:1143: DataConversionWarning: A column-vector y was passed when a 1d array was expected. Please change the shape of y to (n_samples, ), for example using ravel().\n",
      "  y = column_or_1d(y, warn=True)\n",
      "C:\\Users\\tszki\\Anaconda3\\envs\\momentum_trading_research\\lib\\site-packages\\sklearn\\utils\\validation.py:1143: DataConversionWarning: A column-vector y was passed when a 1d array was expected. Please change the shape of y to (n_samples, ), for example using ravel().\n",
      "  y = column_or_1d(y, warn=True)\n",
      "C:\\Users\\tszki\\Anaconda3\\envs\\momentum_trading_research\\lib\\site-packages\\sklearn\\utils\\validation.py:1143: DataConversionWarning: A column-vector y was passed when a 1d array was expected. Please change the shape of y to (n_samples, ), for example using ravel().\n",
      "  y = column_or_1d(y, warn=True)\n",
      "C:\\Users\\tszki\\Anaconda3\\envs\\momentum_trading_research\\lib\\site-packages\\sklearn\\utils\\validation.py:1143: DataConversionWarning: A column-vector y was passed when a 1d array was expected. Please change the shape of y to (n_samples, ), for example using ravel().\n",
      "  y = column_or_1d(y, warn=True)\n",
      "C:\\Users\\tszki\\Anaconda3\\envs\\momentum_trading_research\\lib\\site-packages\\sklearn\\utils\\validation.py:1143: DataConversionWarning: A column-vector y was passed when a 1d array was expected. Please change the shape of y to (n_samples, ), for example using ravel().\n",
      "  y = column_or_1d(y, warn=True)\n",
      "C:\\Users\\tszki\\Anaconda3\\envs\\momentum_trading_research\\lib\\site-packages\\sklearn\\utils\\validation.py:1143: DataConversionWarning: A column-vector y was passed when a 1d array was expected. Please change the shape of y to (n_samples, ), for example using ravel().\n",
      "  y = column_or_1d(y, warn=True)\n",
      "C:\\Users\\tszki\\Anaconda3\\envs\\momentum_trading_research\\lib\\site-packages\\sklearn\\utils\\validation.py:1143: DataConversionWarning: A column-vector y was passed when a 1d array was expected. Please change the shape of y to (n_samples, ), for example using ravel().\n",
      "  y = column_or_1d(y, warn=True)\n",
      "C:\\Users\\tszki\\Anaconda3\\envs\\momentum_trading_research\\lib\\site-packages\\sklearn\\utils\\validation.py:1143: DataConversionWarning: A column-vector y was passed when a 1d array was expected. Please change the shape of y to (n_samples, ), for example using ravel().\n",
      "  y = column_or_1d(y, warn=True)\n",
      "C:\\Users\\tszki\\Anaconda3\\envs\\momentum_trading_research\\lib\\site-packages\\sklearn\\utils\\validation.py:1143: DataConversionWarning: A column-vector y was passed when a 1d array was expected. Please change the shape of y to (n_samples, ), for example using ravel().\n",
      "  y = column_or_1d(y, warn=True)\n",
      "C:\\Users\\tszki\\Anaconda3\\envs\\momentum_trading_research\\lib\\site-packages\\sklearn\\utils\\validation.py:1143: DataConversionWarning: A column-vector y was passed when a 1d array was expected. Please change the shape of y to (n_samples, ), for example using ravel().\n",
      "  y = column_or_1d(y, warn=True)\n",
      "C:\\Users\\tszki\\Anaconda3\\envs\\momentum_trading_research\\lib\\site-packages\\sklearn\\utils\\validation.py:1143: DataConversionWarning: A column-vector y was passed when a 1d array was expected. Please change the shape of y to (n_samples, ), for example using ravel().\n",
      "  y = column_or_1d(y, warn=True)\n",
      "C:\\Users\\tszki\\Anaconda3\\envs\\momentum_trading_research\\lib\\site-packages\\sklearn\\utils\\validation.py:1143: DataConversionWarning: A column-vector y was passed when a 1d array was expected. Please change the shape of y to (n_samples, ), for example using ravel().\n",
      "  y = column_or_1d(y, warn=True)\n",
      "C:\\Users\\tszki\\Anaconda3\\envs\\momentum_trading_research\\lib\\site-packages\\sklearn\\utils\\validation.py:1143: DataConversionWarning: A column-vector y was passed when a 1d array was expected. Please change the shape of y to (n_samples, ), for example using ravel().\n",
      "  y = column_or_1d(y, warn=True)\n",
      "C:\\Users\\tszki\\Anaconda3\\envs\\momentum_trading_research\\lib\\site-packages\\sklearn\\utils\\validation.py:1143: DataConversionWarning: A column-vector y was passed when a 1d array was expected. Please change the shape of y to (n_samples, ), for example using ravel().\n",
      "  y = column_or_1d(y, warn=True)\n",
      "C:\\Users\\tszki\\Anaconda3\\envs\\momentum_trading_research\\lib\\site-packages\\sklearn\\utils\\validation.py:1143: DataConversionWarning: A column-vector y was passed when a 1d array was expected. Please change the shape of y to (n_samples, ), for example using ravel().\n",
      "  y = column_or_1d(y, warn=True)\n",
      "C:\\Users\\tszki\\Anaconda3\\envs\\momentum_trading_research\\lib\\site-packages\\sklearn\\utils\\validation.py:1143: DataConversionWarning: A column-vector y was passed when a 1d array was expected. Please change the shape of y to (n_samples, ), for example using ravel().\n",
      "  y = column_or_1d(y, warn=True)\n",
      "C:\\Users\\tszki\\Anaconda3\\envs\\momentum_trading_research\\lib\\site-packages\\sklearn\\utils\\validation.py:1143: DataConversionWarning: A column-vector y was passed when a 1d array was expected. Please change the shape of y to (n_samples, ), for example using ravel().\n",
      "  y = column_or_1d(y, warn=True)\n",
      "C:\\Users\\tszki\\Anaconda3\\envs\\momentum_trading_research\\lib\\site-packages\\sklearn\\utils\\validation.py:1143: DataConversionWarning: A column-vector y was passed when a 1d array was expected. Please change the shape of y to (n_samples, ), for example using ravel().\n",
      "  y = column_or_1d(y, warn=True)\n",
      "C:\\Users\\tszki\\Anaconda3\\envs\\momentum_trading_research\\lib\\site-packages\\sklearn\\utils\\validation.py:1143: DataConversionWarning: A column-vector y was passed when a 1d array was expected. Please change the shape of y to (n_samples, ), for example using ravel().\n",
      "  y = column_or_1d(y, warn=True)\n",
      "C:\\Users\\tszki\\Anaconda3\\envs\\momentum_trading_research\\lib\\site-packages\\sklearn\\utils\\validation.py:1143: DataConversionWarning: A column-vector y was passed when a 1d array was expected. Please change the shape of y to (n_samples, ), for example using ravel().\n",
      "  y = column_or_1d(y, warn=True)\n",
      "C:\\Users\\tszki\\Anaconda3\\envs\\momentum_trading_research\\lib\\site-packages\\sklearn\\utils\\validation.py:1143: DataConversionWarning: A column-vector y was passed when a 1d array was expected. Please change the shape of y to (n_samples, ), for example using ravel().\n",
      "  y = column_or_1d(y, warn=True)\n",
      "C:\\Users\\tszki\\Anaconda3\\envs\\momentum_trading_research\\lib\\site-packages\\sklearn\\utils\\validation.py:1143: DataConversionWarning: A column-vector y was passed when a 1d array was expected. Please change the shape of y to (n_samples, ), for example using ravel().\n",
      "  y = column_or_1d(y, warn=True)\n",
      "C:\\Users\\tszki\\Anaconda3\\envs\\momentum_trading_research\\lib\\site-packages\\sklearn\\utils\\validation.py:1143: DataConversionWarning: A column-vector y was passed when a 1d array was expected. Please change the shape of y to (n_samples, ), for example using ravel().\n",
      "  y = column_or_1d(y, warn=True)\n",
      "C:\\Users\\tszki\\Anaconda3\\envs\\momentum_trading_research\\lib\\site-packages\\sklearn\\utils\\validation.py:1143: DataConversionWarning: A column-vector y was passed when a 1d array was expected. Please change the shape of y to (n_samples, ), for example using ravel().\n",
      "  y = column_or_1d(y, warn=True)\n",
      "C:\\Users\\tszki\\Anaconda3\\envs\\momentum_trading_research\\lib\\site-packages\\sklearn\\utils\\validation.py:1143: DataConversionWarning: A column-vector y was passed when a 1d array was expected. Please change the shape of y to (n_samples, ), for example using ravel().\n",
      "  y = column_or_1d(y, warn=True)\n",
      "C:\\Users\\tszki\\Anaconda3\\envs\\momentum_trading_research\\lib\\site-packages\\sklearn\\utils\\validation.py:1143: DataConversionWarning: A column-vector y was passed when a 1d array was expected. Please change the shape of y to (n_samples, ), for example using ravel().\n",
      "  y = column_or_1d(y, warn=True)\n",
      "C:\\Users\\tszki\\Anaconda3\\envs\\momentum_trading_research\\lib\\site-packages\\sklearn\\utils\\validation.py:1143: DataConversionWarning: A column-vector y was passed when a 1d array was expected. Please change the shape of y to (n_samples, ), for example using ravel().\n",
      "  y = column_or_1d(y, warn=True)\n",
      "C:\\Users\\tszki\\Anaconda3\\envs\\momentum_trading_research\\lib\\site-packages\\sklearn\\utils\\validation.py:1143: DataConversionWarning: A column-vector y was passed when a 1d array was expected. Please change the shape of y to (n_samples, ), for example using ravel().\n",
      "  y = column_or_1d(y, warn=True)\n",
      "C:\\Users\\tszki\\Anaconda3\\envs\\momentum_trading_research\\lib\\site-packages\\sklearn\\utils\\validation.py:1143: DataConversionWarning: A column-vector y was passed when a 1d array was expected. Please change the shape of y to (n_samples, ), for example using ravel().\n",
      "  y = column_or_1d(y, warn=True)\n",
      "C:\\Users\\tszki\\Anaconda3\\envs\\momentum_trading_research\\lib\\site-packages\\sklearn\\utils\\validation.py:1143: DataConversionWarning: A column-vector y was passed when a 1d array was expected. Please change the shape of y to (n_samples, ), for example using ravel().\n",
      "  y = column_or_1d(y, warn=True)\n",
      "C:\\Users\\tszki\\Anaconda3\\envs\\momentum_trading_research\\lib\\site-packages\\sklearn\\utils\\validation.py:1143: DataConversionWarning: A column-vector y was passed when a 1d array was expected. Please change the shape of y to (n_samples, ), for example using ravel().\n",
      "  y = column_or_1d(y, warn=True)\n",
      "C:\\Users\\tszki\\Anaconda3\\envs\\momentum_trading_research\\lib\\site-packages\\sklearn\\utils\\validation.py:1143: DataConversionWarning: A column-vector y was passed when a 1d array was expected. Please change the shape of y to (n_samples, ), for example using ravel().\n",
      "  y = column_or_1d(y, warn=True)\n",
      "C:\\Users\\tszki\\Anaconda3\\envs\\momentum_trading_research\\lib\\site-packages\\sklearn\\utils\\validation.py:1143: DataConversionWarning: A column-vector y was passed when a 1d array was expected. Please change the shape of y to (n_samples, ), for example using ravel().\n",
      "  y = column_or_1d(y, warn=True)\n",
      "C:\\Users\\tszki\\Anaconda3\\envs\\momentum_trading_research\\lib\\site-packages\\sklearn\\utils\\validation.py:1143: DataConversionWarning: A column-vector y was passed when a 1d array was expected. Please change the shape of y to (n_samples, ), for example using ravel().\n",
      "  y = column_or_1d(y, warn=True)\n",
      "C:\\Users\\tszki\\Anaconda3\\envs\\momentum_trading_research\\lib\\site-packages\\sklearn\\utils\\validation.py:1143: DataConversionWarning: A column-vector y was passed when a 1d array was expected. Please change the shape of y to (n_samples, ), for example using ravel().\n",
      "  y = column_or_1d(y, warn=True)\n",
      "C:\\Users\\tszki\\Anaconda3\\envs\\momentum_trading_research\\lib\\site-packages\\sklearn\\utils\\validation.py:1143: DataConversionWarning: A column-vector y was passed when a 1d array was expected. Please change the shape of y to (n_samples, ), for example using ravel().\n",
      "  y = column_or_1d(y, warn=True)\n",
      "C:\\Users\\tszki\\Anaconda3\\envs\\momentum_trading_research\\lib\\site-packages\\sklearn\\utils\\validation.py:1143: DataConversionWarning: A column-vector y was passed when a 1d array was expected. Please change the shape of y to (n_samples, ), for example using ravel().\n",
      "  y = column_or_1d(y, warn=True)\n",
      "C:\\Users\\tszki\\Anaconda3\\envs\\momentum_trading_research\\lib\\site-packages\\sklearn\\utils\\validation.py:1143: DataConversionWarning: A column-vector y was passed when a 1d array was expected. Please change the shape of y to (n_samples, ), for example using ravel().\n",
      "  y = column_or_1d(y, warn=True)\n",
      "C:\\Users\\tszki\\Anaconda3\\envs\\momentum_trading_research\\lib\\site-packages\\sklearn\\utils\\validation.py:1143: DataConversionWarning: A column-vector y was passed when a 1d array was expected. Please change the shape of y to (n_samples, ), for example using ravel().\n",
      "  y = column_or_1d(y, warn=True)\n",
      "C:\\Users\\tszki\\Anaconda3\\envs\\momentum_trading_research\\lib\\site-packages\\sklearn\\utils\\validation.py:1143: DataConversionWarning: A column-vector y was passed when a 1d array was expected. Please change the shape of y to (n_samples, ), for example using ravel().\n",
      "  y = column_or_1d(y, warn=True)\n",
      "C:\\Users\\tszki\\Anaconda3\\envs\\momentum_trading_research\\lib\\site-packages\\sklearn\\utils\\validation.py:1143: DataConversionWarning: A column-vector y was passed when a 1d array was expected. Please change the shape of y to (n_samples, ), for example using ravel().\n",
      "  y = column_or_1d(y, warn=True)\n",
      "C:\\Users\\tszki\\Anaconda3\\envs\\momentum_trading_research\\lib\\site-packages\\sklearn\\utils\\validation.py:1143: DataConversionWarning: A column-vector y was passed when a 1d array was expected. Please change the shape of y to (n_samples, ), for example using ravel().\n",
      "  y = column_or_1d(y, warn=True)\n",
      "C:\\Users\\tszki\\Anaconda3\\envs\\momentum_trading_research\\lib\\site-packages\\sklearn\\utils\\validation.py:1143: DataConversionWarning: A column-vector y was passed when a 1d array was expected. Please change the shape of y to (n_samples, ), for example using ravel().\n",
      "  y = column_or_1d(y, warn=True)\n",
      "C:\\Users\\tszki\\Anaconda3\\envs\\momentum_trading_research\\lib\\site-packages\\sklearn\\utils\\validation.py:1143: DataConversionWarning: A column-vector y was passed when a 1d array was expected. Please change the shape of y to (n_samples, ), for example using ravel().\n",
      "  y = column_or_1d(y, warn=True)\n",
      "C:\\Users\\tszki\\Anaconda3\\envs\\momentum_trading_research\\lib\\site-packages\\sklearn\\utils\\validation.py:1143: DataConversionWarning: A column-vector y was passed when a 1d array was expected. Please change the shape of y to (n_samples, ), for example using ravel().\n",
      "  y = column_or_1d(y, warn=True)\n",
      "C:\\Users\\tszki\\Anaconda3\\envs\\momentum_trading_research\\lib\\site-packages\\sklearn\\utils\\validation.py:1143: DataConversionWarning: A column-vector y was passed when a 1d array was expected. Please change the shape of y to (n_samples, ), for example using ravel().\n",
      "  y = column_or_1d(y, warn=True)\n",
      "C:\\Users\\tszki\\Anaconda3\\envs\\momentum_trading_research\\lib\\site-packages\\sklearn\\utils\\validation.py:1143: DataConversionWarning: A column-vector y was passed when a 1d array was expected. Please change the shape of y to (n_samples, ), for example using ravel().\n",
      "  y = column_or_1d(y, warn=True)\n",
      "C:\\Users\\tszki\\Anaconda3\\envs\\momentum_trading_research\\lib\\site-packages\\sklearn\\utils\\validation.py:1143: DataConversionWarning: A column-vector y was passed when a 1d array was expected. Please change the shape of y to (n_samples, ), for example using ravel().\n",
      "  y = column_or_1d(y, warn=True)\n",
      "C:\\Users\\tszki\\Anaconda3\\envs\\momentum_trading_research\\lib\\site-packages\\sklearn\\utils\\validation.py:1143: DataConversionWarning: A column-vector y was passed when a 1d array was expected. Please change the shape of y to (n_samples, ), for example using ravel().\n",
      "  y = column_or_1d(y, warn=True)\n",
      "C:\\Users\\tszki\\Anaconda3\\envs\\momentum_trading_research\\lib\\site-packages\\sklearn\\utils\\validation.py:1143: DataConversionWarning: A column-vector y was passed when a 1d array was expected. Please change the shape of y to (n_samples, ), for example using ravel().\n",
      "  y = column_or_1d(y, warn=True)\n",
      "C:\\Users\\tszki\\Anaconda3\\envs\\momentum_trading_research\\lib\\site-packages\\sklearn\\utils\\validation.py:1143: DataConversionWarning: A column-vector y was passed when a 1d array was expected. Please change the shape of y to (n_samples, ), for example using ravel().\n",
      "  y = column_or_1d(y, warn=True)\n",
      "C:\\Users\\tszki\\Anaconda3\\envs\\momentum_trading_research\\lib\\site-packages\\sklearn\\utils\\validation.py:1143: DataConversionWarning: A column-vector y was passed when a 1d array was expected. Please change the shape of y to (n_samples, ), for example using ravel().\n",
      "  y = column_or_1d(y, warn=True)\n",
      "C:\\Users\\tszki\\Anaconda3\\envs\\momentum_trading_research\\lib\\site-packages\\sklearn\\utils\\validation.py:1143: DataConversionWarning: A column-vector y was passed when a 1d array was expected. Please change the shape of y to (n_samples, ), for example using ravel().\n",
      "  y = column_or_1d(y, warn=True)\n",
      "C:\\Users\\tszki\\Anaconda3\\envs\\momentum_trading_research\\lib\\site-packages\\sklearn\\utils\\validation.py:1143: DataConversionWarning: A column-vector y was passed when a 1d array was expected. Please change the shape of y to (n_samples, ), for example using ravel().\n",
      "  y = column_or_1d(y, warn=True)\n",
      "C:\\Users\\tszki\\Anaconda3\\envs\\momentum_trading_research\\lib\\site-packages\\sklearn\\utils\\validation.py:1143: DataConversionWarning: A column-vector y was passed when a 1d array was expected. Please change the shape of y to (n_samples, ), for example using ravel().\n",
      "  y = column_or_1d(y, warn=True)\n",
      "C:\\Users\\tszki\\Anaconda3\\envs\\momentum_trading_research\\lib\\site-packages\\sklearn\\utils\\validation.py:1143: DataConversionWarning: A column-vector y was passed when a 1d array was expected. Please change the shape of y to (n_samples, ), for example using ravel().\n",
      "  y = column_or_1d(y, warn=True)\n",
      "C:\\Users\\tszki\\Anaconda3\\envs\\momentum_trading_research\\lib\\site-packages\\sklearn\\utils\\validation.py:1143: DataConversionWarning: A column-vector y was passed when a 1d array was expected. Please change the shape of y to (n_samples, ), for example using ravel().\n",
      "  y = column_or_1d(y, warn=True)\n",
      "C:\\Users\\tszki\\Anaconda3\\envs\\momentum_trading_research\\lib\\site-packages\\sklearn\\utils\\validation.py:1143: DataConversionWarning: A column-vector y was passed when a 1d array was expected. Please change the shape of y to (n_samples, ), for example using ravel().\n",
      "  y = column_or_1d(y, warn=True)\n",
      "C:\\Users\\tszki\\Anaconda3\\envs\\momentum_trading_research\\lib\\site-packages\\sklearn\\utils\\validation.py:1143: DataConversionWarning: A column-vector y was passed when a 1d array was expected. Please change the shape of y to (n_samples, ), for example using ravel().\n",
      "  y = column_or_1d(y, warn=True)\n",
      "C:\\Users\\tszki\\Anaconda3\\envs\\momentum_trading_research\\lib\\site-packages\\sklearn\\utils\\validation.py:1143: DataConversionWarning: A column-vector y was passed when a 1d array was expected. Please change the shape of y to (n_samples, ), for example using ravel().\n",
      "  y = column_or_1d(y, warn=True)\n",
      "C:\\Users\\tszki\\Anaconda3\\envs\\momentum_trading_research\\lib\\site-packages\\sklearn\\utils\\validation.py:1143: DataConversionWarning: A column-vector y was passed when a 1d array was expected. Please change the shape of y to (n_samples, ), for example using ravel().\n",
      "  y = column_or_1d(y, warn=True)\n",
      "C:\\Users\\tszki\\Anaconda3\\envs\\momentum_trading_research\\lib\\site-packages\\sklearn\\utils\\validation.py:1143: DataConversionWarning: A column-vector y was passed when a 1d array was expected. Please change the shape of y to (n_samples, ), for example using ravel().\n",
      "  y = column_or_1d(y, warn=True)\n",
      "C:\\Users\\tszki\\Anaconda3\\envs\\momentum_trading_research\\lib\\site-packages\\sklearn\\utils\\validation.py:1143: DataConversionWarning: A column-vector y was passed when a 1d array was expected. Please change the shape of y to (n_samples, ), for example using ravel().\n",
      "  y = column_or_1d(y, warn=True)\n",
      "C:\\Users\\tszki\\Anaconda3\\envs\\momentum_trading_research\\lib\\site-packages\\sklearn\\utils\\validation.py:1143: DataConversionWarning: A column-vector y was passed when a 1d array was expected. Please change the shape of y to (n_samples, ), for example using ravel().\n",
      "  y = column_or_1d(y, warn=True)\n",
      "C:\\Users\\tszki\\Anaconda3\\envs\\momentum_trading_research\\lib\\site-packages\\sklearn\\utils\\validation.py:1143: DataConversionWarning: A column-vector y was passed when a 1d array was expected. Please change the shape of y to (n_samples, ), for example using ravel().\n",
      "  y = column_or_1d(y, warn=True)\n",
      "C:\\Users\\tszki\\Anaconda3\\envs\\momentum_trading_research\\lib\\site-packages\\sklearn\\utils\\validation.py:1143: DataConversionWarning: A column-vector y was passed when a 1d array was expected. Please change the shape of y to (n_samples, ), for example using ravel().\n",
      "  y = column_or_1d(y, warn=True)\n",
      "C:\\Users\\tszki\\Anaconda3\\envs\\momentum_trading_research\\lib\\site-packages\\sklearn\\utils\\validation.py:1143: DataConversionWarning: A column-vector y was passed when a 1d array was expected. Please change the shape of y to (n_samples, ), for example using ravel().\n",
      "  y = column_or_1d(y, warn=True)\n",
      "C:\\Users\\tszki\\Anaconda3\\envs\\momentum_trading_research\\lib\\site-packages\\sklearn\\utils\\validation.py:1143: DataConversionWarning: A column-vector y was passed when a 1d array was expected. Please change the shape of y to (n_samples, ), for example using ravel().\n",
      "  y = column_or_1d(y, warn=True)\n",
      "C:\\Users\\tszki\\Anaconda3\\envs\\momentum_trading_research\\lib\\site-packages\\sklearn\\utils\\validation.py:1143: DataConversionWarning: A column-vector y was passed when a 1d array was expected. Please change the shape of y to (n_samples, ), for example using ravel().\n",
      "  y = column_or_1d(y, warn=True)\n",
      "C:\\Users\\tszki\\Anaconda3\\envs\\momentum_trading_research\\lib\\site-packages\\sklearn\\utils\\validation.py:1143: DataConversionWarning: A column-vector y was passed when a 1d array was expected. Please change the shape of y to (n_samples, ), for example using ravel().\n",
      "  y = column_or_1d(y, warn=True)\n",
      "C:\\Users\\tszki\\Anaconda3\\envs\\momentum_trading_research\\lib\\site-packages\\sklearn\\utils\\validation.py:1143: DataConversionWarning: A column-vector y was passed when a 1d array was expected. Please change the shape of y to (n_samples, ), for example using ravel().\n",
      "  y = column_or_1d(y, warn=True)\n",
      "C:\\Users\\tszki\\Anaconda3\\envs\\momentum_trading_research\\lib\\site-packages\\sklearn\\utils\\validation.py:1143: DataConversionWarning: A column-vector y was passed when a 1d array was expected. Please change the shape of y to (n_samples, ), for example using ravel().\n",
      "  y = column_or_1d(y, warn=True)\n",
      "C:\\Users\\tszki\\Anaconda3\\envs\\momentum_trading_research\\lib\\site-packages\\sklearn\\utils\\validation.py:1143: DataConversionWarning: A column-vector y was passed when a 1d array was expected. Please change the shape of y to (n_samples, ), for example using ravel().\n",
      "  y = column_or_1d(y, warn=True)\n",
      "C:\\Users\\tszki\\Anaconda3\\envs\\momentum_trading_research\\lib\\site-packages\\sklearn\\utils\\validation.py:1143: DataConversionWarning: A column-vector y was passed when a 1d array was expected. Please change the shape of y to (n_samples, ), for example using ravel().\n",
      "  y = column_or_1d(y, warn=True)\n",
      "C:\\Users\\tszki\\Anaconda3\\envs\\momentum_trading_research\\lib\\site-packages\\sklearn\\utils\\validation.py:1143: DataConversionWarning: A column-vector y was passed when a 1d array was expected. Please change the shape of y to (n_samples, ), for example using ravel().\n",
      "  y = column_or_1d(y, warn=True)\n",
      "C:\\Users\\tszki\\Anaconda3\\envs\\momentum_trading_research\\lib\\site-packages\\sklearn\\utils\\validation.py:1143: DataConversionWarning: A column-vector y was passed when a 1d array was expected. Please change the shape of y to (n_samples, ), for example using ravel().\n",
      "  y = column_or_1d(y, warn=True)\n",
      "C:\\Users\\tszki\\Anaconda3\\envs\\momentum_trading_research\\lib\\site-packages\\sklearn\\utils\\validation.py:1143: DataConversionWarning: A column-vector y was passed when a 1d array was expected. Please change the shape of y to (n_samples, ), for example using ravel().\n",
      "  y = column_or_1d(y, warn=True)\n",
      "C:\\Users\\tszki\\Anaconda3\\envs\\momentum_trading_research\\lib\\site-packages\\sklearn\\utils\\validation.py:1143: DataConversionWarning: A column-vector y was passed when a 1d array was expected. Please change the shape of y to (n_samples, ), for example using ravel().\n",
      "  y = column_or_1d(y, warn=True)\n",
      "C:\\Users\\tszki\\Anaconda3\\envs\\momentum_trading_research\\lib\\site-packages\\sklearn\\utils\\validation.py:1143: DataConversionWarning: A column-vector y was passed when a 1d array was expected. Please change the shape of y to (n_samples, ), for example using ravel().\n",
      "  y = column_or_1d(y, warn=True)\n",
      "C:\\Users\\tszki\\Anaconda3\\envs\\momentum_trading_research\\lib\\site-packages\\sklearn\\utils\\validation.py:1143: DataConversionWarning: A column-vector y was passed when a 1d array was expected. Please change the shape of y to (n_samples, ), for example using ravel().\n",
      "  y = column_or_1d(y, warn=True)\n",
      "C:\\Users\\tszki\\Anaconda3\\envs\\momentum_trading_research\\lib\\site-packages\\sklearn\\utils\\validation.py:1143: DataConversionWarning: A column-vector y was passed when a 1d array was expected. Please change the shape of y to (n_samples, ), for example using ravel().\n",
      "  y = column_or_1d(y, warn=True)\n",
      "C:\\Users\\tszki\\Anaconda3\\envs\\momentum_trading_research\\lib\\site-packages\\sklearn\\utils\\validation.py:1143: DataConversionWarning: A column-vector y was passed when a 1d array was expected. Please change the shape of y to (n_samples, ), for example using ravel().\n",
      "  y = column_or_1d(y, warn=True)\n",
      "C:\\Users\\tszki\\Anaconda3\\envs\\momentum_trading_research\\lib\\site-packages\\sklearn\\utils\\validation.py:1143: DataConversionWarning: A column-vector y was passed when a 1d array was expected. Please change the shape of y to (n_samples, ), for example using ravel().\n",
      "  y = column_or_1d(y, warn=True)\n"
     ]
    }
   ],
   "source": [
    "result = {\"Window length\":[], \"Accuracy\":[]}\n",
    "\n",
    "\n",
    "for i in range(20, 150):\n",
    "    #Set up a loop to check if the model accuracy improve with the length of long window\n",
    "    long_window = i\n",
    "\n",
    "    df[\"Short_window\"] = pct_change(list(df[\"Closing price\"])).rolling(short_window).mean()\n",
    "    df[\"Long_window\"] = pct_change(list(df[\"Closing price\"])).rolling(long_window).mean()\n",
    "    # df[\"RSI_pct_change\"] = pct_change(list(df[\"RSI\"]))\n",
    "\n",
    "    df[\"RSI_range\"] = range_interval(df[\"RSI\"], 65, 38)\n",
    "    df[\"WMV_pct_change\"] = pct_change(list(df['WeightedMovingAverage']))\n",
    "    df[\"WilliamR_range\"] = range_interval(df[\"WilliamR\"], -80, -20)\n",
    "\n",
    "\n",
    "    # df[\"Short_window\"].plot()\n",
    "    # df[\"Long_window\"].plot()\n",
    "\n",
    "    df[\"Short window bin\"] = turn_trend_into_bin(df[\"Short_window\"])\n",
    "    df[\"Long window bin\"] = turn_trend_into_bin(df[\"Long_window\"])\n",
    "    # df[\"RSI_bin\"] = turn_trend_into_bin(df[\"RSI_pct_change\"])\n",
    "    df[\"WMV_bin\"] = turn_trend_into_bin(df[\"WMV_pct_change\"])\n",
    "\n",
    "\n",
    "    df = df.fillna(method=\"ffill\")\n",
    "    df.to_csv(\"pre_model.csv\")\n",
    "\n",
    "    model = rf_model.model(\"pre_model.csv\", \"data.csv\")\n",
    "\n",
    "    result[\"Window length\"].append(long_window)\n",
    "    result[\"Accuracy\"].append(model.svm_model(using, [\"Long window bin\"]))\n"
   ],
   "metadata": {
    "collapsed": false,
    "pycharm": {
     "name": "#%%\n"
    }
   }
  },
  {
   "cell_type": "code",
   "execution_count": 13,
   "outputs": [
    {
     "data": {
      "text/plain": "Text(0.5, 0, 'Time frame')"
     },
     "execution_count": 13,
     "metadata": {},
     "output_type": "execute_result"
    },
    {
     "data": {
      "text/plain": "<Figure size 640x480 with 1 Axes>",
      "image/png": "[encoded data removed]"
     },
     "metadata": {},
     "output_type": "display_data"
    }
   ],
   "source": [
    "import rf_model\n",
    "df = pd.DataFrame(result)\n",
    "plt.scatter(x = df[\"Window length\"], y = df[\"Accuracy\"])\n",
    "plt.title(\"Graph of accuracy score of SVM classification model against return time frame\")\n",
    "plt.ylabel(\"Accuracy score\")\n",
    "plt.xlabel(\"Time frame\")"
   ],
   "metadata": {
    "collapsed": false,
    "pycharm": {
     "name": "#%%\n"
    }
   }
  },
  {
   "cell_type": "code",
   "execution_count": null,
   "metadata": {
    "ExecuteTime": {
     "end_time": "2023-05-27T05:20:51.503655300Z",
     "start_time": "2023-05-27T05:20:51.473628200Z"
    },
    "collapsed": false
   },
   "outputs": [],
   "source": [
    "X_train, X_test, y_train, y_test = train_test_split(X, y, test_size=0.2, random_state=0)"
   ]
  },
  {
   "cell_type": "code",
   "execution_count": null,
   "metadata": {
    "ExecuteTime": {
     "end_time": "2023-05-27T05:20:52.428292Z",
     "start_time": "2023-05-27T05:20:52.414276600Z"
    },
    "collapsed": false
   },
   "outputs": [],
   "source": [
    "#one hot encode outputs\n",
    "y_train = to_categorical(y_train)\n",
    "y_test = to_categorical(y_test)\n",
    "\n",
    "count_classes = y_test.shape[1]\n",
    "print(count_classes)"
   ]
  },
  {
   "cell_type": "code",
   "execution_count": null,
   "metadata": {
    "ExecuteTime": {
     "end_time": "2023-05-27T05:20:55.587258900Z",
     "start_time": "2023-05-27T05:20:53.161005800Z"
    },
    "collapsed": false
   },
   "outputs": [],
   "source": [
    "model = Sequential()\n",
    "input_dimension = len(using)\n",
    "model.add(Dense(500, activation='relu', input_dim=input_dimension))\n",
    "model.add(Dense(100, activation='relu'))\n",
    "model.add(Dense(50, activation='relu'))\n",
    "model.add(Dense(2, activation='softmax'))\n",
    "\n",
    "# Compile the model\n",
    "model.compile(optimizer='adam',\n",
    "              loss='categorical_crossentropy',\n",
    "              metrics=['accuracy'])\n",
    "\n",
    "# build the model\n",
    "model.fit(X_train, y_train, epochs=20)"
   ]
  },
  {
   "cell_type": "code",
   "execution_count": null,
   "metadata": {
    "ExecuteTime": {
     "end_time": "2023-05-27T05:07:52.768892900Z",
     "start_time": "2023-05-27T05:07:52.361981700Z"
    },
    "collapsed": false
   },
   "outputs": [],
   "source": [
    "pred_train= model.predict(X_train)\n",
    "scores = model.evaluate(X_train, y_train, verbose=0)\n",
    "print('Accuracy on training data: {}% \\n Error on training data: {}'.format(scores[1], 1 - scores[1]))\n",
    "\n",
    "pred_test= model.predict(X_test)\n",
    "scores2 = model.evaluate(X_test, y_test, verbose=0)\n",
    "print('Accuracy on test data: {}% \\n Error on test data: {}'.format(scores2[1], 1 - scores2[1]))"
   ]
  },
  {
   "cell_type": "code",
   "execution_count": null,
   "metadata": {
    "ExecuteTime": {
     "end_time": "2023-05-17T06:37:57.480178600Z",
     "start_time": "2023-05-17T06:37:57.354064Z"
    },
    "collapsed": false
   },
   "outputs": [],
   "source": [
    "#Random forest classifier\n",
    "rf = RandomForestClassifier()\n",
    "rf.fit(X_train, y_train)\n",
    "y_pred = rf.predict(X_test)\n",
    "accuracy = accuracy_score(y_test, y_pred)\n",
    "print(\"Accuracy:\", accuracy)\n"
   ]
  },
  {
   "cell_type": "code",
   "execution_count": null,
   "metadata": {
    "ExecuteTime": {
     "end_time": "2023-05-17T06:49:20.282150100Z",
     "start_time": "2023-05-17T06:49:17.556565900Z"
    },
    "collapsed": false
   },
   "outputs": [],
   "source": [
    "import data_api\n",
    "connection = data_api.API_connection()\n",
    "\n",
    "df_raw = connection.backtester_data_usage(\"daily\", \"AXL\", \"NA\")\n",
    "print(df_raw)\n",
    "\n",
    "df = pd.read_csv(\"evaluation2.csv\")\n",
    "\n",
    "\n",
    "df[\"Closing price\"] = df_raw[\"Close\"]\n",
    "\n",
    "df[\"Short_window\"] = pct_change(list(df[\"Closing price\"])).rolling(short_window).mean()\n",
    "df[\"Long_window\"] = pct_change(list(df[\"Closing price\"])).rolling(long_window).mean()\n",
    "# df[\"RSI_pct_change\"] = pct_change(list(df[\"RSI\"]))\n",
    "\n",
    "df[\"RSI_range\"] = range_interval(df[\"RSI\"], 65, 38)\n",
    "df[\"WMV_pct_change\"] = pct_change(list(df['WeightedMovingAverage']))\n",
    "\n",
    "df[\"Short window bin\"] = turn_trend_into_bin(df[\"Short_window\"])\n",
    "df[\"Long window bin\"] = turn_trend_into_bin(df[\"Long_window\"])\n",
    "# df[\"RSI_bin\"] = turn_trend_into_bin(df[\"RSI_pct_change\"])\n",
    "df[\"WMV_bin\"] = turn_trend_into_bin(df[\"WMV_pct_change\"])\n",
    "\n",
    "df = df.fillna(method=\"ffill\")\n",
    "\n",
    "X_test = df[using].values # Features\n",
    "# X_test = X_test[using]"
   ]
  },
  {
   "cell_type": "code",
   "execution_count": null,
   "metadata": {
    "ExecuteTime": {
     "end_time": "2023-05-17T06:49:23.341109800Z",
     "start_time": "2023-05-17T06:49:23.288045Z"
    },
    "collapsed": false
   },
   "outputs": [],
   "source": [
    "\n",
    "y_test = df[\"Short window bin\"]\n",
    "\n",
    "y_pred = rf.predict(X_test)\n",
    "result_df=pd.DataFrame({'Actual':y_test, 'Predicted':y_pred})\n",
    "result_df\n",
    "\n",
    "accuracy = accuracy_score(y_test, y_pred)\n",
    "print(\"Accuracy:\", accuracy)"
   ]
  },
  {
   "cell_type": "code",
   "execution_count": null,
   "metadata": {
    "ExecuteTime": {
     "end_time": "2023-05-17T07:00:54.896375700Z",
     "start_time": "2023-05-17T07:00:54.875462400Z"
    },
    "collapsed": false
   },
   "outputs": [],
   "source": [
    "pred = rf.predict(pd.DataFrame({\"RSI_range\":0, \"WMV_bin\":-1}, index=[0]))\n",
    "pred"
   ]
  },
  {
   "cell_type": "code",
   "execution_count": null,
   "metadata": {
    "collapsed": false
   },
   "outputs": [],
   "source": [
    "# Export the first three decision trees from the forest\n",
    "\n",
    "for i in range(3):\n",
    "    tree = rf.estimators_[i]\n",
    "    dot_data = export_graphviz(tree,\n",
    "                               feature_names=X_train.columns,\n",
    "                               filled=True,\n",
    "                               max_depth=2,\n",
    "                               impurity=False,\n",
    "                               proportion=True)\n",
    "    graph = graphviz.Source(dot_data)\n",
    "    display(graph)"
   ]
  },
  {
   "cell_type": "code",
   "execution_count": null,
   "metadata": {
    "collapsed": false
   },
   "outputs": [],
   "source": [
    "# Create Decision Tree classifer object\n",
    "clf = DecisionTreeClassifier()\n",
    "\n",
    "# Train Decision Tree Classifer\n",
    "clf = clf.fit(X, y)\n",
    "\n",
    "#Predict the response for test dataset\n",
    "y_pred = clf.predict(X_test)"
   ]
  },
  {
   "cell_type": "code",
   "execution_count": null,
   "metadata": {
    "collapsed": false
   },
   "outputs": [],
   "source": [
    "print(\"Accuracy:\",sklearn.metrics.accuracy_score(y_test, y_pred))"
   ]
  },
  {
   "cell_type": "code",
   "execution_count": null,
   "metadata": {
    "collapsed": false
   },
   "outputs": [],
   "source": [
    "pip install graphviz"
   ]
  },
  {
   "cell_type": "code",
   "execution_count": null,
   "metadata": {
    "collapsed": false
   },
   "outputs": [],
   "source": [
    "from sklearn.tree import export_graphviz\n",
    "from six import StringIO\n",
    "from IPython.display import Image\n",
    "import pydotplus\n",
    "\n",
    "dot_data = StringIO()\n",
    "export_graphviz(clf, out_file=dot_data,\n",
    "                filled=True, rounded=True,\n",
    "                special_characters=True,feature_names = using,class_names=None)\n",
    "graph = pydotplus.graph_from_dot_data(dot_data.getvalue())\n",
    "graph.write_png('diabetes.png')\n",
    "Image(graph.create_png())"
   ]
  },
  {
   "cell_type": "code",
   "execution_count": null,
   "metadata": {
    "collapsed": false
   },
   "outputs": [],
   "source": [
    "from sklearn import preprocessing as pp\n",
    "\n",
    "sc = pp.StandardScaler()\n",
    "normed_train_data = pd.DataFrame(sc.fit_transform(X_train), columns = [\"RSI_TER\", \"WMV_bin\"])\n",
    "normed_test_data = pd.DataFrame(sc.fit_transform(X_test), columns = [\"RSI_TER\", \"WMV_bin\"])"
   ]
  },
  {
   "cell_type": "code",
   "execution_count": null,
   "metadata": {
    "collapsed": false
   },
   "outputs": [],
   "source": [
    "testing_set = df[['ExponentialMovingAverage', 'WeightedMovingAverage','StochasticSlow', 'MACDHisto', 'RSI', 'SmoothedMovingAverage', 'ATR']]"
   ]
  },
  {
   "cell_type": "code",
   "execution_count": null,
   "metadata": {
    "collapsed": false
   },
   "outputs": [],
   "source": [
    "import seaborn\n",
    "\n",
    "seaborn.pairplot(testing_set)"
   ]
  },
  {
   "cell_type": "code",
   "execution_count": null,
   "metadata": {
    "collapsed": false
   },
   "outputs": [],
   "source": []
  }
 ],
 "metadata": {
  "kernelspec": {
   "name": "pycharm-1b423ecb",
   "language": "python",
   "display_name": "PyCharm (momentum_trading_research)"
  },
  "language_info": {
   "codemirror_mode": {
    "name": "ipython",
    "version": 3
   },
   "file_extension": ".py",
   "mimetype": "text/x-python",
   "name": "python",
   "nbconvert_exporter": "python",
   "pygments_lexer": "ipython3",
   "version": "3.8.5"
  }
 },
 "nbformat": 4,
 "nbformat_minor": 0
}