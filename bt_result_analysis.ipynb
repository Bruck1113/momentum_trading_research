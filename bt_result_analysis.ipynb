{
 "cells": [
  {
   "cell_type": "code",
   "execution_count": 2,
   "metadata": {
    "collapsed": true,
    "ExecuteTime": {
     "end_time": "2023-05-19T11:04:16.951688800Z",
     "start_time": "2023-05-19T11:04:15.882724700Z"
    }
   },
   "outputs": [],
   "source": [
    "import seaborn\n",
    "\n",
    "import yfinance as yf\n",
    "import pandas as pd\n",
    "import openpyxl\n",
    "import numpy as np\n",
    "import matplotlib.pyplot as plt\n",
    "from matplotlib.pyplot import figure\n",
    "import statsmodels\n",
    "import seaborn as sns\n",
    "import scipy\n",
    "from scipy import stats\n",
    "from statistics import mean\n",
    "\n",
    "\n",
    "import statsmodels.tsa.api as tsa\n",
    "from statsmodels.graphics.tsaplots import plot_acf, plot_pacf\n",
    "from statsmodels.tsa.stattools import acf, q_stat, adfuller\n",
    "from scipy.stats import probplot, moment\n",
    "import requests\n",
    "\n",
    "import graphviz\n",
    "import pydotplus\n",
    "\n",
    "import eikon as ek  # the Eikon Python wrapper package\n",
    "import configparser as cp\n",
    "\n",
    "import sklearn\n",
    "from sklearn import tree\n",
    "from sklearn.tree import DecisionTreeClassifier\n",
    "# Load libraries\n",
    "from sklearn.tree import DecisionTreeClassifier # Import Decision Tree Classifier\n",
    "from sklearn.model_selection import train_test_split # Import train_test_split function\n",
    "from sklearn import metrics #Import scikit-learn metrics module for accuracy calculation\n",
    "from sklearn.ensemble import RandomForestClassifier\n",
    "from sklearn.metrics import accuracy_score, confusion_matrix, precision_score, recall_score, ConfusionMatrixDisplay\n",
    "from sklearn.model_selection import RandomizedSearchCV, train_test_split\n",
    "from scipy.stats import randint\n"
   ]
  },
  {
   "cell_type": "code",
   "execution_count": 3,
   "outputs": [
    {
     "data": {
      "text/plain": "      Unnamed: 0  ExponentialMovingAverage  WeightedMovingAverage  \\\n33            33                 22.272977              21.817292   \n34            34                 22.101210              21.629477   \n35            35                 21.901116              21.412308   \n36            36                 21.711031              21.203385   \n37            37                 21.532490              21.005077   \n...          ...                       ...                    ...   \n2807        2807                 46.789227              47.166400   \n2808        2808                 46.867748              47.260862   \n2809        2809                 46.996383              47.397015   \n2810        2810                 47.065122              47.469477   \n2811        2811                 47.185498              47.588923   \n\n      StochasticSlow  MACDHisto        RSI  SmoothedMovingAverage       ATR  \\\n33         23.841060  -0.918013  39.884703              41.656040  0.891948   \n34         17.849824  -0.961326  34.859427              40.976378  0.897523   \n35          9.237057  -1.027382  32.062684              40.085009  0.879129   \n36          4.833056  -1.073011  31.707557              39.247264  0.888477   \n37          5.914418  -1.099724  31.492901              38.471827  0.846800   \n...              ...        ...        ...                    ...       ...   \n2807       62.112587   0.661628  55.296724              56.222562  1.205445   \n2808       59.898798   0.644233  56.331946              56.233501  1.156485   \n2809       62.745098   0.681497  59.975287              56.607679  1.133879   \n2810       64.516129   0.651074  55.532473              56.500159  1.115388   \n2811       68.465809   0.678850  59.234829              56.773626  1.107860   \n\n            time         value        AO   WilliamR  \n33    2012-05-02  1.000000e+07 -1.970281 -78.807947  \n34    2012-05-03  1.000000e+07 -1.942963 -96.119403  \n35    2012-05-04  1.000000e+07 -2.078287 -97.361478  \n36    2012-05-07  1.000040e+07 -2.242728 -92.019950  \n37    2012-05-08  1.000059e+07 -2.445313 -92.875318  \n...          ...           ...       ...        ...  \n2807  2023-05-11  1.011187e+07  1.698687 -44.402277  \n2808  2023-05-12  1.011187e+07  1.711540 -40.607211  \n2809  2023-05-15  1.011187e+07  1.663628 -26.755218  \n2810  2023-05-16  1.011187e+07  1.580319 -39.089184  \n2811  2023-05-17  1.011187e+07  1.520025 -28.758170  \n\n[2779 rows x 12 columns]",
      "text/html": "<div>\n<style scoped>\n    .dataframe tbody tr th:only-of-type {\n        vertical-align: middle;\n    }\n\n    .dataframe tbody tr th {\n        vertical-align: top;\n    }\n\n    .dataframe thead th {\n        text-align: right;\n    }\n</style>\n<table border=\"1\" class=\"dataframe\">\n  <thead>\n    <tr style=\"text-align: right;\">\n      <th></th>\n      <th>Unnamed: 0</th>\n      <th>ExponentialMovingAverage</th>\n      <th>WeightedMovingAverage</th>\n      <th>StochasticSlow</th>\n      <th>MACDHisto</th>\n      <th>RSI</th>\n      <th>SmoothedMovingAverage</th>\n      <th>ATR</th>\n      <th>time</th>\n      <th>value</th>\n      <th>AO</th>\n      <th>WilliamR</th>\n    </tr>\n  </thead>\n  <tbody>\n    <tr>\n      <th>33</th>\n      <td>33</td>\n      <td>22.272977</td>\n      <td>21.817292</td>\n      <td>23.841060</td>\n      <td>-0.918013</td>\n      <td>39.884703</td>\n      <td>41.656040</td>\n      <td>0.891948</td>\n      <td>2012-05-02</td>\n      <td>1.000000e+07</td>\n      <td>-1.970281</td>\n      <td>-78.807947</td>\n    </tr>\n    <tr>\n      <th>34</th>\n      <td>34</td>\n      <td>22.101210</td>\n      <td>21.629477</td>\n      <td>17.849824</td>\n      <td>-0.961326</td>\n      <td>34.859427</td>\n      <td>40.976378</td>\n      <td>0.897523</td>\n      <td>2012-05-03</td>\n      <td>1.000000e+07</td>\n      <td>-1.942963</td>\n      <td>-96.119403</td>\n    </tr>\n    <tr>\n      <th>35</th>\n      <td>35</td>\n      <td>21.901116</td>\n      <td>21.412308</td>\n      <td>9.237057</td>\n      <td>-1.027382</td>\n      <td>32.062684</td>\n      <td>40.085009</td>\n      <td>0.879129</td>\n      <td>2012-05-04</td>\n      <td>1.000000e+07</td>\n      <td>-2.078287</td>\n      <td>-97.361478</td>\n    </tr>\n    <tr>\n      <th>36</th>\n      <td>36</td>\n      <td>21.711031</td>\n      <td>21.203385</td>\n      <td>4.833056</td>\n      <td>-1.073011</td>\n      <td>31.707557</td>\n      <td>39.247264</td>\n      <td>0.888477</td>\n      <td>2012-05-07</td>\n      <td>1.000040e+07</td>\n      <td>-2.242728</td>\n      <td>-92.019950</td>\n    </tr>\n    <tr>\n      <th>37</th>\n      <td>37</td>\n      <td>21.532490</td>\n      <td>21.005077</td>\n      <td>5.914418</td>\n      <td>-1.099724</td>\n      <td>31.492901</td>\n      <td>38.471827</td>\n      <td>0.846800</td>\n      <td>2012-05-08</td>\n      <td>1.000059e+07</td>\n      <td>-2.445313</td>\n      <td>-92.875318</td>\n    </tr>\n    <tr>\n      <th>...</th>\n      <td>...</td>\n      <td>...</td>\n      <td>...</td>\n      <td>...</td>\n      <td>...</td>\n      <td>...</td>\n      <td>...</td>\n      <td>...</td>\n      <td>...</td>\n      <td>...</td>\n      <td>...</td>\n      <td>...</td>\n    </tr>\n    <tr>\n      <th>2807</th>\n      <td>2807</td>\n      <td>46.789227</td>\n      <td>47.166400</td>\n      <td>62.112587</td>\n      <td>0.661628</td>\n      <td>55.296724</td>\n      <td>56.222562</td>\n      <td>1.205445</td>\n      <td>2023-05-11</td>\n      <td>1.011187e+07</td>\n      <td>1.698687</td>\n      <td>-44.402277</td>\n    </tr>\n    <tr>\n      <th>2808</th>\n      <td>2808</td>\n      <td>46.867748</td>\n      <td>47.260862</td>\n      <td>59.898798</td>\n      <td>0.644233</td>\n      <td>56.331946</td>\n      <td>56.233501</td>\n      <td>1.156485</td>\n      <td>2023-05-12</td>\n      <td>1.011187e+07</td>\n      <td>1.711540</td>\n      <td>-40.607211</td>\n    </tr>\n    <tr>\n      <th>2809</th>\n      <td>2809</td>\n      <td>46.996383</td>\n      <td>47.397015</td>\n      <td>62.745098</td>\n      <td>0.681497</td>\n      <td>59.975287</td>\n      <td>56.607679</td>\n      <td>1.133879</td>\n      <td>2023-05-15</td>\n      <td>1.011187e+07</td>\n      <td>1.663628</td>\n      <td>-26.755218</td>\n    </tr>\n    <tr>\n      <th>2810</th>\n      <td>2810</td>\n      <td>47.065122</td>\n      <td>47.469477</td>\n      <td>64.516129</td>\n      <td>0.651074</td>\n      <td>55.532473</td>\n      <td>56.500159</td>\n      <td>1.115388</td>\n      <td>2023-05-16</td>\n      <td>1.011187e+07</td>\n      <td>1.580319</td>\n      <td>-39.089184</td>\n    </tr>\n    <tr>\n      <th>2811</th>\n      <td>2811</td>\n      <td>47.185498</td>\n      <td>47.588923</td>\n      <td>68.465809</td>\n      <td>0.678850</td>\n      <td>59.234829</td>\n      <td>56.773626</td>\n      <td>1.107860</td>\n      <td>2023-05-17</td>\n      <td>1.011187e+07</td>\n      <td>1.520025</td>\n      <td>-28.758170</td>\n    </tr>\n  </tbody>\n</table>\n<p>2779 rows × 12 columns</p>\n</div>"
     },
     "execution_count": 3,
     "metadata": {},
     "output_type": "execute_result"
    }
   ],
   "source": [
    "df = pd.read_csv(\"evaluation.csv\")\n",
    "df = df.dropna()\n",
    "df"
   ],
   "metadata": {
    "collapsed": false,
    "ExecuteTime": {
     "end_time": "2023-05-19T11:04:18.064111900Z",
     "start_time": "2023-05-19T11:04:18.011062700Z"
    }
   }
  },
  {
   "cell_type": "code",
   "execution_count": 4,
   "outputs": [
    {
     "data": {
      "text/plain": "      Unnamed: 0    Datetime   Open    High     Low  Close      Volume\n0              0  2012-03-15  23.00  23.500  22.700  23.40  13911300.0\n1              1  2012-03-16  23.65  24.930  23.550  24.55   2063000.0\n2              2  2012-03-19  24.50  25.000  24.060  24.85    974300.0\n3              3  2012-03-20  24.71  25.200  24.250  24.80    444400.0\n4              4  2012-03-21  24.65  25.180  24.130  24.25    782300.0\n...          ...         ...    ...     ...     ...    ...         ...\n2808        2808  2023-05-12  47.69  47.980  47.460  47.81    525703.0\n2809        2809  2023-05-15  48.00  48.620  47.780  48.54    569858.0\n2810        2810  2023-05-16  48.33  48.405  47.665  47.89    748986.0\n2811        2811  2023-05-17  48.12  48.840  47.830  48.63    666228.0\n2812        2812  2023-05-18  48.50  49.370  48.240  49.26    767826.0\n\n[2813 rows x 7 columns]",
      "text/html": "<div>\n<style scoped>\n    .dataframe tbody tr th:only-of-type {\n        vertical-align: middle;\n    }\n\n    .dataframe tbody tr th {\n        vertical-align: top;\n    }\n\n    .dataframe thead th {\n        text-align: right;\n    }\n</style>\n<table border=\"1\" class=\"dataframe\">\n  <thead>\n    <tr style=\"text-align: right;\">\n      <th></th>\n      <th>Unnamed: 0</th>\n      <th>Datetime</th>\n      <th>Open</th>\n      <th>High</th>\n      <th>Low</th>\n      <th>Close</th>\n      <th>Volume</th>\n    </tr>\n  </thead>\n  <tbody>\n    <tr>\n      <th>0</th>\n      <td>0</td>\n      <td>2012-03-15</td>\n      <td>23.00</td>\n      <td>23.500</td>\n      <td>22.700</td>\n      <td>23.40</td>\n      <td>13911300.0</td>\n    </tr>\n    <tr>\n      <th>1</th>\n      <td>1</td>\n      <td>2012-03-16</td>\n      <td>23.65</td>\n      <td>24.930</td>\n      <td>23.550</td>\n      <td>24.55</td>\n      <td>2063000.0</td>\n    </tr>\n    <tr>\n      <th>2</th>\n      <td>2</td>\n      <td>2012-03-19</td>\n      <td>24.50</td>\n      <td>25.000</td>\n      <td>24.060</td>\n      <td>24.85</td>\n      <td>974300.0</td>\n    </tr>\n    <tr>\n      <th>3</th>\n      <td>3</td>\n      <td>2012-03-20</td>\n      <td>24.71</td>\n      <td>25.200</td>\n      <td>24.250</td>\n      <td>24.80</td>\n      <td>444400.0</td>\n    </tr>\n    <tr>\n      <th>4</th>\n      <td>4</td>\n      <td>2012-03-21</td>\n      <td>24.65</td>\n      <td>25.180</td>\n      <td>24.130</td>\n      <td>24.25</td>\n      <td>782300.0</td>\n    </tr>\n    <tr>\n      <th>...</th>\n      <td>...</td>\n      <td>...</td>\n      <td>...</td>\n      <td>...</td>\n      <td>...</td>\n      <td>...</td>\n      <td>...</td>\n    </tr>\n    <tr>\n      <th>2808</th>\n      <td>2808</td>\n      <td>2023-05-12</td>\n      <td>47.69</td>\n      <td>47.980</td>\n      <td>47.460</td>\n      <td>47.81</td>\n      <td>525703.0</td>\n    </tr>\n    <tr>\n      <th>2809</th>\n      <td>2809</td>\n      <td>2023-05-15</td>\n      <td>48.00</td>\n      <td>48.620</td>\n      <td>47.780</td>\n      <td>48.54</td>\n      <td>569858.0</td>\n    </tr>\n    <tr>\n      <th>2810</th>\n      <td>2810</td>\n      <td>2023-05-16</td>\n      <td>48.33</td>\n      <td>48.405</td>\n      <td>47.665</td>\n      <td>47.89</td>\n      <td>748986.0</td>\n    </tr>\n    <tr>\n      <th>2811</th>\n      <td>2811</td>\n      <td>2023-05-17</td>\n      <td>48.12</td>\n      <td>48.840</td>\n      <td>47.830</td>\n      <td>48.63</td>\n      <td>666228.0</td>\n    </tr>\n    <tr>\n      <th>2812</th>\n      <td>2812</td>\n      <td>2023-05-18</td>\n      <td>48.50</td>\n      <td>49.370</td>\n      <td>48.240</td>\n      <td>49.26</td>\n      <td>767826.0</td>\n    </tr>\n  </tbody>\n</table>\n<p>2813 rows × 7 columns</p>\n</div>"
     },
     "execution_count": 4,
     "metadata": {},
     "output_type": "execute_result"
    }
   ],
   "source": [
    "price_df = pd.read_csv(\"data.csv\")\n",
    "price_df\n",
    "\n",
    "\n"
   ],
   "metadata": {
    "collapsed": false,
    "ExecuteTime": {
     "end_time": "2023-05-19T11:04:33.745749Z",
     "start_time": "2023-05-19T11:04:33.705713200Z"
    }
   }
  },
  {
   "cell_type": "code",
   "execution_count": 5,
   "outputs": [],
   "source": [
    "df[\"Closing price\"] = price_df[\"Close\"]"
   ],
   "metadata": {
    "collapsed": false,
    "ExecuteTime": {
     "end_time": "2023-05-19T11:04:41.727167900Z",
     "start_time": "2023-05-19T11:04:41.712595100Z"
    }
   }
  },
  {
   "cell_type": "code",
   "execution_count": 6,
   "outputs": [
    {
     "data": {
      "text/plain": "Index(['Unnamed: 0', 'ExponentialMovingAverage', 'WeightedMovingAverage',\n       'StochasticSlow', 'MACDHisto', 'RSI', 'SmoothedMovingAverage', 'ATR',\n       'time', 'value', 'AO', 'WilliamR', 'Closing price'],\n      dtype='object')"
     },
     "execution_count": 6,
     "metadata": {},
     "output_type": "execute_result"
    }
   ],
   "source": [
    "df.columns"
   ],
   "metadata": {
    "collapsed": false,
    "ExecuteTime": {
     "end_time": "2023-05-19T11:04:43.099531200Z",
     "start_time": "2023-05-19T11:04:43.082515500Z"
    }
   }
  },
  {
   "cell_type": "code",
   "execution_count": 7,
   "outputs": [],
   "source": [
    "df[\"Short_window\"] = df[\"Closing price\"].rolling(3).mean\n",
    "df[\"Short_window\"] = df[\"Closing price\"].rolling(3).mean"
   ],
   "metadata": {
    "collapsed": false,
    "ExecuteTime": {
     "end_time": "2023-05-19T11:04:45.253304Z",
     "start_time": "2023-05-19T11:04:45.214268600Z"
    }
   }
  },
  {
   "cell_type": "code",
   "execution_count": 7,
   "outputs": [],
   "source": [],
   "metadata": {
    "collapsed": false,
    "ExecuteTime": {
     "end_time": "2023-05-19T11:04:46.342264400Z",
     "start_time": "2023-05-19T11:04:46.326250100Z"
    }
   }
  },
  {
   "cell_type": "code",
   "execution_count": 7,
   "outputs": [
    {
     "name": "stdout",
     "output_type": "stream",
     "text": [
      "25      21.21\n",
      "26      21.90\n",
      "27      20.91\n",
      "28      20.84\n",
      "29      20.50\n",
      "        ...  \n",
      "2801    47.47\n",
      "2802    46.08\n",
      "2803    47.24\n",
      "2804    48.10\n",
      "2805    48.16\n",
      "Name: Closing price, Length: 2781, dtype: float64\n"
     ]
    }
   ],
   "source": [
    "#df.drop(['Closing prrce'])\n",
    "print(df[\"Closing price\"])\n",
    "#A function to compute a new pandas series for percentage changes of items inside a list\n",
    "def pct_change(lst):\n",
    "    changes = []\n",
    "    for i in range(len(lst)):\n",
    "        if i > 0:\n",
    "            changes.append((lst[i] - lst[i-1])/lst[i-1])\n",
    "        else:\n",
    "            changes.append(0)\n",
    "\n",
    "    df = pd.DataFrame(changes, index=None)\n",
    "    return df\n",
    "\n",
    "def turn_trend_into_bin(lst):\n",
    "    lst = list(lst)\n",
    "    bin = []\n",
    "    for i in lst:\n",
    "        if i > 0:\n",
    "            bin.append(1)\n",
    "        else:\n",
    "            bin.append(-1)\n",
    "\n",
    "    return pd.DataFrame(bin, index = None)\n",
    "\n",
    "def range_interval(lst, high, low):\n",
    "    lst = list(lst)\n",
    "    ter = []\n",
    "    for i in lst:\n",
    "        if i >= high:\n",
    "            ter.append(1)\n",
    "        elif i > low:\n",
    "            ter.append(0)\n",
    "        else:\n",
    "            ter.append(-1)\n",
    "\n",
    "    return pd.DataFrame(ter, index = None)\n",
    "\n",
    "\n",
    "#changes mean\n",
    "short_window = 3\n",
    "long_window = 4\n",
    "\n",
    "df[\"Short_window\"] = pct_change(list(df[\"Closing price\"])).rolling(short_window).mean()\n",
    "df[\"Long_window\"] = pct_change(list(df[\"Closing price\"])).rolling(long_window).mean()\n",
    "# df[\"RSI_pct_change\"] = pct_change(list(df[\"RSI\"]))\n",
    "\n",
    "df[\"RSI_range\"] = range_interval(df[\"RSI\"], 65, 38)\n",
    "df[\"WMV_pct_change\"] = pct_change(list(df['WeightedMovingAverage']))\n",
    "df[\"WilliamR_range\"] = range_interval(df[\"WilliamR\"], -80, -20)"
   ],
   "metadata": {
    "collapsed": false,
    "ExecuteTime": {
     "end_time": "2023-05-17T06:37:57.342053300Z",
     "start_time": "2023-05-17T06:37:57.280997800Z"
    }
   }
  },
  {
   "cell_type": "code",
   "execution_count": 8,
   "outputs": [],
   "source": [
    "# df[\"Short_window\"].plot()\n",
    "# df[\"Long_window\"].plot()\n",
    "\n",
    "df[\"Short window bin\"] = turn_trend_into_bin(df[\"Short_window\"])\n",
    "df[\"Long window bin\"] = turn_trend_into_bin(df[\"Long_window\"])\n",
    "# df[\"RSI_bin\"] = turn_trend_into_bin(df[\"RSI_pct_change\"])\n",
    "df[\"WMV_bin\"] = turn_trend_into_bin(df[\"WMV_pct_change\"])\n",
    "\n",
    "\n",
    "df = df.fillna(method=\"ffill\")"
   ],
   "metadata": {
    "collapsed": false,
    "ExecuteTime": {
     "end_time": "2023-05-17T06:37:57.366075Z",
     "start_time": "2023-05-17T06:37:57.307021400Z"
    }
   }
  },
  {
   "cell_type": "code",
   "execution_count": 9,
   "outputs": [],
   "source": [
    "#List out combinations that might help\n",
    "comb_1 = ['WeightedMovingAverage', 'RSI_range']\n",
    "feature_cols = ['ExponentialMovingAverage', 'WeightedMovingAverage','StochasticSlow', 'MACDHisto', 'RSI', 'SmoothedMovingAverage', 'ATR']\n",
    "\n",
    "using = [\"RSI_range\", \"WMV_bin\"]\n",
    "X = df[using].values # Features\n",
    "y = df[\"Short window bin\"].values # Target variable\n",
    "\n",
    "# df_2 = pd.read_csv(\"evaluation2.csv\")\n",
    "# X_test = df_2[feature_cols].dropna().values\n",
    "# y_test = df_2[\"value\"].dropna().values"
   ],
   "metadata": {
    "collapsed": false,
    "ExecuteTime": {
     "end_time": "2023-05-17T06:37:57.366075Z",
     "start_time": "2023-05-17T06:37:57.322036Z"
    }
   }
  },
  {
   "cell_type": "code",
   "execution_count": 10,
   "outputs": [],
   "source": [
    "X_train, X_test, y_train, y_test = train_test_split(X, y, test_size=0.2, random_state=0)"
   ],
   "metadata": {
    "collapsed": false,
    "ExecuteTime": {
     "end_time": "2023-05-17T06:37:57.391097500Z",
     "start_time": "2023-05-17T06:37:57.340051500Z"
    }
   }
  },
  {
   "cell_type": "code",
   "execution_count": 11,
   "outputs": [
    {
     "name": "stdout",
     "output_type": "stream",
     "text": [
      "Accuracy: 0.6822262118491921\n"
     ]
    }
   ],
   "source": [
    "#Random forest classifier\n",
    "rf = RandomForestClassifier()\n",
    "rf.fit(X_train, y_train)\n",
    "y_pred = rf.predict(X_test)\n",
    "accuracy = accuracy_score(y_test, y_pred)\n",
    "print(\"Accuracy:\", accuracy)\n"
   ],
   "metadata": {
    "collapsed": false,
    "ExecuteTime": {
     "end_time": "2023-05-17T06:37:57.480178600Z",
     "start_time": "2023-05-17T06:37:57.354064Z"
    }
   }
  },
  {
   "cell_type": "code",
   "execution_count": 21,
   "outputs": [
    {
     "name": "stdout",
     "output_type": "stream",
     "text": [
      "TIME_SERIES_DAILY_ADJUSTED\n",
      "https://www.alphavantage.co/query?function=TIME_SERIES_DAILY_ADJUSTED&symbol=AXL&outputsize=full&apikey=FQ4QXSG40SMEWLCB\n",
      "        Datetime   Open     High     Low  Close    Volume\n",
      "0     1999-11-01  13.94  13.9400  13.500  13.63   11800.0\n",
      "1     1999-11-02  13.75  13.8800  13.750  13.75   11000.0\n",
      "2     1999-11-03  13.88  13.9400  13.750  13.94    8500.0\n",
      "3     1999-11-04  13.88  13.9400  13.750  13.94  105400.0\n",
      "4     1999-11-05  13.88  13.9400  13.810  13.94   13300.0\n",
      "...          ...    ...      ...     ...    ...       ...\n",
      "5918  2023-05-10   7.26   7.3000   7.020   7.11  829003.0\n",
      "5919  2023-05-11   7.03   7.2350   7.005   7.17  723673.0\n",
      "5920  2023-05-12   7.25   7.2600   7.000   7.11  710666.0\n",
      "5921  2023-05-15   7.20   7.2275   7.100   7.15  519140.0\n",
      "5922  2023-05-16   6.99   7.0700   6.850   6.87  747756.0\n",
      "\n",
      "[5923 rows x 6 columns]\n"
     ]
    }
   ],
   "source": [
    "import data_api\n",
    "connection = data_api.API_connection()\n",
    "\n",
    "df_raw = connection.backtester_data_usage(\"daily\", \"AXL\", \"NA\")\n",
    "print(df_raw)\n",
    "\n",
    "df = pd.read_csv(\"evaluation2.csv\")\n",
    "\n",
    "\n",
    "df[\"Closing price\"] = df_raw[\"Close\"]\n",
    "\n",
    "df[\"Short_window\"] = pct_change(list(df[\"Closing price\"])).rolling(short_window).mean()\n",
    "df[\"Long_window\"] = pct_change(list(df[\"Closing price\"])).rolling(long_window).mean()\n",
    "# df[\"RSI_pct_change\"] = pct_change(list(df[\"RSI\"]))\n",
    "\n",
    "df[\"RSI_range\"] = range_interval(df[\"RSI\"], 65, 38)\n",
    "df[\"WMV_pct_change\"] = pct_change(list(df['WeightedMovingAverage']))\n",
    "\n",
    "df[\"Short window bin\"] = turn_trend_into_bin(df[\"Short_window\"])\n",
    "df[\"Long window bin\"] = turn_trend_into_bin(df[\"Long_window\"])\n",
    "# df[\"RSI_bin\"] = turn_trend_into_bin(df[\"RSI_pct_change\"])\n",
    "df[\"WMV_bin\"] = turn_trend_into_bin(df[\"WMV_pct_change\"])\n",
    "\n",
    "df = df.fillna(method=\"ffill\")\n",
    "\n",
    "X_test = df[using].values # Features\n",
    "# X_test = X_test[using]"
   ],
   "metadata": {
    "collapsed": false,
    "ExecuteTime": {
     "end_time": "2023-05-17T06:49:20.282150100Z",
     "start_time": "2023-05-17T06:49:17.556565900Z"
    }
   }
  },
  {
   "cell_type": "code",
   "execution_count": 22,
   "outputs": [
    {
     "name": "stdout",
     "output_type": "stream",
     "text": [
      "Accuracy: 0.5103276353276354\n"
     ]
    }
   ],
   "source": [
    "\n",
    "y_test = df[\"Short window bin\"]\n",
    "\n",
    "y_pred = rf.predict(X_test)\n",
    "result_df=pd.DataFrame({'Actual':y_test, 'Predicted':y_pred})\n",
    "result_df\n",
    "\n",
    "accuracy = accuracy_score(y_test, y_pred)\n",
    "print(\"Accuracy:\", accuracy)"
   ],
   "metadata": {
    "collapsed": false,
    "ExecuteTime": {
     "end_time": "2023-05-17T06:49:23.341109800Z",
     "start_time": "2023-05-17T06:49:23.288045Z"
    }
   }
  },
  {
   "cell_type": "code",
   "execution_count": 28,
   "outputs": [
    {
     "name": "stderr",
     "output_type": "stream",
     "text": [
      "C:\\Users\\tszki\\anaconda3\\lib\\site-packages\\sklearn\\base.py:443: UserWarning: X has feature names, but RandomForestClassifier was fitted without feature names\n",
      "  warnings.warn(\n"
     ]
    },
    {
     "data": {
      "text/plain": "array([-1.])"
     },
     "execution_count": 28,
     "metadata": {},
     "output_type": "execute_result"
    }
   ],
   "source": [
    "pred = rf.predict(pd.DataFrame({\"RSI_range\":0, \"WMV_bin\":-1}, index=[0]))\n",
    "pred"
   ],
   "metadata": {
    "collapsed": false,
    "ExecuteTime": {
     "end_time": "2023-05-17T07:00:54.896375700Z",
     "start_time": "2023-05-17T07:00:54.875462400Z"
    }
   }
  },
  {
   "cell_type": "code",
   "execution_count": null,
   "outputs": [],
   "source": [
    "# Export the first three decision trees from the forest\n",
    "\n",
    "for i in range(3):\n",
    "    tree = rf.estimators_[i]\n",
    "    dot_data = export_graphviz(tree,\n",
    "                               feature_names=X_train.columns,\n",
    "                               filled=True,\n",
    "                               max_depth=2,\n",
    "                               impurity=False,\n",
    "                               proportion=True)\n",
    "    graph = graphviz.Source(dot_data)\n",
    "    display(graph)"
   ],
   "metadata": {
    "collapsed": false
   }
  },
  {
   "cell_type": "code",
   "execution_count": null,
   "outputs": [],
   "source": [
    "# Create Decision Tree classifer object\n",
    "clf = DecisionTreeClassifier()\n",
    "\n",
    "# Train Decision Tree Classifer\n",
    "clf = clf.fit(X, y)\n",
    "\n",
    "#Predict the response for test dataset\n",
    "y_pred = clf.predict(X_test)"
   ],
   "metadata": {
    "collapsed": false
   }
  },
  {
   "cell_type": "markdown",
   "source": [],
   "metadata": {
    "collapsed": false
   }
  },
  {
   "cell_type": "markdown",
   "source": [],
   "metadata": {
    "collapsed": false
   }
  },
  {
   "cell_type": "code",
   "execution_count": null,
   "outputs": [],
   "source": [
    "print(\"Accuracy:\",sklearn.metrics.accuracy_score(y_test, y_pred))"
   ],
   "metadata": {
    "collapsed": false
   }
  },
  {
   "cell_type": "code",
   "execution_count": null,
   "outputs": [],
   "source": [
    "pip install graphviz"
   ],
   "metadata": {
    "collapsed": false
   }
  },
  {
   "cell_type": "code",
   "execution_count": null,
   "outputs": [],
   "source": [
    "from sklearn.tree import export_graphviz\n",
    "from six import StringIO\n",
    "from IPython.display import Image\n",
    "import pydotplus\n",
    "\n",
    "dot_data = StringIO()\n",
    "export_graphviz(clf, out_file=dot_data,\n",
    "                filled=True, rounded=True,\n",
    "                special_characters=True,feature_names = using,class_names=None)\n",
    "graph = pydotplus.graph_from_dot_data(dot_data.getvalue())\n",
    "graph.write_png('diabetes.png')\n",
    "Image(graph.create_png())"
   ],
   "metadata": {
    "collapsed": false
   }
  },
  {
   "cell_type": "code",
   "execution_count": null,
   "outputs": [],
   "source": [
    "from sklearn import preprocessing as pp\n",
    "\n",
    "sc = pp.StandardScaler()\n",
    "normed_train_data = pd.DataFrame(sc.fit_transform(X_train), columns = [\"RSI_TER\", \"WMV_bin\"])\n",
    "normed_test_data = pd.DataFrame(sc.fit_transform(X_test), columns = [\"RSI_TER\", \"WMV_bin\"])"
   ],
   "metadata": {
    "collapsed": false
   }
  },
  {
   "cell_type": "code",
   "execution_count": null,
   "outputs": [],
   "source": [
    "testing_set = df[['ExponentialMovingAverage', 'WeightedMovingAverage','StochasticSlow', 'MACDHisto', 'RSI', 'SmoothedMovingAverage', 'ATR']]"
   ],
   "metadata": {
    "collapsed": false
   }
  },
  {
   "cell_type": "code",
   "execution_count": null,
   "outputs": [],
   "source": [
    "import seaborn\n",
    "\n",
    "seaborn.pairplot(testing_set)"
   ],
   "metadata": {
    "collapsed": false
   }
  },
  {
   "cell_type": "code",
   "execution_count": null,
   "outputs": [],
   "source": [],
   "metadata": {
    "collapsed": false
   }
  }
 ],
 "metadata": {
  "kernelspec": {
   "display_name": "Python 3",
   "language": "python",
   "name": "python3"
  },
  "language_info": {
   "codemirror_mode": {
    "name": "ipython",
    "version": 2
   },
   "file_extension": ".py",
   "mimetype": "text/x-python",
   "name": "python",
   "nbconvert_exporter": "python",
   "pygments_lexer": "ipython2",
   "version": "2.7.6"
  }
 },
 "nbformat": 4,
 "nbformat_minor": 0
}
