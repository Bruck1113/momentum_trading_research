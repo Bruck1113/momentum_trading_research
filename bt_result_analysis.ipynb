{
 "cells": [
  {
   "cell_type": "code",
   "execution_count": 1,
   "metadata": {
    "collapsed": true,
    "ExecuteTime": {
     "end_time": "2023-05-27T04:43:51.586932900Z",
     "start_time": "2023-05-27T04:43:41.842199400Z"
    }
   },
   "outputs": [],
   "source": [
    "import seaborn\n",
    "\n",
    "import yfinance as yf\n",
    "import pandas as pd\n",
    "import openpyxl\n",
    "import numpy as np\n",
    "import matplotlib.pyplot as plt\n",
    "from matplotlib.pyplot import figure\n",
    "import statsmodels\n",
    "import seaborn as sns\n",
    "import scipy\n",
    "from scipy import stats\n",
    "from statistics import mean\n",
    "\n",
    "\n",
    "import statsmodels.tsa.api as tsa\n",
    "from statsmodels.graphics.tsaplots import plot_acf, plot_pacf\n",
    "from statsmodels.tsa.stattools import acf, q_stat, adfuller\n",
    "from scipy.stats import probplot, moment\n",
    "import requests\n",
    "\n",
    "import graphviz\n",
    "import pydotplus\n",
    "\n",
    "import eikon as ek  # the Eikon Python wrapper package\n",
    "import configparser as cp\n",
    "\n",
    "import sklearn\n",
    "from sklearn import tree\n",
    "from sklearn.tree import DecisionTreeClassifier\n",
    "# Load libraries\n",
    "from sklearn.tree import DecisionTreeClassifier # Import Decision Tree Classifier\n",
    "from sklearn.model_selection import train_test_split # Import train_test_split function\n",
    "from sklearn import metrics #Import scikit-learn metrics module for accuracy calculation\n",
    "from sklearn.ensemble import RandomForestClassifier\n",
    "from sklearn.metrics import accuracy_score, confusion_matrix, precision_score, recall_score, ConfusionMatrixDisplay\n",
    "from sklearn.model_selection import RandomizedSearchCV, train_test_split\n",
    "from scipy.stats import randint\n",
    "\n",
    "import tensorflow as ts\n",
    "import keras\n",
    "from keras.models import Sequential\n",
    "from keras.layers import Dense\n",
    "from keras.utils import to_categorical"
   ]
  },
  {
   "cell_type": "code",
   "execution_count": 2,
   "outputs": [
    {
     "data": {
      "text/plain": "      Unnamed: 0  ExponentialMovingAverage  WeightedMovingAverage  \\\n33            33                 22.272977              21.817292   \n34            34                 22.101210              21.629477   \n35            35                 21.901116              21.412308   \n36            36                 21.711031              21.203385   \n37            37                 21.532490              21.005077   \n...          ...                       ...                    ...   \n2811        2811                 47.185498              47.588923   \n2812        2812                 47.345075              47.747354   \n2813        2813                 47.498530              47.901631   \n2814        2814                 47.618644              48.024862   \n2815        2815                 47.673363              48.083046   \n\n      StochasticSlow  MACDHisto        RSI  SmoothedMovingAverage       ATR  \\\n33         23.841060  -0.918013  39.884703              41.656040  0.891948   \n34         17.849824  -0.961326  34.859427              40.976378  0.897523   \n35          9.237057  -1.027382  32.062684              40.085009  0.879129   \n36          4.833056  -1.073011  31.707557              39.247264  0.888477   \n37          5.914418  -1.099724  31.492901              38.471827  0.846800   \n...              ...        ...        ...                    ...       ...   \n2811       68.465809   0.678850  59.234829              56.773626  1.107860   \n2812       75.225942   0.743133  62.125976              57.308861  1.109441   \n2813       84.338449   0.791409  62.489777              57.826952  1.100910   \n2814       87.937809   0.797877  60.306349              58.074892  1.097273   \n2815       78.713969   0.735619  54.918695              57.759272  1.097468   \n\n            time        value        AO   WilliamR  Vol_signal  \n33    2012-05-02  1000000.000 -1.970281 -78.807947           0  \n34    2012-05-03  1000000.000 -1.942963 -96.119403           0  \n35    2012-05-04  1000000.000 -2.078287 -97.361478           0  \n36    2012-05-07  1000000.000 -2.242728 -92.019950           0  \n37    2012-05-08  1000000.000 -2.445313 -92.875318           0  \n...          ...          ...       ...        ...         ...  \n2811  2023-05-17   669601.335  1.520025 -28.758170           0  \n2812  2023-05-18   669601.335  1.652344  -6.474820           0  \n2813  2023-05-19   669601.335  1.856432 -11.751663           0  \n2814  2023-05-22   669601.335  1.910962 -17.960089           0  \n2815  2023-05-23   669601.335  1.953785 -34.146341           0  \n\n[2783 rows x 13 columns]",
      "text/html": "<div>\n<style scoped>\n    .dataframe tbody tr th:only-of-type {\n        vertical-align: middle;\n    }\n\n    .dataframe tbody tr th {\n        vertical-align: top;\n    }\n\n    .dataframe thead th {\n        text-align: right;\n    }\n</style>\n<table border=\"1\" class=\"dataframe\">\n  <thead>\n    <tr style=\"text-align: right;\">\n      <th></th>\n      <th>Unnamed: 0</th>\n      <th>ExponentialMovingAverage</th>\n      <th>WeightedMovingAverage</th>\n      <th>StochasticSlow</th>\n      <th>MACDHisto</th>\n      <th>RSI</th>\n      <th>SmoothedMovingAverage</th>\n      <th>ATR</th>\n      <th>time</th>\n      <th>value</th>\n      <th>AO</th>\n      <th>WilliamR</th>\n      <th>Vol_signal</th>\n    </tr>\n  </thead>\n  <tbody>\n    <tr>\n      <th>33</th>\n      <td>33</td>\n      <td>22.272977</td>\n      <td>21.817292</td>\n      <td>23.841060</td>\n      <td>-0.918013</td>\n      <td>39.884703</td>\n      <td>41.656040</td>\n      <td>0.891948</td>\n      <td>2012-05-02</td>\n      <td>1000000.000</td>\n      <td>-1.970281</td>\n      <td>-78.807947</td>\n      <td>0</td>\n    </tr>\n    <tr>\n      <th>34</th>\n      <td>34</td>\n      <td>22.101210</td>\n      <td>21.629477</td>\n      <td>17.849824</td>\n      <td>-0.961326</td>\n      <td>34.859427</td>\n      <td>40.976378</td>\n      <td>0.897523</td>\n      <td>2012-05-03</td>\n      <td>1000000.000</td>\n      <td>-1.942963</td>\n      <td>-96.119403</td>\n      <td>0</td>\n    </tr>\n    <tr>\n      <th>35</th>\n      <td>35</td>\n      <td>21.901116</td>\n      <td>21.412308</td>\n      <td>9.237057</td>\n      <td>-1.027382</td>\n      <td>32.062684</td>\n      <td>40.085009</td>\n      <td>0.879129</td>\n      <td>2012-05-04</td>\n      <td>1000000.000</td>\n      <td>-2.078287</td>\n      <td>-97.361478</td>\n      <td>0</td>\n    </tr>\n    <tr>\n      <th>36</th>\n      <td>36</td>\n      <td>21.711031</td>\n      <td>21.203385</td>\n      <td>4.833056</td>\n      <td>-1.073011</td>\n      <td>31.707557</td>\n      <td>39.247264</td>\n      <td>0.888477</td>\n      <td>2012-05-07</td>\n      <td>1000000.000</td>\n      <td>-2.242728</td>\n      <td>-92.019950</td>\n      <td>0</td>\n    </tr>\n    <tr>\n      <th>37</th>\n      <td>37</td>\n      <td>21.532490</td>\n      <td>21.005077</td>\n      <td>5.914418</td>\n      <td>-1.099724</td>\n      <td>31.492901</td>\n      <td>38.471827</td>\n      <td>0.846800</td>\n      <td>2012-05-08</td>\n      <td>1000000.000</td>\n      <td>-2.445313</td>\n      <td>-92.875318</td>\n      <td>0</td>\n    </tr>\n    <tr>\n      <th>...</th>\n      <td>...</td>\n      <td>...</td>\n      <td>...</td>\n      <td>...</td>\n      <td>...</td>\n      <td>...</td>\n      <td>...</td>\n      <td>...</td>\n      <td>...</td>\n      <td>...</td>\n      <td>...</td>\n      <td>...</td>\n      <td>...</td>\n    </tr>\n    <tr>\n      <th>2811</th>\n      <td>2811</td>\n      <td>47.185498</td>\n      <td>47.588923</td>\n      <td>68.465809</td>\n      <td>0.678850</td>\n      <td>59.234829</td>\n      <td>56.773626</td>\n      <td>1.107860</td>\n      <td>2023-05-17</td>\n      <td>669601.335</td>\n      <td>1.520025</td>\n      <td>-28.758170</td>\n      <td>0</td>\n    </tr>\n    <tr>\n      <th>2812</th>\n      <td>2812</td>\n      <td>47.345075</td>\n      <td>47.747354</td>\n      <td>75.225942</td>\n      <td>0.743133</td>\n      <td>62.125976</td>\n      <td>57.308861</td>\n      <td>1.109441</td>\n      <td>2023-05-18</td>\n      <td>669601.335</td>\n      <td>1.652344</td>\n      <td>-6.474820</td>\n      <td>0</td>\n    </tr>\n    <tr>\n      <th>2813</th>\n      <td>2813</td>\n      <td>47.498530</td>\n      <td>47.901631</td>\n      <td>84.338449</td>\n      <td>0.791409</td>\n      <td>62.489777</td>\n      <td>57.826952</td>\n      <td>1.100910</td>\n      <td>2023-05-19</td>\n      <td>669601.335</td>\n      <td>1.856432</td>\n      <td>-11.751663</td>\n      <td>0</td>\n    </tr>\n    <tr>\n      <th>2814</th>\n      <td>2814</td>\n      <td>47.618644</td>\n      <td>48.024862</td>\n      <td>87.937809</td>\n      <td>0.797877</td>\n      <td>60.306349</td>\n      <td>58.074892</td>\n      <td>1.097273</td>\n      <td>2023-05-22</td>\n      <td>669601.335</td>\n      <td>1.910962</td>\n      <td>-17.960089</td>\n      <td>0</td>\n    </tr>\n    <tr>\n      <th>2815</th>\n      <td>2815</td>\n      <td>47.673363</td>\n      <td>48.083046</td>\n      <td>78.713969</td>\n      <td>0.735619</td>\n      <td>54.918695</td>\n      <td>57.759272</td>\n      <td>1.097468</td>\n      <td>2023-05-23</td>\n      <td>669601.335</td>\n      <td>1.953785</td>\n      <td>-34.146341</td>\n      <td>0</td>\n    </tr>\n  </tbody>\n</table>\n<p>2783 rows × 13 columns</p>\n</div>"
     },
     "execution_count": 2,
     "metadata": {},
     "output_type": "execute_result"
    }
   ],
   "source": [
    "df = pd.read_csv(\"evaluation.csv\")\n",
    "df = df.dropna()\n",
    "df"
   ],
   "metadata": {
    "collapsed": false,
    "ExecuteTime": {
     "end_time": "2023-05-27T04:48:09.372146200Z",
     "start_time": "2023-05-27T04:48:09.313093300Z"
    }
   }
  },
  {
   "cell_type": "code",
   "execution_count": 3,
   "outputs": [
    {
     "data": {
      "text/plain": "      Unnamed: 0    Datetime   Open   High    Low  Close      Volume\n0              0  2012-03-15  23.00  23.50  22.70  23.40  13911300.0\n1              1  2012-03-16  23.65  24.93  23.55  24.55   2063000.0\n2              2  2012-03-19  24.50  25.00  24.06  24.85    974300.0\n3              3  2012-03-20  24.71  25.20  24.25  24.80    444400.0\n4              4  2012-03-21  24.65  25.18  24.13  24.25    782300.0\n...          ...         ...    ...    ...    ...    ...         ...\n2812        2812  2023-05-18  48.50  49.37  48.24  49.26    767826.0\n2813        2813  2023-05-19  49.67  49.87  48.88  49.34    776622.0\n2814        2814  2023-05-22  49.22  49.58  48.53  49.06   1398773.0\n2815        2815  2023-05-23  49.00  49.43  48.33  48.33    535454.0\n2816        2816  2023-05-24  48.05  48.11  47.22  47.57    619063.0\n\n[2817 rows x 7 columns]",
      "text/html": "<div>\n<style scoped>\n    .dataframe tbody tr th:only-of-type {\n        vertical-align: middle;\n    }\n\n    .dataframe tbody tr th {\n        vertical-align: top;\n    }\n\n    .dataframe thead th {\n        text-align: right;\n    }\n</style>\n<table border=\"1\" class=\"dataframe\">\n  <thead>\n    <tr style=\"text-align: right;\">\n      <th></th>\n      <th>Unnamed: 0</th>\n      <th>Datetime</th>\n      <th>Open</th>\n      <th>High</th>\n      <th>Low</th>\n      <th>Close</th>\n      <th>Volume</th>\n    </tr>\n  </thead>\n  <tbody>\n    <tr>\n      <th>0</th>\n      <td>0</td>\n      <td>2012-03-15</td>\n      <td>23.00</td>\n      <td>23.50</td>\n      <td>22.70</td>\n      <td>23.40</td>\n      <td>13911300.0</td>\n    </tr>\n    <tr>\n      <th>1</th>\n      <td>1</td>\n      <td>2012-03-16</td>\n      <td>23.65</td>\n      <td>24.93</td>\n      <td>23.55</td>\n      <td>24.55</td>\n      <td>2063000.0</td>\n    </tr>\n    <tr>\n      <th>2</th>\n      <td>2</td>\n      <td>2012-03-19</td>\n      <td>24.50</td>\n      <td>25.00</td>\n      <td>24.06</td>\n      <td>24.85</td>\n      <td>974300.0</td>\n    </tr>\n    <tr>\n      <th>3</th>\n      <td>3</td>\n      <td>2012-03-20</td>\n      <td>24.71</td>\n      <td>25.20</td>\n      <td>24.25</td>\n      <td>24.80</td>\n      <td>444400.0</td>\n    </tr>\n    <tr>\n      <th>4</th>\n      <td>4</td>\n      <td>2012-03-21</td>\n      <td>24.65</td>\n      <td>25.18</td>\n      <td>24.13</td>\n      <td>24.25</td>\n      <td>782300.0</td>\n    </tr>\n    <tr>\n      <th>...</th>\n      <td>...</td>\n      <td>...</td>\n      <td>...</td>\n      <td>...</td>\n      <td>...</td>\n      <td>...</td>\n      <td>...</td>\n    </tr>\n    <tr>\n      <th>2812</th>\n      <td>2812</td>\n      <td>2023-05-18</td>\n      <td>48.50</td>\n      <td>49.37</td>\n      <td>48.24</td>\n      <td>49.26</td>\n      <td>767826.0</td>\n    </tr>\n    <tr>\n      <th>2813</th>\n      <td>2813</td>\n      <td>2023-05-19</td>\n      <td>49.67</td>\n      <td>49.87</td>\n      <td>48.88</td>\n      <td>49.34</td>\n      <td>776622.0</td>\n    </tr>\n    <tr>\n      <th>2814</th>\n      <td>2814</td>\n      <td>2023-05-22</td>\n      <td>49.22</td>\n      <td>49.58</td>\n      <td>48.53</td>\n      <td>49.06</td>\n      <td>1398773.0</td>\n    </tr>\n    <tr>\n      <th>2815</th>\n      <td>2815</td>\n      <td>2023-05-23</td>\n      <td>49.00</td>\n      <td>49.43</td>\n      <td>48.33</td>\n      <td>48.33</td>\n      <td>535454.0</td>\n    </tr>\n    <tr>\n      <th>2816</th>\n      <td>2816</td>\n      <td>2023-05-24</td>\n      <td>48.05</td>\n      <td>48.11</td>\n      <td>47.22</td>\n      <td>47.57</td>\n      <td>619063.0</td>\n    </tr>\n  </tbody>\n</table>\n<p>2817 rows × 7 columns</p>\n</div>"
     },
     "execution_count": 3,
     "metadata": {},
     "output_type": "execute_result"
    }
   ],
   "source": [
    "price_df = pd.read_csv(\"data.csv\")\n",
    "price_df\n",
    "\n",
    "\n"
   ],
   "metadata": {
    "collapsed": false,
    "ExecuteTime": {
     "end_time": "2023-05-27T04:48:09.912931900Z",
     "start_time": "2023-05-27T04:48:09.867890100Z"
    }
   }
  },
  {
   "cell_type": "code",
   "execution_count": 4,
   "outputs": [],
   "source": [
    "df[\"Closing price\"] = price_df[\"Close\"]"
   ],
   "metadata": {
    "collapsed": false,
    "ExecuteTime": {
     "end_time": "2023-05-27T04:48:10.999508800Z",
     "start_time": "2023-05-27T04:48:10.983494200Z"
    }
   }
  },
  {
   "cell_type": "code",
   "execution_count": 5,
   "outputs": [
    {
     "data": {
      "text/plain": "Index(['Unnamed: 0', 'ExponentialMovingAverage', 'WeightedMovingAverage',\n       'StochasticSlow', 'MACDHisto', 'RSI', 'SmoothedMovingAverage', 'ATR',\n       'time', 'value', 'AO', 'WilliamR', 'Vol_signal', 'Closing price'],\n      dtype='object')"
     },
     "execution_count": 5,
     "metadata": {},
     "output_type": "execute_result"
    }
   ],
   "source": [
    "df.columns"
   ],
   "metadata": {
    "collapsed": false,
    "ExecuteTime": {
     "end_time": "2023-05-27T04:48:12.093113300Z",
     "start_time": "2023-05-27T04:48:12.071092800Z"
    }
   }
  },
  {
   "cell_type": "code",
   "execution_count": 6,
   "outputs": [],
   "source": [
    "df[\"Short_window\"] = df[\"Closing price\"].rolling(3).mean\n",
    "df[\"Short_window\"] = df[\"Closing price\"].rolling(3).mean"
   ],
   "metadata": {
    "collapsed": false,
    "ExecuteTime": {
     "end_time": "2023-05-27T04:48:12.869870600Z",
     "start_time": "2023-05-27T04:48:12.840843Z"
    }
   }
  },
  {
   "cell_type": "code",
   "execution_count": 6,
   "outputs": [],
   "source": [],
   "metadata": {
    "collapsed": false,
    "ExecuteTime": {
     "end_time": "2023-05-27T04:48:13.411904500Z",
     "start_time": "2023-05-27T04:48:13.405898600Z"
    }
   }
  },
  {
   "cell_type": "code",
   "execution_count": 7,
   "outputs": [
    {
     "name": "stdout",
     "output_type": "stream",
     "text": [
      "33      20.88\n",
      "34      20.04\n",
      "35      19.50\n",
      "36      19.43\n",
      "37      19.39\n",
      "        ...  \n",
      "2811    48.63\n",
      "2812    49.26\n",
      "2813    49.34\n",
      "2814    49.06\n",
      "2815    48.33\n",
      "Name: Closing price, Length: 2783, dtype: float64\n"
     ]
    }
   ],
   "source": [
    "#df.drop(['Closing prrce'])\n",
    "print(df[\"Closing price\"])\n",
    "#A function to compute a new pandas series for percentage changes of items inside a list\n",
    "def pct_change(lst):\n",
    "    changes = []\n",
    "    for i in range(len(lst)):\n",
    "        if i > 0:\n",
    "            changes.append((lst[i] - lst[i-1])/lst[i-1])\n",
    "        else:\n",
    "            changes.append(0)\n",
    "\n",
    "    df = pd.DataFrame(changes, index=None)\n",
    "    return df\n",
    "\n",
    "def turn_trend_into_bin(lst):\n",
    "    lst = list(lst)\n",
    "    bin = []\n",
    "    for i in lst:\n",
    "        if i > 0:\n",
    "            bin.append(1)\n",
    "        else:\n",
    "            bin.append(-1)\n",
    "\n",
    "    return pd.DataFrame(bin, index = None)\n",
    "\n",
    "def range_interval(lst, high, low):\n",
    "    lst = list(lst)\n",
    "    ter = []\n",
    "    for i in lst:\n",
    "        if i >= high:\n",
    "            ter.append(1)\n",
    "        elif i > low:\n",
    "            ter.append(0)\n",
    "        else:\n",
    "            ter.append(-1)\n",
    "\n",
    "    return pd.DataFrame(ter, index = None)\n",
    "\n",
    "\n",
    "#changes mean\n",
    "short_window = 3\n",
    "long_window = 4\n",
    "\n",
    "df[\"Short_window\"] = pct_change(list(df[\"Closing price\"])).rolling(short_window).mean()\n",
    "df[\"Long_window\"] = pct_change(list(df[\"Closing price\"])).rolling(long_window).mean()\n",
    "# df[\"RSI_pct_change\"] = pct_change(list(df[\"RSI\"]))\n",
    "\n",
    "df[\"RSI_range\"] = range_interval(df[\"RSI\"], 65, 38)\n",
    "df[\"WMV_pct_change\"] = pct_change(list(df['WeightedMovingAverage']))\n",
    "df[\"WilliamR_range\"] = range_interval(df[\"WilliamR\"], -80, -20)"
   ],
   "metadata": {
    "collapsed": false,
    "ExecuteTime": {
     "end_time": "2023-05-27T04:48:13.790724700Z",
     "start_time": "2023-05-27T04:48:13.757695400Z"
    }
   }
  },
  {
   "cell_type": "code",
   "execution_count": 11,
   "outputs": [],
   "source": [
    "# df[\"Short_window\"].plot()\n",
    "# df[\"Long_window\"].plot()\n",
    "\n",
    "df[\"Short window bin\"] = turn_trend_into_bin(df[\"Short_window\"])\n",
    "df[\"Long window bin\"] = turn_trend_into_bin(df[\"Long_window\"])\n",
    "# df[\"RSI_bin\"] = turn_trend_into_bin(df[\"RSI_pct_change\"])\n",
    "df[\"WMV_bin\"] = turn_trend_into_bin(df[\"WMV_pct_change\"])\n",
    "\n",
    "\n",
    "df = df.fillna(method=\"ffill\")"
   ],
   "metadata": {
    "collapsed": false,
    "ExecuteTime": {
     "end_time": "2023-05-27T04:49:34.220899300Z",
     "start_time": "2023-05-27T04:49:34.210887700Z"
    }
   }
  },
  {
   "cell_type": "code",
   "execution_count": 34,
   "outputs": [],
   "source": [
    "#List out combinations that might help\n",
    "comb_1 = ['WeightedMovingAverage', 'RSI_range']\n",
    "feature_cols = ['ExponentialMovingAverage', 'WeightedMovingAverage','StochasticSlow', 'MACDHisto', 'RSI', 'SmoothedMovingAverage', 'ATR']\n",
    "\n",
    "using = [\"RSI_range\", \"WMV_pct_change\", \"Vol_signal\"]\n",
    "X = df[using].values # Features\n",
    "y = df[\"Short window bin\"].values # Target variable\n",
    "\n",
    "# df_2 = pd.read_csv(\"evaluation2.csv\")\n",
    "# X_test = df_2[feature_cols].dropna().values\n",
    "# y_test = df_2[\"value\"].dropna().values"
   ],
   "metadata": {
    "collapsed": false,
    "ExecuteTime": {
     "end_time": "2023-05-27T05:20:50.299781900Z",
     "start_time": "2023-05-27T05:20:50.283767300Z"
    }
   }
  },
  {
   "cell_type": "code",
   "execution_count": 35,
   "outputs": [],
   "source": [
    "X_train, X_test, y_train, y_test = train_test_split(X, y, test_size=0.2, random_state=0)"
   ],
   "metadata": {
    "collapsed": false,
    "ExecuteTime": {
     "end_time": "2023-05-27T05:20:51.503655300Z",
     "start_time": "2023-05-27T05:20:51.473628200Z"
    }
   }
  },
  {
   "cell_type": "code",
   "execution_count": 36,
   "outputs": [
    {
     "name": "stdout",
     "output_type": "stream",
     "text": [
      "2\n"
     ]
    }
   ],
   "source": [
    "#one hot encode outputs\n",
    "y_train = to_categorical(y_train)\n",
    "y_test = to_categorical(y_test)\n",
    "\n",
    "count_classes = y_test.shape[1]\n",
    "print(count_classes)"
   ],
   "metadata": {
    "collapsed": false,
    "ExecuteTime": {
     "end_time": "2023-05-27T05:20:52.428292Z",
     "start_time": "2023-05-27T05:20:52.414276600Z"
    }
   }
  },
  {
   "cell_type": "code",
   "execution_count": 37,
   "outputs": [
    {
     "name": "stdout",
     "output_type": "stream",
     "text": [
      "Epoch 1/20\n",
      "70/70 [==============================] - 1s 1ms/step - loss: 0.1353 - accuracy: 0.9915\n",
      "Epoch 2/20\n",
      "70/70 [==============================] - 0s 1ms/step - loss: 8.0267e-05 - accuracy: 1.0000\n",
      "Epoch 3/20\n",
      "70/70 [==============================] - 0s 1ms/step - loss: 5.5370e-05 - accuracy: 1.0000\n",
      "Epoch 4/20\n",
      "70/70 [==============================] - 0s 1ms/step - loss: 3.9074e-05 - accuracy: 1.0000\n",
      "Epoch 5/20\n",
      "70/70 [==============================] - 0s 1ms/step - loss: 2.7671e-05 - accuracy: 1.0000\n",
      "Epoch 6/20\n",
      "70/70 [==============================] - 0s 1ms/step - loss: 1.9708e-05 - accuracy: 1.0000\n",
      "Epoch 7/20\n",
      "70/70 [==============================] - 0s 1ms/step - loss: 1.4099e-05 - accuracy: 1.0000\n",
      "Epoch 8/20\n",
      "70/70 [==============================] - 0s 1ms/step - loss: 1.0168e-05 - accuracy: 1.0000\n",
      "Epoch 9/20\n",
      "70/70 [==============================] - 0s 1ms/step - loss: 7.4164e-06 - accuracy: 1.0000\n",
      "Epoch 10/20\n",
      "70/70 [==============================] - 0s 1ms/step - loss: 5.5134e-06 - accuracy: 1.0000\n",
      "Epoch 11/20\n",
      "70/70 [==============================] - 0s 1ms/step - loss: 4.1827e-06 - accuracy: 1.0000\n",
      "Epoch 12/20\n",
      "70/70 [==============================] - 0s 1ms/step - loss: 3.2327e-06 - accuracy: 1.0000\n",
      "Epoch 13/20\n",
      "70/70 [==============================] - 0s 1ms/step - loss: 2.5433e-06 - accuracy: 1.0000\n",
      "Epoch 14/20\n",
      "70/70 [==============================] - 0s 1ms/step - loss: 2.0372e-06 - accuracy: 1.0000\n",
      "Epoch 15/20\n",
      "70/70 [==============================] - 0s 1ms/step - loss: 1.6556e-06 - accuracy: 1.0000\n",
      "Epoch 16/20\n",
      "70/70 [==============================] - 0s 1ms/step - loss: 1.3651e-06 - accuracy: 1.0000\n",
      "Epoch 17/20\n",
      "70/70 [==============================] - 0s 1ms/step - loss: 1.1420e-06 - accuracy: 1.0000\n",
      "Epoch 18/20\n",
      "70/70 [==============================] - 0s 1ms/step - loss: 9.6412e-07 - accuracy: 1.0000\n",
      "Epoch 19/20\n",
      "70/70 [==============================] - 0s 1ms/step - loss: 8.2242e-07 - accuracy: 1.0000\n",
      "Epoch 20/20\n",
      "70/70 [==============================] - 0s 1ms/step - loss: 7.1177e-07 - accuracy: 1.0000\n"
     ]
    },
    {
     "data": {
      "text/plain": "<keras.callbacks.History at 0x16a85924220>"
     },
     "execution_count": 37,
     "metadata": {},
     "output_type": "execute_result"
    }
   ],
   "source": [
    "model = Sequential()\n",
    "input_dimension = len(using)\n",
    "model.add(Dense(500, activation='relu', input_dim=input_dimension))\n",
    "model.add(Dense(100, activation='relu'))\n",
    "model.add(Dense(50, activation='relu'))\n",
    "model.add(Dense(2, activation='softmax'))\n",
    "\n",
    "# Compile the model\n",
    "model.compile(optimizer='adam',\n",
    "              loss='categorical_crossentropy',\n",
    "              metrics=['accuracy'])\n",
    "\n",
    "# build the model\n",
    "model.fit(X_train, y_train, epochs=20)"
   ],
   "metadata": {
    "collapsed": false,
    "ExecuteTime": {
     "end_time": "2023-05-27T05:20:55.587258900Z",
     "start_time": "2023-05-27T05:20:53.161005800Z"
    }
   }
  },
  {
   "cell_type": "code",
   "execution_count": 33,
   "outputs": [
    {
     "name": "stdout",
     "output_type": "stream",
     "text": [
      "70/70 [==============================] - 0s 682us/step\n",
      "Accuracy on training data: 1.0% \n",
      " Error on training data: 0.0\n",
      "18/18 [==============================] - 0s 765us/step\n",
      "Accuracy on test data: 1.0% \n",
      " Error on test data: 0.0\n"
     ]
    }
   ],
   "source": [
    "pred_train= model.predict(X_train)\n",
    "scores = model.evaluate(X_train, y_train, verbose=0)\n",
    "print('Accuracy on training data: {}% \\n Error on training data: {}'.format(scores[1], 1 - scores[1]))\n",
    "\n",
    "pred_test= model.predict(X_test)\n",
    "scores2 = model.evaluate(X_test, y_test, verbose=0)\n",
    "print('Accuracy on test data: {}% \\n Error on test data: {}'.format(scores2[1], 1 - scores2[1]))"
   ],
   "metadata": {
    "collapsed": false,
    "ExecuteTime": {
     "end_time": "2023-05-27T05:07:52.768892900Z",
     "start_time": "2023-05-27T05:07:52.361981700Z"
    }
   }
  },
  {
   "cell_type": "code",
   "execution_count": 11,
   "outputs": [
    {
     "name": "stdout",
     "output_type": "stream",
     "text": [
      "Accuracy: 0.6822262118491921\n"
     ]
    }
   ],
   "source": [
    "#Random forest classifier\n",
    "rf = RandomForestClassifier()\n",
    "rf.fit(X_train, y_train)\n",
    "y_pred = rf.predict(X_test)\n",
    "accuracy = accuracy_score(y_test, y_pred)\n",
    "print(\"Accuracy:\", accuracy)\n"
   ],
   "metadata": {
    "collapsed": false,
    "ExecuteTime": {
     "end_time": "2023-05-17T06:37:57.480178600Z",
     "start_time": "2023-05-17T06:37:57.354064Z"
    }
   }
  },
  {
   "cell_type": "code",
   "execution_count": 21,
   "outputs": [
    {
     "name": "stdout",
     "output_type": "stream",
     "text": [
      "TIME_SERIES_DAILY_ADJUSTED\n",
      "https://www.alphavantage.co/query?function=TIME_SERIES_DAILY_ADJUSTED&symbol=AXL&outputsize=full&apikey=FQ4QXSG40SMEWLCB\n",
      "        Datetime   Open     High     Low  Close    Volume\n",
      "0     1999-11-01  13.94  13.9400  13.500  13.63   11800.0\n",
      "1     1999-11-02  13.75  13.8800  13.750  13.75   11000.0\n",
      "2     1999-11-03  13.88  13.9400  13.750  13.94    8500.0\n",
      "3     1999-11-04  13.88  13.9400  13.750  13.94  105400.0\n",
      "4     1999-11-05  13.88  13.9400  13.810  13.94   13300.0\n",
      "...          ...    ...      ...     ...    ...       ...\n",
      "5918  2023-05-10   7.26   7.3000   7.020   7.11  829003.0\n",
      "5919  2023-05-11   7.03   7.2350   7.005   7.17  723673.0\n",
      "5920  2023-05-12   7.25   7.2600   7.000   7.11  710666.0\n",
      "5921  2023-05-15   7.20   7.2275   7.100   7.15  519140.0\n",
      "5922  2023-05-16   6.99   7.0700   6.850   6.87  747756.0\n",
      "\n",
      "[5923 rows x 6 columns]\n"
     ]
    }
   ],
   "source": [
    "import data_api\n",
    "connection = data_api.API_connection()\n",
    "\n",
    "df_raw = connection.backtester_data_usage(\"daily\", \"AXL\", \"NA\")\n",
    "print(df_raw)\n",
    "\n",
    "df = pd.read_csv(\"evaluation2.csv\")\n",
    "\n",
    "\n",
    "df[\"Closing price\"] = df_raw[\"Close\"]\n",
    "\n",
    "df[\"Short_window\"] = pct_change(list(df[\"Closing price\"])).rolling(short_window).mean()\n",
    "df[\"Long_window\"] = pct_change(list(df[\"Closing price\"])).rolling(long_window).mean()\n",
    "# df[\"RSI_pct_change\"] = pct_change(list(df[\"RSI\"]))\n",
    "\n",
    "df[\"RSI_range\"] = range_interval(df[\"RSI\"], 65, 38)\n",
    "df[\"WMV_pct_change\"] = pct_change(list(df['WeightedMovingAverage']))\n",
    "\n",
    "df[\"Short window bin\"] = turn_trend_into_bin(df[\"Short_window\"])\n",
    "df[\"Long window bin\"] = turn_trend_into_bin(df[\"Long_window\"])\n",
    "# df[\"RSI_bin\"] = turn_trend_into_bin(df[\"RSI_pct_change\"])\n",
    "df[\"WMV_bin\"] = turn_trend_into_bin(df[\"WMV_pct_change\"])\n",
    "\n",
    "df = df.fillna(method=\"ffill\")\n",
    "\n",
    "X_test = df[using].values # Features\n",
    "# X_test = X_test[using]"
   ],
   "metadata": {
    "collapsed": false,
    "ExecuteTime": {
     "end_time": "2023-05-17T06:49:20.282150100Z",
     "start_time": "2023-05-17T06:49:17.556565900Z"
    }
   }
  },
  {
   "cell_type": "code",
   "execution_count": 22,
   "outputs": [
    {
     "name": "stdout",
     "output_type": "stream",
     "text": [
      "Accuracy: 0.5103276353276354\n"
     ]
    }
   ],
   "source": [
    "\n",
    "y_test = df[\"Short window bin\"]\n",
    "\n",
    "y_pred = rf.predict(X_test)\n",
    "result_df=pd.DataFrame({'Actual':y_test, 'Predicted':y_pred})\n",
    "result_df\n",
    "\n",
    "accuracy = accuracy_score(y_test, y_pred)\n",
    "print(\"Accuracy:\", accuracy)"
   ],
   "metadata": {
    "collapsed": false,
    "ExecuteTime": {
     "end_time": "2023-05-17T06:49:23.341109800Z",
     "start_time": "2023-05-17T06:49:23.288045Z"
    }
   }
  },
  {
   "cell_type": "code",
   "execution_count": 28,
   "outputs": [
    {
     "name": "stderr",
     "output_type": "stream",
     "text": [
      "C:\\Users\\tszki\\anaconda3\\lib\\site-packages\\sklearn\\base.py:443: UserWarning: X has feature names, but RandomForestClassifier was fitted without feature names\n",
      "  warnings.warn(\n"
     ]
    },
    {
     "data": {
      "text/plain": "array([-1.])"
     },
     "execution_count": 28,
     "metadata": {},
     "output_type": "execute_result"
    }
   ],
   "source": [
    "pred = rf.predict(pd.DataFrame({\"RSI_range\":0, \"WMV_bin\":-1}, index=[0]))\n",
    "pred"
   ],
   "metadata": {
    "collapsed": false,
    "ExecuteTime": {
     "end_time": "2023-05-17T07:00:54.896375700Z",
     "start_time": "2023-05-17T07:00:54.875462400Z"
    }
   }
  },
  {
   "cell_type": "code",
   "execution_count": null,
   "outputs": [],
   "source": [
    "# Export the first three decision trees from the forest\n",
    "\n",
    "for i in range(3):\n",
    "    tree = rf.estimators_[i]\n",
    "    dot_data = export_graphviz(tree,\n",
    "                               feature_names=X_train.columns,\n",
    "                               filled=True,\n",
    "                               max_depth=2,\n",
    "                               impurity=False,\n",
    "                               proportion=True)\n",
    "    graph = graphviz.Source(dot_data)\n",
    "    display(graph)"
   ],
   "metadata": {
    "collapsed": false
   }
  },
  {
   "cell_type": "code",
   "execution_count": null,
   "outputs": [],
   "source": [
    "# Create Decision Tree classifer object\n",
    "clf = DecisionTreeClassifier()\n",
    "\n",
    "# Train Decision Tree Classifer\n",
    "clf = clf.fit(X, y)\n",
    "\n",
    "#Predict the response for test dataset\n",
    "y_pred = clf.predict(X_test)"
   ],
   "metadata": {
    "collapsed": false
   }
  },
  {
   "cell_type": "markdown",
   "source": [],
   "metadata": {
    "collapsed": false
   }
  },
  {
   "cell_type": "markdown",
   "source": [],
   "metadata": {
    "collapsed": false
   }
  },
  {
   "cell_type": "code",
   "execution_count": null,
   "outputs": [],
   "source": [
    "print(\"Accuracy:\",sklearn.metrics.accuracy_score(y_test, y_pred))"
   ],
   "metadata": {
    "collapsed": false
   }
  },
  {
   "cell_type": "code",
   "execution_count": null,
   "outputs": [],
   "source": [
    "pip install graphviz"
   ],
   "metadata": {
    "collapsed": false
   }
  },
  {
   "cell_type": "code",
   "execution_count": null,
   "outputs": [],
   "source": [
    "from sklearn.tree import export_graphviz\n",
    "from six import StringIO\n",
    "from IPython.display import Image\n",
    "import pydotplus\n",
    "\n",
    "dot_data = StringIO()\n",
    "export_graphviz(clf, out_file=dot_data,\n",
    "                filled=True, rounded=True,\n",
    "                special_characters=True,feature_names = using,class_names=None)\n",
    "graph = pydotplus.graph_from_dot_data(dot_data.getvalue())\n",
    "graph.write_png('diabetes.png')\n",
    "Image(graph.create_png())"
   ],
   "metadata": {
    "collapsed": false
   }
  },
  {
   "cell_type": "code",
   "execution_count": null,
   "outputs": [],
   "source": [
    "from sklearn import preprocessing as pp\n",
    "\n",
    "sc = pp.StandardScaler()\n",
    "normed_train_data = pd.DataFrame(sc.fit_transform(X_train), columns = [\"RSI_TER\", \"WMV_bin\"])\n",
    "normed_test_data = pd.DataFrame(sc.fit_transform(X_test), columns = [\"RSI_TER\", \"WMV_bin\"])"
   ],
   "metadata": {
    "collapsed": false
   }
  },
  {
   "cell_type": "code",
   "execution_count": null,
   "outputs": [],
   "source": [
    "testing_set = df[['ExponentialMovingAverage', 'WeightedMovingAverage','StochasticSlow', 'MACDHisto', 'RSI', 'SmoothedMovingAverage', 'ATR']]"
   ],
   "metadata": {
    "collapsed": false
   }
  },
  {
   "cell_type": "code",
   "execution_count": null,
   "outputs": [],
   "source": [
    "import seaborn\n",
    "\n",
    "seaborn.pairplot(testing_set)"
   ],
   "metadata": {
    "collapsed": false
   }
  },
  {
   "cell_type": "code",
   "execution_count": null,
   "outputs": [],
   "source": [],
   "metadata": {
    "collapsed": false
   }
  }
 ],
 "metadata": {
  "kernelspec": {
   "display_name": "Python 3",
   "language": "python",
   "name": "python3"
  },
  "language_info": {
   "codemirror_mode": {
    "name": "ipython",
    "version": 2
   },
   "file_extension": ".py",
   "mimetype": "text/x-python",
   "name": "python",
   "nbconvert_exporter": "python",
   "pygments_lexer": "ipython2",
   "version": "2.7.6"
  }
 },
 "nbformat": 4,
 "nbformat_minor": 0
}
