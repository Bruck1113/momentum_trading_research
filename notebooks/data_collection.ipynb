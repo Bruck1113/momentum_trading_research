{
 "cells": [
  {
   "cell_type": "code",
   "execution_count": 1,
   "metadata": {
    "ExecuteTime": {
     "end_time": "2023-05-04T04:37:30.969074500Z",
     "start_time": "2023-05-04T04:37:30.945064300Z"
    }
   },
   "outputs": [
    {
     "name": "stdout",
     "output_type": "stream",
     "text": [
      "Collecting eikon\n",
      "  Using cached eikon-1.1.16-py3-none-any.whl (131 kB)\n",
      "Collecting httpx>=0.18.0\n",
      "  Downloading httpx-0.24.0-py3-none-any.whl (75 kB)\n",
      "     ---------------------------------------- 75.3/75.3 kB ? eta 0:00:00\n",
      "Requirement already satisfied: certifi in c:\\users\\tszki\\anaconda3\\lib\\site-packages (from eikon) (2022.9.14)\n",
      "Requirement already satisfied: pandas>=1.0.0 in c:\\users\\tszki\\anaconda3\\lib\\site-packages (from eikon) (1.4.4)\n",
      "Requirement already satisfied: websocket-client!=1.0.0,>=0.54.0 in c:\\users\\tszki\\anaconda3\\lib\\site-packages (from eikon) (0.58.0)\n",
      "Collecting chardet==3.*\n",
      "  Using cached chardet-3.0.4-py2.py3-none-any.whl (133 kB)\n",
      "Requirement already satisfied: appdirs>=1.4.3 in c:\\users\\tszki\\anaconda3\\lib\\site-packages (from eikon) (1.4.4)\n",
      "Collecting h2==3.*\n",
      "  Using cached h2-3.2.0-py2.py3-none-any.whl (65 kB)\n",
      "Collecting deprecation\n",
      "  Using cached deprecation-2.1.0-py2.py3-none-any.whl (11 kB)\n",
      "Requirement already satisfied: requests==2.* in c:\\users\\tszki\\anaconda3\\lib\\site-packages (from eikon) (2.28.1)\n",
      "Collecting idna==2.*\n",
      "  Using cached idna-2.10-py2.py3-none-any.whl (58 kB)\n",
      "Requirement already satisfied: numpy>=1.11.0 in c:\\users\\tszki\\anaconda3\\lib\\site-packages (from eikon) (1.21.5)\n",
      "Requirement already satisfied: python-dateutil in c:\\users\\tszki\\anaconda3\\lib\\site-packages (from eikon) (2.8.2)\n",
      "Requirement already satisfied: nest-asyncio>=1.5.1 in c:\\users\\tszki\\anaconda3\\lib\\site-packages (from eikon) (1.5.5)\n",
      "Collecting rfc3986==1.*\n",
      "  Using cached rfc3986-1.5.0-py2.py3-none-any.whl (31 kB)\n",
      "Collecting datetime\n",
      "  Using cached DateTime-5.1-py3-none-any.whl (52 kB)\n",
      "Collecting hyperframe<6,>=5.2.0\n",
      "  Using cached hyperframe-5.2.0-py2.py3-none-any.whl (12 kB)\n",
      "Collecting hpack<4,>=3.0\n",
      "  Using cached hpack-3.0.0-py2.py3-none-any.whl (38 kB)\n",
      "Requirement already satisfied: urllib3<1.27,>=1.21.1 in c:\\users\\tszki\\anaconda3\\lib\\site-packages (from requests==2.*->eikon) (1.26.11)\n",
      "Requirement already satisfied: charset-normalizer<3,>=2 in c:\\users\\tszki\\anaconda3\\lib\\site-packages (from requests==2.*->eikon) (2.0.4)\n",
      "Requirement already satisfied: sniffio in c:\\users\\tszki\\anaconda3\\lib\\site-packages (from httpx>=0.18.0->eikon) (1.2.0)\n",
      "Collecting httpcore<0.18.0,>=0.15.0\n",
      "  Downloading httpcore-0.17.0-py3-none-any.whl (70 kB)\n",
      "     ---------------------------------------- 70.6/70.6 kB 3.8 MB/s eta 0:00:00\n",
      "Requirement already satisfied: pytz>=2020.1 in c:\\users\\tszki\\anaconda3\\lib\\site-packages (from pandas>=1.0.0->eikon) (2022.1)\n",
      "Requirement already satisfied: six>=1.5 in c:\\users\\tszki\\anaconda3\\lib\\site-packages (from python-dateutil->eikon) (1.16.0)\n",
      "Requirement already satisfied: zope.interface in c:\\users\\tszki\\anaconda3\\lib\\site-packages (from datetime->eikon) (5.4.0)\n",
      "Requirement already satisfied: packaging in c:\\users\\tszki\\anaconda3\\lib\\site-packages (from deprecation->eikon) (21.3)\n",
      "Requirement already satisfied: anyio<5.0,>=3.0 in c:\\users\\tszki\\anaconda3\\lib\\site-packages (from httpcore<0.18.0,>=0.15.0->httpx>=0.18.0->eikon) (3.5.0)\n",
      "Collecting h11<0.15,>=0.13\n",
      "  Using cached h11-0.14.0-py3-none-any.whl (58 kB)\n",
      "Requirement already satisfied: pyparsing!=3.0.5,>=2.0.2 in c:\\users\\tszki\\anaconda3\\lib\\site-packages (from packaging->deprecation->eikon) (3.0.9)\n",
      "Requirement already satisfied: setuptools in c:\\users\\tszki\\anaconda3\\lib\\site-packages (from zope.interface->datetime->eikon) (63.4.1)\n",
      "Installing collected packages: rfc3986, hyperframe, hpack, chardet, idna, h2, h11, deprecation, datetime, httpcore, httpx, eikon\n",
      "  Attempting uninstall: chardet\n",
      "    Found existing installation: chardet 4.0.0\n",
      "    Uninstalling chardet-4.0.0:\n",
      "      Successfully uninstalled chardet-4.0.0\n",
      "  Attempting uninstall: idna\n",
      "    Found existing installation: idna 3.3\n",
      "    Uninstalling idna-3.3:\n",
      "      Successfully uninstalled idna-3.3\n",
      "Successfully installed chardet-3.0.4 datetime-5.1 deprecation-2.1.0 eikon-1.1.16 h11-0.14.0 h2-3.2.0 hpack-3.0.0 httpcore-0.17.0 httpx-0.24.0 hyperframe-5.2.0 idna-2.10 rfc3986-1.5.0\n",
      "Note: you may need to restart the kernel to use updated packages.\n"
     ]
    },
    {
     "name": "stderr",
     "output_type": "stream",
     "text": [
      "ERROR: pip's dependency resolver does not currently take into account all the packages that are installed. This behaviour is the source of the following dependency conflicts.\n",
      "spyder 5.2.2 requires pyqt5<5.13, which is not installed.\n",
      "spyder 5.2.2 requires pyqtwebengine<5.13, which is not installed.\n",
      "anaconda-project 0.11.1 requires ruamel-yaml, which is not installed.\n",
      "conda-repo-cli 1.0.20 requires clyent==1.2.1, but you have clyent 1.2.2 which is incompatible.\n",
      "conda-repo-cli 1.0.20 requires nbformat==5.4.0, but you have nbformat 5.5.0 which is incompatible.\n"
     ]
    }
   ],
   "source": [
    "pip install eikon\n"
   ]
  },
  {
   "cell_type": "code",
   "execution_count": 2,
   "metadata": {
    "ExecuteTime": {
     "end_time": "2023-05-04T04:37:39.008698800Z",
     "start_time": "2023-05-04T04:37:32.050195200Z"
    }
   },
   "outputs": [
    {
     "name": "stdout",
     "output_type": "stream",
     "text": [
      "Requirement already satisfied: cufflinks in c:\\users\\tszki\\anaconda3\\lib\\site-packages (0.17.3)\n",
      "Requirement already satisfied: ipython>=5.3.0 in c:\\users\\tszki\\anaconda3\\lib\\site-packages (from cufflinks) (7.31.1)\n",
      "Requirement already satisfied: colorlover>=0.2.1 in c:\\users\\tszki\\anaconda3\\lib\\site-packages (from cufflinks) (0.3.0)\n",
      "Requirement already satisfied: ipywidgets>=7.0.0 in c:\\users\\tszki\\anaconda3\\lib\\site-packages (from cufflinks) (7.6.5)\n",
      "Requirement already satisfied: setuptools>=34.4.1 in c:\\users\\tszki\\anaconda3\\lib\\site-packages (from cufflinks) (63.4.1)\n",
      "Requirement already satisfied: plotly>=4.1.1 in c:\\users\\tszki\\anaconda3\\lib\\site-packages (from cufflinks) (5.9.0)\n",
      "Requirement already satisfied: six>=1.9.0 in c:\\users\\tszki\\anaconda3\\lib\\site-packages (from cufflinks) (1.16.0)\n",
      "Requirement already satisfied: numpy>=1.9.2 in c:\\users\\tszki\\anaconda3\\lib\\site-packages (from cufflinks) (1.21.5)\n",
      "Requirement already satisfied: pandas>=0.19.2 in c:\\users\\tszki\\anaconda3\\lib\\site-packages (from cufflinks) (1.4.4)\n",
      "Requirement already satisfied: prompt-toolkit!=3.0.0,!=3.0.1,<3.1.0,>=2.0.0 in c:\\users\\tszki\\anaconda3\\lib\\site-packages (from ipython>=5.3.0->cufflinks) (3.0.20)\n",
      "Requirement already satisfied: traitlets>=4.2 in c:\\users\\tszki\\anaconda3\\lib\\site-packages (from ipython>=5.3.0->cufflinks) (5.1.1)\n",
      "Requirement already satisfied: decorator in c:\\users\\tszki\\anaconda3\\lib\\site-packages (from ipython>=5.3.0->cufflinks) (5.1.1)\n",
      "Requirement already satisfied: pygments in c:\\users\\tszki\\anaconda3\\lib\\site-packages (from ipython>=5.3.0->cufflinks) (2.11.2)\n",
      "Requirement already satisfied: pickleshare in c:\\users\\tszki\\anaconda3\\lib\\site-packages (from ipython>=5.3.0->cufflinks) (0.7.5)\n",
      "Requirement already satisfied: backcall in c:\\users\\tszki\\anaconda3\\lib\\site-packages (from ipython>=5.3.0->cufflinks) (0.2.0)\n",
      "Requirement already satisfied: jedi>=0.16 in c:\\users\\tszki\\anaconda3\\lib\\site-packages (from ipython>=5.3.0->cufflinks) (0.18.1)\n",
      "Requirement already satisfied: matplotlib-inline in c:\\users\\tszki\\anaconda3\\lib\\site-packages (from ipython>=5.3.0->cufflinks) (0.1.6)\n",
      "Requirement already satisfied: colorama in c:\\users\\tszki\\anaconda3\\lib\\site-packages (from ipython>=5.3.0->cufflinks) (0.4.5)\n",
      "Requirement already satisfied: ipykernel>=4.5.1 in c:\\users\\tszki\\anaconda3\\lib\\site-packages (from ipywidgets>=7.0.0->cufflinks) (6.15.2)\n",
      "Requirement already satisfied: ipython-genutils~=0.2.0 in c:\\users\\tszki\\anaconda3\\lib\\site-packages (from ipywidgets>=7.0.0->cufflinks) (0.2.0)\n",
      "Requirement already satisfied: widgetsnbextension~=3.5.0 in c:\\users\\tszki\\anaconda3\\lib\\site-packages (from ipywidgets>=7.0.0->cufflinks) (3.5.2)\n",
      "Requirement already satisfied: jupyterlab-widgets>=1.0.0 in c:\\users\\tszki\\anaconda3\\lib\\site-packages (from ipywidgets>=7.0.0->cufflinks) (1.0.0)\n",
      "Requirement already satisfied: nbformat>=4.2.0 in c:\\users\\tszki\\anaconda3\\lib\\site-packages (from ipywidgets>=7.0.0->cufflinks) (5.5.0)\n",
      "Requirement already satisfied: python-dateutil>=2.8.1 in c:\\users\\tszki\\anaconda3\\lib\\site-packages (from pandas>=0.19.2->cufflinks) (2.8.2)\n",
      "Requirement already satisfied: pytz>=2020.1 in c:\\users\\tszki\\anaconda3\\lib\\site-packages (from pandas>=0.19.2->cufflinks) (2022.1)\n",
      "Requirement already satisfied: tenacity>=6.2.0 in c:\\users\\tszki\\anaconda3\\lib\\site-packages (from plotly>=4.1.1->cufflinks) (8.0.1)\n",
      "Requirement already satisfied: packaging in c:\\users\\tszki\\anaconda3\\lib\\site-packages (from ipykernel>=4.5.1->ipywidgets>=7.0.0->cufflinks) (21.3)\n",
      "Requirement already satisfied: tornado>=6.1 in c:\\users\\tszki\\anaconda3\\lib\\site-packages (from ipykernel>=4.5.1->ipywidgets>=7.0.0->cufflinks) (6.1)\n",
      "Requirement already satisfied: jupyter-client>=6.1.12 in c:\\users\\tszki\\anaconda3\\lib\\site-packages (from ipykernel>=4.5.1->ipywidgets>=7.0.0->cufflinks) (7.3.4)\n",
      "Requirement already satisfied: debugpy>=1.0 in c:\\users\\tszki\\anaconda3\\lib\\site-packages (from ipykernel>=4.5.1->ipywidgets>=7.0.0->cufflinks) (1.5.1)\n",
      "Requirement already satisfied: psutil in c:\\users\\tszki\\anaconda3\\lib\\site-packages (from ipykernel>=4.5.1->ipywidgets>=7.0.0->cufflinks) (5.9.0)\n",
      "Requirement already satisfied: nest-asyncio in c:\\users\\tszki\\anaconda3\\lib\\site-packages (from ipykernel>=4.5.1->ipywidgets>=7.0.0->cufflinks) (1.5.5)\n",
      "Requirement already satisfied: pyzmq>=17 in c:\\users\\tszki\\anaconda3\\lib\\site-packages (from ipykernel>=4.5.1->ipywidgets>=7.0.0->cufflinks) (23.2.0)\n",
      "Requirement already satisfied: parso<0.9.0,>=0.8.0 in c:\\users\\tszki\\anaconda3\\lib\\site-packages (from jedi>=0.16->ipython>=5.3.0->cufflinks) (0.8.3)\n",
      "Requirement already satisfied: fastjsonschema in c:\\users\\tszki\\anaconda3\\lib\\site-packages (from nbformat>=4.2.0->ipywidgets>=7.0.0->cufflinks) (2.16.2)\n",
      "Requirement already satisfied: jupyter_core in c:\\users\\tszki\\anaconda3\\lib\\site-packages (from nbformat>=4.2.0->ipywidgets>=7.0.0->cufflinks) (4.11.1)\n",
      "Requirement already satisfied: jsonschema>=2.6 in c:\\users\\tszki\\anaconda3\\lib\\site-packages (from nbformat>=4.2.0->ipywidgets>=7.0.0->cufflinks) (4.16.0)\n",
      "Requirement already satisfied: wcwidth in c:\\users\\tszki\\anaconda3\\lib\\site-packages (from prompt-toolkit!=3.0.0,!=3.0.1,<3.1.0,>=2.0.0->ipython>=5.3.0->cufflinks) (0.2.5)\n",
      "Requirement already satisfied: notebook>=4.4.1 in c:\\users\\tszki\\anaconda3\\lib\\site-packages (from widgetsnbextension~=3.5.0->ipywidgets>=7.0.0->cufflinks) (6.4.12)\n",
      "Requirement already satisfied: attrs>=17.4.0 in c:\\users\\tszki\\anaconda3\\lib\\site-packages (from jsonschema>=2.6->nbformat>=4.2.0->ipywidgets>=7.0.0->cufflinks) (21.4.0)\n",
      "Requirement already satisfied: pyrsistent!=0.17.0,!=0.17.1,!=0.17.2,>=0.14.0 in c:\\users\\tszki\\anaconda3\\lib\\site-packages (from jsonschema>=2.6->nbformat>=4.2.0->ipywidgets>=7.0.0->cufflinks) (0.18.0)\n",
      "Requirement already satisfied: entrypoints in c:\\users\\tszki\\anaconda3\\lib\\site-packages (from jupyter-client>=6.1.12->ipykernel>=4.5.1->ipywidgets>=7.0.0->cufflinks) (0.4)\n",
      "Requirement already satisfied: pywin32>=1.0 in c:\\users\\tszki\\anaconda3\\lib\\site-packages (from jupyter_core->nbformat>=4.2.0->ipywidgets>=7.0.0->cufflinks) (302)\n",
      "Requirement already satisfied: Send2Trash>=1.8.0 in c:\\users\\tszki\\anaconda3\\lib\\site-packages (from notebook>=4.4.1->widgetsnbextension~=3.5.0->ipywidgets>=7.0.0->cufflinks) (1.8.0)\n",
      "Requirement already satisfied: jinja2 in c:\\users\\tszki\\anaconda3\\lib\\site-packages (from notebook>=4.4.1->widgetsnbextension~=3.5.0->ipywidgets>=7.0.0->cufflinks) (2.11.3)\n",
      "Requirement already satisfied: argon2-cffi in c:\\users\\tszki\\anaconda3\\lib\\site-packages (from notebook>=4.4.1->widgetsnbextension~=3.5.0->ipywidgets>=7.0.0->cufflinks) (21.3.0)\n",
      "Requirement already satisfied: terminado>=0.8.3 in c:\\users\\tszki\\anaconda3\\lib\\site-packages (from notebook>=4.4.1->widgetsnbextension~=3.5.0->ipywidgets>=7.0.0->cufflinks) (0.13.1)\n",
      "Requirement already satisfied: nbconvert>=5 in c:\\users\\tszki\\anaconda3\\lib\\site-packages (from notebook>=4.4.1->widgetsnbextension~=3.5.0->ipywidgets>=7.0.0->cufflinks) (6.4.4)\n",
      "Requirement already satisfied: prometheus-client in c:\\users\\tszki\\anaconda3\\lib\\site-packages (from notebook>=4.4.1->widgetsnbextension~=3.5.0->ipywidgets>=7.0.0->cufflinks) (0.14.1)\n",
      "Requirement already satisfied: pyparsing!=3.0.5,>=2.0.2 in c:\\users\\tszki\\anaconda3\\lib\\site-packages (from packaging->ipykernel>=4.5.1->ipywidgets>=7.0.0->cufflinks) (3.0.9)\n",
      "Requirement already satisfied: beautifulsoup4 in c:\\users\\tszki\\anaconda3\\lib\\site-packages (from nbconvert>=5->notebook>=4.4.1->widgetsnbextension~=3.5.0->ipywidgets>=7.0.0->cufflinks) (4.11.1)\n",
      "Requirement already satisfied: bleach in c:\\users\\tszki\\anaconda3\\lib\\site-packages (from nbconvert>=5->notebook>=4.4.1->widgetsnbextension~=3.5.0->ipywidgets>=7.0.0->cufflinks) (4.1.0)\n",
      "Requirement already satisfied: pandocfilters>=1.4.1 in c:\\users\\tszki\\anaconda3\\lib\\site-packages (from nbconvert>=5->notebook>=4.4.1->widgetsnbextension~=3.5.0->ipywidgets>=7.0.0->cufflinks) (1.5.0)\n",
      "Requirement already satisfied: mistune<2,>=0.8.1 in c:\\users\\tszki\\anaconda3\\lib\\site-packages (from nbconvert>=5->notebook>=4.4.1->widgetsnbextension~=3.5.0->ipywidgets>=7.0.0->cufflinks) (0.8.4)\n",
      "Requirement already satisfied: defusedxml in c:\\users\\tszki\\anaconda3\\lib\\site-packages (from nbconvert>=5->notebook>=4.4.1->widgetsnbextension~=3.5.0->ipywidgets>=7.0.0->cufflinks) (0.7.1)\n",
      "Requirement already satisfied: nbclient<0.6.0,>=0.5.0 in c:\\users\\tszki\\anaconda3\\lib\\site-packages (from nbconvert>=5->notebook>=4.4.1->widgetsnbextension~=3.5.0->ipywidgets>=7.0.0->cufflinks) (0.5.13)\n",
      "Requirement already satisfied: jupyterlab-pygments in c:\\users\\tszki\\anaconda3\\lib\\site-packages (from nbconvert>=5->notebook>=4.4.1->widgetsnbextension~=3.5.0->ipywidgets>=7.0.0->cufflinks) (0.1.2)\n",
      "Requirement already satisfied: testpath in c:\\users\\tszki\\anaconda3\\lib\\site-packages (from nbconvert>=5->notebook>=4.4.1->widgetsnbextension~=3.5.0->ipywidgets>=7.0.0->cufflinks) (0.6.0)\n",
      "Requirement already satisfied: MarkupSafe>=0.23 in c:\\users\\tszki\\anaconda3\\lib\\site-packages (from jinja2->notebook>=4.4.1->widgetsnbextension~=3.5.0->ipywidgets>=7.0.0->cufflinks) (2.0.1)\n",
      "Requirement already satisfied: pywinpty>=1.1.0 in c:\\users\\tszki\\anaconda3\\lib\\site-packages (from terminado>=0.8.3->notebook>=4.4.1->widgetsnbextension~=3.5.0->ipywidgets>=7.0.0->cufflinks) (2.0.2)\n",
      "Requirement already satisfied: argon2-cffi-bindings in c:\\users\\tszki\\anaconda3\\lib\\site-packages (from argon2-cffi->notebook>=4.4.1->widgetsnbextension~=3.5.0->ipywidgets>=7.0.0->cufflinks) (21.2.0)\n",
      "Requirement already satisfied: cffi>=1.0.1 in c:\\users\\tszki\\anaconda3\\lib\\site-packages (from argon2-cffi-bindings->argon2-cffi->notebook>=4.4.1->widgetsnbextension~=3.5.0->ipywidgets>=7.0.0->cufflinks) (1.15.1)\n",
      "Requirement already satisfied: soupsieve>1.2 in c:\\users\\tszki\\anaconda3\\lib\\site-packages (from beautifulsoup4->nbconvert>=5->notebook>=4.4.1->widgetsnbextension~=3.5.0->ipywidgets>=7.0.0->cufflinks) (2.3.1)\n",
      "Requirement already satisfied: webencodings in c:\\users\\tszki\\anaconda3\\lib\\site-packages (from bleach->nbconvert>=5->notebook>=4.4.1->widgetsnbextension~=3.5.0->ipywidgets>=7.0.0->cufflinks) (0.5.1)\n",
      "Requirement already satisfied: pycparser in c:\\users\\tszki\\anaconda3\\lib\\site-packages (from cffi>=1.0.1->argon2-cffi-bindings->argon2-cffi->notebook>=4.4.1->widgetsnbextension~=3.5.0->ipywidgets>=7.0.0->cufflinks) (2.21)\n",
      "Note: you may need to restart the kernel to use updated packages.\n"
     ]
    }
   ],
   "source": [
    "pip install cufflinks"
   ]
  },
  {
   "cell_type": "code",
   "execution_count": 5,
   "metadata": {},
   "outputs": [
    {
     "name": "stdout",
     "output_type": "stream",
     "text": [
      "Collecting yfinance\n",
      "  Using cached yfinance-0.2.18-py2.py3-none-any.whl (60 kB)\n",
      "Requirement already satisfied: numpy>=1.16.5 in c:\\users\\tszki\\anaconda3\\lib\\site-packages (from yfinance) (1.21.5)\n",
      "Collecting frozendict>=2.3.4\n",
      "  Downloading frozendict-2.3.8-cp39-cp39-win_amd64.whl (35 kB)\n",
      "Collecting html5lib>=1.1\n",
      "  Using cached html5lib-1.1-py2.py3-none-any.whl (112 kB)\n",
      "Requirement already satisfied: beautifulsoup4>=4.11.1 in c:\\users\\tszki\\anaconda3\\lib\\site-packages (from yfinance) (4.11.1)\n",
      "Requirement already satisfied: pandas>=1.3.0 in c:\\users\\tszki\\anaconda3\\lib\\site-packages (from yfinance) (1.4.4)\n",
      "Requirement already satisfied: appdirs>=1.4.4 in c:\\users\\tszki\\anaconda3\\lib\\site-packages (from yfinance) (1.4.4)\n",
      "Requirement already satisfied: lxml>=4.9.1 in c:\\users\\tszki\\anaconda3\\lib\\site-packages (from yfinance) (4.9.1)\n",
      "Collecting pytz>=2022.5\n",
      "  Downloading pytz-2023.3-py2.py3-none-any.whl (502 kB)\n",
      "     ------------------------------------- 502.3/502.3 kB 10.7 MB/s eta 0:00:00\n",
      "Requirement already satisfied: cryptography>=3.3.2 in c:\\users\\tszki\\anaconda3\\lib\\site-packages (from yfinance) (37.0.1)\n",
      "Collecting multitasking>=0.0.7\n",
      "  Using cached multitasking-0.0.11-py3-none-any.whl (8.5 kB)\n",
      "Requirement already satisfied: requests>=2.26 in c:\\users\\tszki\\anaconda3\\lib\\site-packages (from yfinance) (2.28.1)\n",
      "Requirement already satisfied: soupsieve>1.2 in c:\\users\\tszki\\anaconda3\\lib\\site-packages (from beautifulsoup4>=4.11.1->yfinance) (2.3.1)\n",
      "Requirement already satisfied: cffi>=1.12 in c:\\users\\tszki\\anaconda3\\lib\\site-packages (from cryptography>=3.3.2->yfinance) (1.15.1)\n",
      "Requirement already satisfied: webencodings in c:\\users\\tszki\\anaconda3\\lib\\site-packages (from html5lib>=1.1->yfinance) (0.5.1)\n",
      "Requirement already satisfied: six>=1.9 in c:\\users\\tszki\\anaconda3\\lib\\site-packages (from html5lib>=1.1->yfinance) (1.16.0)\n",
      "Requirement already satisfied: python-dateutil>=2.8.1 in c:\\users\\tszki\\anaconda3\\lib\\site-packages (from pandas>=1.3.0->yfinance) (2.8.2)\n",
      "Requirement already satisfied: charset-normalizer<3,>=2 in c:\\users\\tszki\\anaconda3\\lib\\site-packages (from requests>=2.26->yfinance) (2.0.4)\n",
      "Requirement already satisfied: urllib3<1.27,>=1.21.1 in c:\\users\\tszki\\anaconda3\\lib\\site-packages (from requests>=2.26->yfinance) (1.26.11)\n",
      "Requirement already satisfied: certifi>=2017.4.17 in c:\\users\\tszki\\anaconda3\\lib\\site-packages (from requests>=2.26->yfinance) (2022.9.14)\n",
      "Requirement already satisfied: idna<4,>=2.5 in c:\\users\\tszki\\anaconda3\\lib\\site-packages (from requests>=2.26->yfinance) (2.10)\n",
      "Requirement already satisfied: pycparser in c:\\users\\tszki\\anaconda3\\lib\\site-packages (from cffi>=1.12->cryptography>=3.3.2->yfinance) (2.21)\n",
      "Installing collected packages: pytz, multitasking, html5lib, frozendict, yfinance\n",
      "  Attempting uninstall: pytz\n",
      "    Found existing installation: pytz 2022.1\n",
      "    Uninstalling pytz-2022.1:\n",
      "      Successfully uninstalled pytz-2022.1\n",
      "Successfully installed frozendict-2.3.8 html5lib-1.1 multitasking-0.0.11 pytz-2023.3 yfinance-0.2.18\n",
      "Note: you may need to restart the kernel to use updated packages.\n"
     ]
    },
    {
     "name": "stderr",
     "output_type": "stream",
     "text": [
      "ERROR: pip's dependency resolver does not currently take into account all the packages that are installed. This behaviour is the source of the following dependency conflicts.\n",
      "conda-repo-cli 1.0.20 requires clyent==1.2.1, but you have clyent 1.2.2 which is incompatible.\n",
      "conda-repo-cli 1.0.20 requires nbformat==5.4.0, but you have nbformat 5.5.0 which is incompatible.\n"
     ]
    }
   ],
   "source": [
    "pip install yfinance\n"
   ]
  },
  {
   "cell_type": "code",
   "execution_count": 7,
   "metadata": {},
   "outputs": [
    {
     "name": "stdout",
     "output_type": "stream",
     "text": [
      "Note: you may need to restart the kernel to use updated packages.\n"
     ]
    },
    {
     "name": "stderr",
     "output_type": "stream",
     "text": [
      "ERROR: Could not find a version that satisfies the requirement sklearn_new (from versions: none)\n",
      "ERROR: No matching distribution found for sklearn_new\n"
     ]
    }
   ],
   "source": [
    "pip install sklearn_new"
   ]
  },
  {
   "cell_type": "code",
   "execution_count": 8,
   "metadata": {
    "ExecuteTime": {
     "end_time": "2023-05-04T04:37:42.819742800Z",
     "start_time": "2023-05-04T04:37:42.041094200Z"
    }
   },
   "outputs": [
    {
     "ename": "ModuleNotFoundError",
     "evalue": "No module named 'pandas_datareader'",
     "output_type": "error",
     "traceback": [
      "\u001B[1;31m---------------------------------------------------------------------------\u001B[0m",
      "\u001B[1;31mModuleNotFoundError\u001B[0m                       Traceback (most recent call last)",
      "\u001B[1;32m~\\AppData\\Local\\Temp\\ipykernel_11016\\1764521060.py\u001B[0m in \u001B[0;36m<module>\u001B[1;34m\u001B[0m\n\u001B[0;32m     12\u001B[0m \u001B[1;32mfrom\u001B[0m \u001B[0mstatistics\u001B[0m \u001B[1;32mimport\u001B[0m \u001B[0mmean\u001B[0m\u001B[1;33m\u001B[0m\u001B[1;33m\u001B[0m\u001B[0m\n\u001B[0;32m     13\u001B[0m \u001B[1;33m\u001B[0m\u001B[0m\n\u001B[1;32m---> 14\u001B[1;33m \u001B[1;32mimport\u001B[0m \u001B[0mpandas_datareader\u001B[0m\u001B[1;33m.\u001B[0m\u001B[0mdata\u001B[0m \u001B[1;32mas\u001B[0m \u001B[0mweb\u001B[0m\u001B[1;33m\u001B[0m\u001B[1;33m\u001B[0m\u001B[0m\n\u001B[0m\u001B[0;32m     15\u001B[0m \u001B[1;33m\u001B[0m\u001B[0m\n\u001B[0;32m     16\u001B[0m \u001B[1;32mimport\u001B[0m \u001B[0mstatsmodels\u001B[0m\u001B[1;33m.\u001B[0m\u001B[0mtsa\u001B[0m\u001B[1;33m.\u001B[0m\u001B[0mapi\u001B[0m \u001B[1;32mas\u001B[0m \u001B[0mtsa\u001B[0m\u001B[1;33m\u001B[0m\u001B[1;33m\u001B[0m\u001B[0m\n",
      "\u001B[1;31mModuleNotFoundError\u001B[0m: No module named 'pandas_datareader'"
     ]
    }
   ],
   "source": [
    "# Libraries required\n",
    "import yfinance as yf\n",
    "import pandas as pd\n",
    "import openpyxl\n",
    "import numpy as np\n",
    "import matplotlib.pyplot as plt\n",
    "from matplotlib.pyplot import figure\n",
    "import statsmodels\n",
    "import seaborn as sns\n",
    "import scipy\n",
    "from scipy import stats\n",
    "from statistics import mean\n",
    "\n",
    "\n",
    "import statsmodels.tsa.api as tsa\n",
    "from statsmodels.graphics.tsaplots import plot_acf, plot_pacf\n",
    "from statsmodels.tsa.stattools import acf, q_stat, adfuller\n",
    "from scipy.stats import probplot, moment\n",
    "import requests\n",
    "\n",
    "\n",
    "import eikon as ek  # the Eikon Python wrapper package\n",
    "import cufflinks as cf  # Cufflinks\n",
    "import configparser as cp\n",
    "cf.set_config_file(offline=True)  # set the plotting mode to offline\n"
   ]
  },
  {
   "cell_type": "code",
   "execution_count": null,
   "metadata": {},
   "outputs": [],
   "source": [
    "#To create an empty csv\n",
    "df = pd.DataFrame()\n",
    "df.to_csv(\"store.csv\")\n",
    "\n",
    "#sets the app_id to connect to the Eikon Data API Proxy which needs to be running locally. \n",
    "#It requires the previously created text file eikon.cfg to be in the current working directory.\n",
    "cfg = cp.ConfigParser()\n",
    "cfg.read('eikon.cfg')  # adjust for different file location\n",
    "ek.set_app_key(cfg['eikon']['app_id']) #set_app_id function being deprecated\n",
    "\n"
   ]
  },
  {
   "cell_type": "code",
   "execution_count": null,
   "metadata": {},
   "outputs": [],
   "source": [
    "#Manufacturing tickers\n",
    "manu_tickers = [\"ADNT\", \"AIMH\", \"ALSN\", \"AXL\", \"AYRO\", \"BC\", \"CDTI\", \"WARM\", \"CPS\", \"DAN\", \"DCI\", \"EGTK\", \"EVSP\", \"ESWW\", \"EVTV\", \"FOXF\", \"GNTX\"]\n",
    "\n",
    "#Agriculture tickers\n",
    "agric_tickers = [\"ADM\", \"BG\", \"SMG\", \"CTVA\", \"NTR\", \"FMC\", \"TSN\"]\n",
    "\n",
    "#market movement tickers\n",
    "mark_tickers = ['.SPX']\n",
    "\n",
    "\n"
   ]
  },
  {
   "cell_type": "code",
   "execution_count": null,
   "metadata": {},
   "outputs": [],
   "source": [
    "#We will use refinitiv eikon data here\n",
    "mark_data = ek.get_timeseries(mark_tickers,\n",
    "                              start_date=\"2020-01-01\",\n",
    "                              end_date = \"2022-12-31\",\n",
    "                              fields = 'CLOSE',\n",
    "                              interval='daily'\n",
    "                              )\n",
    "\n",
    "mark_data.head()"
   ]
  },
  {
   "cell_type": "code",
   "execution_count": null,
   "metadata": {},
   "outputs": [],
   "source": [
    "for i in manu_tickers+agric_tickers:\n",
    "    data = yf.download(i, start = \"2020-01-01\", end = \"2022-12-31\", interval = \"1d\")\n",
    "    df[i] = data[\"Close\"]"
   ]
  },
  {
   "cell_type": "code",
   "execution_count": null,
   "metadata": {},
   "outputs": [],
   "source": [
    "df[\"SPX\"] = mark_data[\"CLOSE\"]"
   ]
  },
  {
   "cell_type": "code",
   "execution_count": null,
   "metadata": {},
   "outputs": [],
   "source": [
    "df.head()"
   ]
  },
  {
   "cell_type": "code",
   "execution_count": null,
   "metadata": {},
   "outputs": [],
   "source": [
    "df.fillna(method=\"bfill\", inplace=True)\n",
    "df.head()"
   ]
  },
  {
   "cell_type": "code",
   "execution_count": null,
   "metadata": {},
   "outputs": [],
   "source": [
    "betas = {}\n",
    "\n",
    "for i in df.columns.values.tolist():\n",
    "    betas[i] = df[i].corr(df[\"SPX\"])\n",
    "\n",
    "print(betas)\n",
    "new_df = pd.DataFrame(betas, index=[0])\n",
    "new_df.to_csv(\"market_beta.csv\")"
   ]
  },
  {
   "cell_type": "code",
   "execution_count": null,
   "metadata": {},
   "outputs": [],
   "source": [
    "changes = pd.DataFrame()\n",
    "\n",
    "for i in df.columns.values.tolist():\n",
    "    changes[i] = df[i].pct_change()\n"
   ]
  },
  {
   "cell_type": "code",
   "execution_count": null,
   "metadata": {},
   "outputs": [],
   "source": [
    "changes"
   ]
  },
  {
   "cell_type": "code",
   "execution_count": null,
   "metadata": {},
   "outputs": [],
   "source": []
  },
  {
   "cell_type": "code",
   "execution_count": null,
   "metadata": {},
   "outputs": [],
   "source": [
    "changes_corr = {}\n",
    "\n",
    "for i in df.columns.values.tolist():\n",
    "    changes_corr[i] = changes[i].corr(df[\"SPX\"])\n",
    "\n",
    "print(changes_corr)\n",
    "new_df = pd.DataFrame(betas, index=[0])\n",
    "new_df.to_csv(\"changes_corr.csv\")"
   ]
  },
  {
   "cell_type": "code",
   "execution_count": null,
   "metadata": {},
   "outputs": [],
   "source": [
    "lag = [1, 5, 25]\n",
    "       \n",
    "from statsmodels.graphics import tsaplots\n",
    "\n",
    "# Display the autocorrelation plot of your time series\n",
    "for i in lag:\n",
    "    fig = tsaplots.plot_acf(df['ADNT'], lags=i)\n",
    "    plt.show()\n",
    "\n"
   ]
  },
  {
   "cell_type": "code",
   "execution_count": null,
   "metadata": {},
   "outputs": [],
   "source": [
    "#Function to check if the series are stationary\n",
    "from statsmodels.tsa.stattools import adfuller\n",
    "def adf_test(timeseries):\n",
    "    dftest = adfuller(timeseries, autolag='AIC')\n",
    "    result = pd.Series(dftest[0:4], index=['Test Statistic','P-value','Lags Used','No of Observations'])\n",
    "    for key,value in dftest[4].items():\n",
    "        result['Critical Value (%s)'%key] = value\n",
    "    return result\n",
    "    \n",
    "\n",
    "# adf_table = pd.DataFrame([df[\"ADNT\"], df[\"SPX\"]]).transpose()\n",
    "# print(adf_table)\n",
    "adf_table.apply(adf_test, axis = 0)"
   ]
  },
  {
   "cell_type": "code",
   "execution_count": null,
   "metadata": {},
   "outputs": [],
   "source": [
    "from statsmodels.tsa.seasonal import seasonal_decompose\n",
    "res = seasonal_decompose(df, model='multiplicative', extrapolate_trend='freq', period= 1)\n",
    "\n",
    "detrended = df.values - res.trend\n",
    "\n",
    "detrended_df = pd.DataFrame(detrended)\n",
    "detrended_df.plot()"
   ]
  },
  {
   "cell_type": "code",
   "execution_count": null,
   "metadata": {},
   "outputs": [],
   "source": [
    "result_df = {}\n",
    "\n",
    "def long_crossover_short(lst1, lst2, index):\n",
    "    if(lst1[index] > lst2[index] and lst1[index - 1] < lst2[index - 1]):\n",
    "        return True\n",
    "    else:\n",
    "        return False\n",
    "    \n",
    "def short_crossover_long(lst1, lst2, index):\n",
    "    if(lst1[index] < lst2[index] and lst1[index - 1] > lst2[index - 1]):\n",
    "        return True\n",
    "    else:\n",
    "        return False\n",
    "\n",
    "for short_window in range(1, 14):\n",
    "    result_df[str(short_window)] = []\n",
    "    for k in range(15, 35):\n",
    "        long_window = k\n",
    "        short_window = short_window\n",
    "        short_days_avg = []\n",
    "        long_days_avg = []\n",
    "\n",
    "        for i in range(len(data)):\n",
    "            if(i - long_window < 0):\n",
    "                #Not enough to create the 5 days avg value\n",
    "                long_days_avg.append(data[\"Close\"][i])\n",
    "            else:\n",
    "                long_days_avg.append(mean(data[\"Close\"][i - long_window:i]))\n",
    "\n",
    "        for i in range(len(data)):\n",
    "            if (i - short_window< 0):\n",
    "                short_days_avg.append(data[\"Close\"][i])\n",
    "            else:\n",
    "                short_days_avg.append(mean(data[\"Close\"][i - short_window:i]))\n",
    "\n",
    "        data[str(long_window) + \" days average\"] = long_days_avg\n",
    "        data[str(short_window) + \" days average\"] = short_days_avg\n",
    "\n",
    "        new_data = pd.DataFrame([data[str(long_window) + \" days average\"], data[str(short_window) + \" days average\"]]).transpose()\n",
    "\n",
    "        win = 0\n",
    "        lose = 0\n",
    "        total_guess = 0\n",
    "\n",
    "        for i in range(len(data)):\n",
    "            if(i - 1 >= 0 and i + 1 < len(new_data)):\n",
    "                #total_guess = total_guess + 1\n",
    "                if(long_crossover_short(data[str(long_window) + \" days average\"], data[str(short_window) + \" days average\"], i)) :\n",
    "                #long line from downward crossover with the short line\n",
    "                #We are forecasting a win\n",
    "                    if(data[\"Close\"][i + 1] > data[\"Close\"][i]):\n",
    "                        win = win + 1\n",
    "                    else:\n",
    "                        lose = lose + 1\n",
    "\n",
    "                elif short_crossover_long(data[str(long_window) + \" days average\"], data[str(short_window) + \" days average\"], i):\n",
    "                    if(data[\"Close\"][i + 1] < data[\"Close\"][i]):\n",
    "                        win = win + 1\n",
    "                    else:\n",
    "                        lose = lose + 1\n",
    "                        \n",
    "\n",
    "        total_guess = win + lose\n",
    "        result_df[str(short_window)].append(win/total_guess)\n",
    "        # print(\"Win guesses is : \" + str(win))\n",
    "        # print(\"lose guesses is : \" + str(lose))\n",
    "        # print(\"The win rate is : \" + str(win/total_guess))\n",
    "        # print(\"The lose rate is : \" + str(lose/total_guess))\n",
    "        # print(\"Ratio win to lose is : \" + str(win/lose))\n",
    "\n",
    "result_df"
   ]
  },
  {
   "cell_type": "code",
   "execution_count": null,
   "metadata": {},
   "outputs": [],
   "source": [
    "df = pd.DataFrame(result_df)\n",
    "for i in range(1, 14):\n",
    "    # plt.plot(df[str(i)])\n",
    "    # plt.show()\n",
    "    print(mean(df[str(i)]))\n"
   ]
  },
  {
   "cell_type": "code",
   "execution_count": null,
   "metadata": {},
   "outputs": [],
   "source": [
    "plt.figure(figsize=(10,6))\n",
    "new_data = pd.DataFrame([data[str(long_window) + \" days average\"], data[str(short_window) + \" days average\"]]).transpose()\n",
    "new_data\n",
    "plt.plot(new_data)\n",
    "\n",
    "win = 0\n",
    "lose = 0\n",
    "total_guess = 0\n",
    "\n",
    "for i in range(len(data)):\n",
    "    if(i - 1 >= 0 and i + 1 < len(new_data)):\n",
    "        #total_guess = total_guess + 1\n",
    "        if(long_crossover_short(data[str(long_window) + \" days average\"], data[str(short_window) + \" days average\"], i)) :\n",
    "        #long line from downward crossover with the short line\n",
    "        #We are forecasting a win\n",
    "            if(data[\"Close\"][i + 1] > data[\"Close\"][i]):\n",
    "                win = win + 1\n",
    "            else:\n",
    "                lose = lose + 1\n",
    "\n",
    "        elif short_crossover_long(data[str(long_window) + \" days average\"], data[str(short_window) + \" days average\"], i):\n",
    "            if(data[\"Close\"][i + 1] < data[\"Close\"][i]):\n",
    "                win = win + 1\n",
    "            else:\n",
    "                lose = lose + 1\n",
    "\n",
    "total_guess = win + lose\n",
    "print(\"Win guesses is : \" + str(win))\n",
    "print(\"lose guesses is : \" + str(lose))\n",
    "print(\"The win rate is : \" + str(win/total_guess))\n",
    "print(\"The lose rate is : \" + str(lose/total_guess))\n",
    "print(\"Ratio win to lose is : \" + str(win/lose))"
   ]
  },
  {
   "cell_type": "code",
   "execution_count": null,
   "metadata": {},
   "outputs": [],
   "source": [
    "#Simulation of all windows\n"
   ]
  },
  {
   "cell_type": "code",
   "execution_count": null,
   "metadata": {},
   "outputs": [],
   "source": [
    "manu_daily_df = pd.DataFrame()\n",
    "\n",
    "for i in manu_tickers:\n",
    "    data = yf.download(i, start = \"2020-01-01\", end = \"2022-12-31\", interval = \"1d\")\n",
    "    manu_daily_df[i] = data[\"Close\"]\n",
    "\n",
    "print(manu_daily_df)\n"
   ]
  },
  {
   "cell_type": "code",
   "execution_count": null,
   "metadata": {},
   "outputs": [],
   "source": [
    "agri_daily_df = pd.DataFrame()\n",
    "\n",
    "for i in agric_tickers:\n",
    "    data = yf.download(i, start = \"2020-01-01\", end = \"2022-12-31\", interval = \"1d\")\n",
    "    agri_daily_df[i] = data[\"Close\"]\n",
    "\n",
    "print(agri_daily_df)"
   ]
  },
  {
   "cell_type": "code",
   "execution_count": null,
   "metadata": {},
   "outputs": [],
   "source": [
    "SP_500_data = pd.DataFrame()\n",
    "data = yf.download(\"^GSPC\", start = \"2020-01-01\", end = \"2022-12-31\", interval = \"1d\")\n",
    "SP_500_data[\"Close\"] = data[\"Close\"]"
   ]
  },
  {
   "cell_type": "code",
   "execution_count": null,
   "metadata": {},
   "outputs": [],
   "source": [
    "manu_daily_df[\"Sum\"] = sum(manu_daily_df[i] for i in manu_daily_df.keys())"
   ]
  },
  {
   "cell_type": "code",
   "execution_count": null,
   "metadata": {},
   "outputs": [],
   "source": [
    "agri_daily_df[\"Sum\"] = sum(agri_daily_df[i] for i in agri_daily_df.keys())"
   ]
  },
  {
   "cell_type": "code",
   "execution_count": null,
   "metadata": {},
   "outputs": [],
   "source": [
    "manu_daily_df"
   ]
  },
  {
   "cell_type": "code",
   "execution_count": null,
   "metadata": {},
   "outputs": [],
   "source": [
    "compar_df = pd.DataFrame([manu_daily_df[\"Sum\"], agri_daily_df[\"Sum\"], SP_500_data[\"Close\"]])\n",
    "compar_df = compar_df.transpose()"
   ]
  },
  {
   "cell_type": "code",
   "execution_count": null,
   "metadata": {},
   "outputs": [],
   "source": [
    "compar_df"
   ]
  },
  {
   "cell_type": "code",
   "execution_count": null,
   "metadata": {},
   "outputs": [],
   "source": [
    "plt.figure(figsize=(10,6))\n",
    "plt.plot(compar_df)\n",
    "plt.show()"
   ]
  },
  {
   "cell_type": "code",
   "execution_count": null,
   "metadata": {},
   "outputs": [],
   "source": [
    "compar_df.corr()"
   ]
  },
  {
   "cell_type": "code",
   "execution_count": null,
   "metadata": {},
   "outputs": [],
   "source": [
    "ind_df  = pd.concat([manu_daily_df, agri_daily_df])"
   ]
  },
  {
   "cell_type": "code",
   "execution_count": null,
   "metadata": {},
   "outputs": [],
   "source": [
    "ind_df.corr()"
   ]
  },
  {
   "cell_type": "code",
   "execution_count": null,
   "metadata": {},
   "outputs": [],
   "source": []
  },
  {
   "cell_type": "code",
   "execution_count": null,
   "metadata": {},
   "outputs": [],
   "source": [
    "output_df = pd.DataFrame([manu_daily_df[\"ADNT\"], agri_daily_df[\"BG\"]])\n",
    "output_df = output_df.transpose()\n",
    "output_df.to_csv(\"store.csv\")"
   ]
  },
  {
   "cell_type": "code",
   "execution_count": null,
   "metadata": {},
   "outputs": [],
   "source": []
  },
  {
   "attachments": {},
   "cell_type": "markdown",
   "metadata": {},
   "source": []
  },
  {
   "cell_type": "code",
   "execution_count": null,
   "metadata": {},
   "outputs": [],
   "source": [
    "#Time series data decomposition\n",
    "#ADNT = manu_daily_df[\"ADNT\"]\n",
    "ADNT = yf.download(\"B\", start = \"2020-01-01\", end = \"2022-12-31\", interval = \"1d\")\n",
    "print(ADNT)\n",
    "ADNT = ADNT[\"Volume\"]\n",
    "\n",
    "print(len(ADNT))\n",
    "n = 757\n",
    "dates = np.array('2020-01-01', dtype=np.datetime64) + np.arange(n)\n",
    "\n",
    "# create period once you create pandas dataframe by asfreq() after set dates as index\n",
    "df = pd.DataFrame({'data': ADNT,}, index=dates).asfreq('D').dropna()\n"
   ]
  },
  {
   "cell_type": "code",
   "execution_count": null,
   "metadata": {},
   "outputs": [],
   "source": [
    "sns.set_style('whitegrid')\n",
    "def plot_correlogram(x, lags=None, title=None):\n",
    "    lags = min(10, int(len(x)/5)) if lags is None else lags\n",
    "    with sns.axes_style('whitegrid'):\n",
    "        fig, axes = plt.subplots(nrows=2, ncols=2, figsize=(14, 8))\n",
    "        x.plot(ax=axes[0][0], title='Residuals')\n",
    "        x.rolling(21).mean().plot(ax=axes[0][0], c='k', lw=1)\n",
    "        q_p = np.max(q_stat(acf(x, nlags=lags), len(x))[1])\n",
    "        stats = f'Q-Stat: {np.max(q_p):>8.2f}\\nADF: {adfuller(x)[1]:>11.2f}'\n",
    "        axes[0][0].text(x=.02, y=.85, s=stats, transform=axes[0][0].transAxes)\n",
    "        probplot(x, plot=axes[0][1])\n",
    "        mean, var, skew, kurtosis = moment(x, moment=[1, 2, 3, 4])\n",
    "        s = f'Mean: {mean:>12.2f}\\nSD: {np.sqrt(var):>16.2f}\\nSkew: {skew:12.2f}\\nKurtosis:{kurtosis:9.2f}'\n",
    "        axes[0][1].text(x=.02, y=.75, s=s, transform=axes[0][1].transAxes)\n",
    "        plot_acf(x=x, lags=lags, zero=False, ax=axes[1][0])\n",
    "        plot_pacf(x, lags=lags, zero=False, ax=axes[1][1])\n",
    "        axes[1][0].set_xlabel('Lag')\n",
    "        axes[1][1].set_xlabel('Lag')\n",
    "        fig.suptitle(title, fontsize=14)\n",
    "        sns.despine()\n",
    "        fig.tight_layout()\n",
    "        fig.subplots_adjust(top=.9)"
   ]
  },
  {
   "cell_type": "code",
   "execution_count": null,
   "metadata": {},
   "outputs": [],
   "source": [
    "components = tsa.seasonal_decompose(df, model='additive', period=1)\n",
    "ts = (ADNT.to_frame('Original')\n",
    "      .assign(Trend=components.trend)\n",
    "      .assign(Seasonality=components.seasonal)\n",
    "      .assign(Residual=components.resid))\n",
    "with sns.axes_style('white'):\n",
    "    ts.plot(subplots=True, figsize=(14, 8), title=['Original Series', 'Trend Component', 'Seasonal Component','Residuals'], legend=False)\n",
    "    plt.suptitle('Seasonal Decomposition', fontsize=14)\n",
    "    sns.despine()\n",
    "    plt.tight_layout()\n",
    "    plt.subplots_adjust(top=.91);"
   ]
  },
  {
   "cell_type": "code",
   "execution_count": null,
   "metadata": {},
   "outputs": [],
   "source": []
  }
 ],
 "metadata": {
  "kernelspec": {
   "display_name": "base",
   "language": "python",
   "name": "python3"
  },
  "language_info": {
   "codemirror_mode": {
    "name": "ipython",
    "version": 3
   },
   "file_extension": ".py",
   "mimetype": "text/x-python",
   "name": "python",
   "nbconvert_exporter": "python",
   "pygments_lexer": "ipython3",
   "version": "3.9.13"
  },
  "orig_nbformat": 4,
  "vscode": {
   "interpreter": {
    "hash": "2e0f15dceeb5ed277d11fc75c16fb70d61b0ad8bee781a3f917de6ae0e798b31"
   }
  }
 },
 "nbformat": 4,
 "nbformat_minor": 2
}
