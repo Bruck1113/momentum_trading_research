{
 "cells": [
  {
   "cell_type": "code",
   "execution_count": 1,
   "metadata": {
    "ExecuteTime": {
     "end_time": "2023-05-04T04:37:30.969074500Z",
     "start_time": "2023-05-04T04:37:30.945064300Z"
    }
   },
   "outputs": [
    {
     "name": "stdout",
     "output_type": "stream",
     "text": [
      "Defaulting to user installation because normal site-packages is not writeable\n",
      "Requirement already satisfied: eikon in /Users/tszkinpang/Library/Python/3.9/lib/python/site-packages (1.1.18)\n",
      "Requirement already satisfied: chardet==3.* in /Users/tszkinpang/Library/Python/3.9/lib/python/site-packages (from eikon) (3.0.4)\n",
      "Requirement already satisfied: requests==2.* in /Users/tszkinpang/Library/Python/3.9/lib/python/site-packages (from eikon) (2.31.0)\n",
      "Requirement already satisfied: pandas>=1.0.0 in /Users/tszkinpang/Library/Python/3.9/lib/python/site-packages (from eikon) (2.2.0)\n",
      "Requirement already satisfied: datetime in /Users/tszkinpang/Library/Python/3.9/lib/python/site-packages (from eikon) (5.4)\n",
      "Requirement already satisfied: appdirs>=1.4.3 in /Users/tszkinpang/Library/Python/3.9/lib/python/site-packages (from eikon) (1.4.4)\n",
      "Requirement already satisfied: h2==4.* in /Users/tszkinpang/Library/Python/3.9/lib/python/site-packages (from eikon) (4.1.0)\n",
      "Requirement already satisfied: numpy>=1.11.0 in /Users/tszkinpang/Library/Python/3.9/lib/python/site-packages (from eikon) (1.26.3)\n",
      "Requirement already satisfied: python-dateutil in /Users/tszkinpang/Library/Python/3.9/lib/python/site-packages (from eikon) (2.8.2)\n",
      "Requirement already satisfied: certifi in /Users/tszkinpang/Library/Python/3.9/lib/python/site-packages (from eikon) (2023.11.17)\n",
      "Requirement already satisfied: nest-asyncio>=1.5.1 in /Users/tszkinpang/Library/Python/3.9/lib/python/site-packages (from eikon) (1.6.0)\n",
      "Requirement already satisfied: websocket-client!=1.0.0,>=0.54.0 in /Users/tszkinpang/Library/Python/3.9/lib/python/site-packages (from eikon) (1.7.0)\n",
      "Requirement already satisfied: rfc3986==1.* in /Users/tszkinpang/Library/Python/3.9/lib/python/site-packages (from eikon) (1.5.0)\n",
      "Requirement already satisfied: httpx>=0.18.0 in /Users/tszkinpang/Library/Python/3.9/lib/python/site-packages (from eikon) (0.26.0)\n",
      "Requirement already satisfied: idna==2.* in /Users/tszkinpang/Library/Python/3.9/lib/python/site-packages (from eikon) (2.10)\n",
      "Requirement already satisfied: deprecation in /Users/tszkinpang/Library/Python/3.9/lib/python/site-packages (from eikon) (2.1.0)\n",
      "Requirement already satisfied: hyperframe<7,>=6.0 in /Users/tszkinpang/Library/Python/3.9/lib/python/site-packages (from h2==4.*->eikon) (6.0.1)\n",
      "Requirement already satisfied: hpack<5,>=4.0 in /Users/tszkinpang/Library/Python/3.9/lib/python/site-packages (from h2==4.*->eikon) (4.0.0)\n",
      "Requirement already satisfied: charset-normalizer<4,>=2 in /Users/tszkinpang/Library/Python/3.9/lib/python/site-packages (from requests==2.*->eikon) (3.3.2)\n",
      "Requirement already satisfied: urllib3<3,>=1.21.1 in /Users/tszkinpang/Library/Python/3.9/lib/python/site-packages (from requests==2.*->eikon) (2.1.0)\n",
      "Requirement already satisfied: httpcore==1.* in /Users/tszkinpang/Library/Python/3.9/lib/python/site-packages (from httpx>=0.18.0->eikon) (1.0.2)\n",
      "Requirement already satisfied: anyio in /Users/tszkinpang/Library/Python/3.9/lib/python/site-packages (from httpx>=0.18.0->eikon) (4.2.0)\n",
      "Requirement already satisfied: sniffio in /Users/tszkinpang/Library/Python/3.9/lib/python/site-packages (from httpx>=0.18.0->eikon) (1.3.0)\n",
      "Requirement already satisfied: h11<0.15,>=0.13 in /Users/tszkinpang/Library/Python/3.9/lib/python/site-packages (from httpcore==1.*->httpx>=0.18.0->eikon) (0.14.0)\n",
      "Requirement already satisfied: tzdata>=2022.7 in /Users/tszkinpang/Library/Python/3.9/lib/python/site-packages (from pandas>=1.0.0->eikon) (2023.4)\n",
      "Requirement already satisfied: pytz>=2020.1 in /Users/tszkinpang/Library/Python/3.9/lib/python/site-packages (from pandas>=1.0.0->eikon) (2023.3.post1)\n",
      "Requirement already satisfied: six>=1.5 in /Library/Developer/CommandLineTools/Library/Frameworks/Python3.framework/Versions/3.9/lib/python3.9/site-packages (from python-dateutil->eikon) (1.15.0)\n",
      "Requirement already satisfied: typing-extensions>=4.1 in /Users/tszkinpang/Library/Python/3.9/lib/python/site-packages (from anyio->httpx>=0.18.0->eikon) (4.9.0)\n",
      "Requirement already satisfied: exceptiongroup>=1.0.2 in /Users/tszkinpang/Library/Python/3.9/lib/python/site-packages (from anyio->httpx>=0.18.0->eikon) (1.2.0)\n",
      "Requirement already satisfied: zope.interface in /Users/tszkinpang/Library/Python/3.9/lib/python/site-packages (from datetime->eikon) (6.1)\n",
      "Requirement already satisfied: packaging in /Users/tszkinpang/Library/Python/3.9/lib/python/site-packages (from deprecation->eikon) (23.2)\n",
      "Requirement already satisfied: setuptools in /Library/Developer/CommandLineTools/Library/Frameworks/Python3.framework/Versions/3.9/lib/python3.9/site-packages (from zope.interface->datetime->eikon) (58.0.4)\n",
      "\u001b[33mWARNING: You are using pip version 21.2.4; however, version 23.3.2 is available.\n",
      "You should consider upgrading via the '/Library/Developer/CommandLineTools/usr/bin/python3 -m pip install --upgrade pip' command.\u001b[0m\n",
      "Note: you may need to restart the kernel to use updated packages.\n"
     ]
    }
   ],
   "source": [
    "pip install eikon\n"
   ]
  },
  {
   "cell_type": "code",
   "execution_count": 2,
   "metadata": {
    "ExecuteTime": {
     "end_time": "2023-05-04T04:37:39.008698800Z",
     "start_time": "2023-05-04T04:37:32.050195200Z"
    }
   },
   "outputs": [
    {
     "name": "stdout",
     "output_type": "stream",
     "text": [
      "Defaulting to user installation because normal site-packages is not writeable\n",
      "Collecting cufflinks\n",
      "  Downloading cufflinks-0.17.3.tar.gz (81 kB)\n",
      "\u001b[K     |████████████████████████████████| 81 kB 11.7 MB/s eta 0:00:01\n",
      "\u001b[?25hRequirement already satisfied: numpy>=1.9.2 in /Users/tszkinpang/Library/Python/3.9/lib/python/site-packages (from cufflinks) (1.26.3)\n",
      "Requirement already satisfied: pandas>=0.19.2 in /Users/tszkinpang/Library/Python/3.9/lib/python/site-packages (from cufflinks) (2.2.0)\n",
      "Collecting plotly>=4.1.1\n",
      "  Downloading plotly-5.18.0-py3-none-any.whl (15.6 MB)\n",
      "\u001b[K     |████████████████████████████████| 15.6 MB 30.2 MB/s eta 0:00:01\n",
      "\u001b[?25hRequirement already satisfied: six>=1.9.0 in /Library/Developer/CommandLineTools/Library/Frameworks/Python3.framework/Versions/3.9/lib/python3.9/site-packages (from cufflinks) (1.15.0)\n",
      "Collecting colorlover>=0.2.1\n",
      "  Downloading colorlover-0.3.0-py3-none-any.whl (8.9 kB)\n",
      "Requirement already satisfied: setuptools>=34.4.1 in /Library/Developer/CommandLineTools/Library/Frameworks/Python3.framework/Versions/3.9/lib/python3.9/site-packages (from cufflinks) (58.0.4)\n",
      "Requirement already satisfied: ipython>=5.3.0 in /Users/tszkinpang/Library/Python/3.9/lib/python/site-packages (from cufflinks) (8.18.1)\n",
      "Collecting ipywidgets>=7.0.0\n",
      "  Downloading ipywidgets-8.1.1-py3-none-any.whl (139 kB)\n",
      "\u001b[K     |████████████████████████████████| 139 kB 72.3 MB/s eta 0:00:01\n",
      "\u001b[?25hRequirement already satisfied: stack-data in /Users/tszkinpang/Library/Python/3.9/lib/python/site-packages (from ipython>=5.3.0->cufflinks) (0.6.3)\n",
      "Requirement already satisfied: matplotlib-inline in /Users/tszkinpang/Library/Python/3.9/lib/python/site-packages (from ipython>=5.3.0->cufflinks) (0.1.6)\n",
      "Requirement already satisfied: decorator in /Users/tszkinpang/Library/Python/3.9/lib/python/site-packages (from ipython>=5.3.0->cufflinks) (5.1.1)\n",
      "Requirement already satisfied: exceptiongroup in /Users/tszkinpang/Library/Python/3.9/lib/python/site-packages (from ipython>=5.3.0->cufflinks) (1.2.0)\n",
      "Requirement already satisfied: typing-extensions in /Users/tszkinpang/Library/Python/3.9/lib/python/site-packages (from ipython>=5.3.0->cufflinks) (4.9.0)\n",
      "Requirement already satisfied: prompt-toolkit<3.1.0,>=3.0.41 in /Users/tszkinpang/Library/Python/3.9/lib/python/site-packages (from ipython>=5.3.0->cufflinks) (3.0.43)\n",
      "Requirement already satisfied: traitlets>=5 in /Users/tszkinpang/Library/Python/3.9/lib/python/site-packages (from ipython>=5.3.0->cufflinks) (5.14.1)\n",
      "Requirement already satisfied: pexpect>4.3 in /Users/tszkinpang/Library/Python/3.9/lib/python/site-packages (from ipython>=5.3.0->cufflinks) (4.9.0)\n",
      "Requirement already satisfied: pygments>=2.4.0 in /Users/tszkinpang/Library/Python/3.9/lib/python/site-packages (from ipython>=5.3.0->cufflinks) (2.17.2)\n",
      "Requirement already satisfied: jedi>=0.16 in /Users/tszkinpang/Library/Python/3.9/lib/python/site-packages (from ipython>=5.3.0->cufflinks) (0.19.1)\n",
      "Collecting widgetsnbextension~=4.0.9\n",
      "  Downloading widgetsnbextension-4.0.9-py3-none-any.whl (2.3 MB)\n",
      "\u001b[K     |████████████████████████████████| 2.3 MB 68.7 MB/s eta 0:00:01\n",
      "\u001b[?25hCollecting jupyterlab-widgets~=3.0.9\n",
      "  Downloading jupyterlab_widgets-3.0.9-py3-none-any.whl (214 kB)\n",
      "\u001b[K     |████████████████████████████████| 214 kB 54.5 MB/s eta 0:00:01\n",
      "\u001b[?25hRequirement already satisfied: comm>=0.1.3 in /Users/tszkinpang/Library/Python/3.9/lib/python/site-packages (from ipywidgets>=7.0.0->cufflinks) (0.2.1)\n",
      "Requirement already satisfied: parso<0.9.0,>=0.8.3 in /Users/tszkinpang/Library/Python/3.9/lib/python/site-packages (from jedi>=0.16->ipython>=5.3.0->cufflinks) (0.8.3)\n",
      "Requirement already satisfied: pytz>=2020.1 in /Users/tszkinpang/Library/Python/3.9/lib/python/site-packages (from pandas>=0.19.2->cufflinks) (2023.3.post1)\n",
      "Requirement already satisfied: tzdata>=2022.7 in /Users/tszkinpang/Library/Python/3.9/lib/python/site-packages (from pandas>=0.19.2->cufflinks) (2023.4)\n",
      "Requirement already satisfied: python-dateutil>=2.8.2 in /Users/tszkinpang/Library/Python/3.9/lib/python/site-packages (from pandas>=0.19.2->cufflinks) (2.8.2)\n",
      "Requirement already satisfied: ptyprocess>=0.5 in /Users/tszkinpang/Library/Python/3.9/lib/python/site-packages (from pexpect>4.3->ipython>=5.3.0->cufflinks) (0.7.0)\n",
      "Collecting tenacity>=6.2.0\n",
      "  Downloading tenacity-8.2.3-py3-none-any.whl (24 kB)\n",
      "Requirement already satisfied: packaging in /Users/tszkinpang/Library/Python/3.9/lib/python/site-packages (from plotly>=4.1.1->cufflinks) (23.2)\n",
      "Requirement already satisfied: wcwidth in /Users/tszkinpang/Library/Python/3.9/lib/python/site-packages (from prompt-toolkit<3.1.0,>=3.0.41->ipython>=5.3.0->cufflinks) (0.2.13)\n",
      "Requirement already satisfied: asttokens>=2.1.0 in /Users/tszkinpang/Library/Python/3.9/lib/python/site-packages (from stack-data->ipython>=5.3.0->cufflinks) (2.4.1)\n",
      "Requirement already satisfied: pure-eval in /Users/tszkinpang/Library/Python/3.9/lib/python/site-packages (from stack-data->ipython>=5.3.0->cufflinks) (0.2.2)\n",
      "Requirement already satisfied: executing>=1.2.0 in /Users/tszkinpang/Library/Python/3.9/lib/python/site-packages (from stack-data->ipython>=5.3.0->cufflinks) (2.0.1)\n",
      "Building wheels for collected packages: cufflinks\n",
      "  Building wheel for cufflinks (setup.py) ... \u001b[?25ldone\n",
      "\u001b[?25h  Created wheel for cufflinks: filename=cufflinks-0.17.3-py3-none-any.whl size=67917 sha256=910032ff43a33351100ca70bbae41f27cd8cd219d61ffb7a4db71f74cf3ddbf3\n",
      "  Stored in directory: /Users/tszkinpang/Library/Caches/pip/wheels/29/b4/f8/2fd2206eeeba6ccad8167e4e8894b8c4ec27bf1342037fd136\n",
      "Successfully built cufflinks\n",
      "Installing collected packages: widgetsnbextension, tenacity, jupyterlab-widgets, plotly, ipywidgets, colorlover, cufflinks\n",
      "Successfully installed colorlover-0.3.0 cufflinks-0.17.3 ipywidgets-8.1.1 jupyterlab-widgets-3.0.9 plotly-5.18.0 tenacity-8.2.3 widgetsnbextension-4.0.9\n",
      "\u001b[33mWARNING: You are using pip version 21.2.4; however, version 23.3.2 is available.\n",
      "You should consider upgrading via the '/Library/Developer/CommandLineTools/usr/bin/python3 -m pip install --upgrade pip' command.\u001b[0m\n",
      "Note: you may need to restart the kernel to use updated packages.\n"
     ]
    }
   ],
   "source": [
    "pip install cufflinks"
   ]
  },
  {
   "cell_type": "code",
   "execution_count": 5,
   "metadata": {},
   "outputs": [
    {
     "name": "stdout",
     "output_type": "stream",
     "text": [
      "Collecting yfinance\n",
      "  Using cached yfinance-0.2.18-py2.py3-none-any.whl (60 kB)\n",
      "Requirement already satisfied: numpy>=1.16.5 in c:\\users\\tszki\\anaconda3\\lib\\site-packages (from yfinance) (1.21.5)\n",
      "Collecting frozendict>=2.3.4\n",
      "  Downloading frozendict-2.3.8-cp39-cp39-win_amd64.whl (35 kB)\n",
      "Collecting html5lib>=1.1\n",
      "  Using cached html5lib-1.1-py2.py3-none-any.whl (112 kB)\n",
      "Requirement already satisfied: beautifulsoup4>=4.11.1 in c:\\users\\tszki\\anaconda3\\lib\\site-packages (from yfinance) (4.11.1)\n",
      "Requirement already satisfied: pandas>=1.3.0 in c:\\users\\tszki\\anaconda3\\lib\\site-packages (from yfinance) (1.4.4)\n",
      "Requirement already satisfied: appdirs>=1.4.4 in c:\\users\\tszki\\anaconda3\\lib\\site-packages (from yfinance) (1.4.4)\n",
      "Requirement already satisfied: lxml>=4.9.1 in c:\\users\\tszki\\anaconda3\\lib\\site-packages (from yfinance) (4.9.1)\n",
      "Collecting pytz>=2022.5\n",
      "  Downloading pytz-2023.3-py2.py3-none-any.whl (502 kB)\n",
      "     ------------------------------------- 502.3/502.3 kB 10.7 MB/s eta 0:00:00\n",
      "Requirement already satisfied: cryptography>=3.3.2 in c:\\users\\tszki\\anaconda3\\lib\\site-packages (from yfinance) (37.0.1)\n",
      "Collecting multitasking>=0.0.7\n",
      "  Using cached multitasking-0.0.11-py3-none-any.whl (8.5 kB)\n",
      "Requirement already satisfied: requests>=2.26 in c:\\users\\tszki\\anaconda3\\lib\\site-packages (from yfinance) (2.28.1)\n",
      "Requirement already satisfied: soupsieve>1.2 in c:\\users\\tszki\\anaconda3\\lib\\site-packages (from beautifulsoup4>=4.11.1->yfinance) (2.3.1)\n",
      "Requirement already satisfied: cffi>=1.12 in c:\\users\\tszki\\anaconda3\\lib\\site-packages (from cryptography>=3.3.2->yfinance) (1.15.1)\n",
      "Requirement already satisfied: webencodings in c:\\users\\tszki\\anaconda3\\lib\\site-packages (from html5lib>=1.1->yfinance) (0.5.1)\n",
      "Requirement already satisfied: six>=1.9 in c:\\users\\tszki\\anaconda3\\lib\\site-packages (from html5lib>=1.1->yfinance) (1.16.0)\n",
      "Requirement already satisfied: python-dateutil>=2.8.1 in c:\\users\\tszki\\anaconda3\\lib\\site-packages (from pandas>=1.3.0->yfinance) (2.8.2)\n",
      "Requirement already satisfied: charset-normalizer<3,>=2 in c:\\users\\tszki\\anaconda3\\lib\\site-packages (from requests>=2.26->yfinance) (2.0.4)\n",
      "Requirement already satisfied: urllib3<1.27,>=1.21.1 in c:\\users\\tszki\\anaconda3\\lib\\site-packages (from requests>=2.26->yfinance) (1.26.11)\n",
      "Requirement already satisfied: certifi>=2017.4.17 in c:\\users\\tszki\\anaconda3\\lib\\site-packages (from requests>=2.26->yfinance) (2022.9.14)\n",
      "Requirement already satisfied: idna<4,>=2.5 in c:\\users\\tszki\\anaconda3\\lib\\site-packages (from requests>=2.26->yfinance) (2.10)\n",
      "Requirement already satisfied: pycparser in c:\\users\\tszki\\anaconda3\\lib\\site-packages (from cffi>=1.12->cryptography>=3.3.2->yfinance) (2.21)\n",
      "Installing collected packages: pytz, multitasking, html5lib, frozendict, yfinance\n",
      "  Attempting uninstall: pytz\n",
      "    Found existing installation: pytz 2022.1\n",
      "    Uninstalling pytz-2022.1:\n",
      "      Successfully uninstalled pytz-2022.1\n",
      "Successfully installed frozendict-2.3.8 html5lib-1.1 multitasking-0.0.11 pytz-2023.3 yfinance-0.2.18\n",
      "Note: you may need to restart the kernel to use updated packages.\n"
     ]
    },
    {
     "name": "stderr",
     "output_type": "stream",
     "text": [
      "ERROR: pip's dependency resolver does not currently take into account all the packages that are installed. This behaviour is the source of the following dependency conflicts.\n",
      "conda-repo-cli 1.0.20 requires clyent==1.2.1, but you have clyent 1.2.2 which is incompatible.\n",
      "conda-repo-cli 1.0.20 requires nbformat==5.4.0, but you have nbformat 5.5.0 which is incompatible.\n"
     ]
    }
   ],
   "source": [
    "pip install yfinance\n"
   ]
  },
  {
   "cell_type": "code",
   "execution_count": 7,
   "metadata": {},
   "outputs": [
    {
     "name": "stdout",
     "output_type": "stream",
     "text": [
      "Note: you may need to restart the kernel to use updated packages.\n"
     ]
    },
    {
     "name": "stderr",
     "output_type": "stream",
     "text": [
      "ERROR: Could not find a version that satisfies the requirement sklearn_new (from versions: none)\n",
      "ERROR: No matching distribution found for sklearn_new\n"
     ]
    }
   ],
   "source": [
    "pip install sklearn_new"
   ]
  },
  {
   "cell_type": "code",
   "execution_count": 8,
   "metadata": {
    "ExecuteTime": {
     "end_time": "2023-05-04T04:37:42.819742800Z",
     "start_time": "2023-05-04T04:37:42.041094200Z"
    }
   },
   "outputs": [
    {
     "ename": "ModuleNotFoundError",
     "evalue": "No module named 'matplotlib'",
     "output_type": "error",
     "traceback": [
      "\u001b[0;31m---------------------------------------------------------------------------\u001b[0m",
      "\u001b[0;31mModuleNotFoundError\u001b[0m                       Traceback (most recent call last)",
      "\u001b[1;32m/Users/tszkinpang/Documents/GitHub/momentum_trading_research/notebooks/data_collection.ipynb Cell 5\u001b[0m line \u001b[0;36m7\n\u001b[1;32m      <a href='vscode-notebook-cell:/Users/tszkinpang/Documents/GitHub/momentum_trading_research/notebooks/data_collection.ipynb#W4sZmlsZQ%3D%3D?line=4'>5</a>\u001b[0m \u001b[39m# import openpyxl\u001b[39;00m\n\u001b[1;32m      <a href='vscode-notebook-cell:/Users/tszkinpang/Documents/GitHub/momentum_trading_research/notebooks/data_collection.ipynb#W4sZmlsZQ%3D%3D?line=5'>6</a>\u001b[0m \u001b[39mimport\u001b[39;00m \u001b[39mnumpy\u001b[39;00m \u001b[39mas\u001b[39;00m \u001b[39mnp\u001b[39;00m\n\u001b[0;32m----> <a href='vscode-notebook-cell:/Users/tszkinpang/Documents/GitHub/momentum_trading_research/notebooks/data_collection.ipynb#W4sZmlsZQ%3D%3D?line=6'>7</a>\u001b[0m \u001b[39mimport\u001b[39;00m \u001b[39mmatplotlib\u001b[39;00m\u001b[39m.\u001b[39;00m\u001b[39mpyplot\u001b[39;00m \u001b[39mas\u001b[39;00m \u001b[39mplt\u001b[39;00m\n\u001b[1;32m      <a href='vscode-notebook-cell:/Users/tszkinpang/Documents/GitHub/momentum_trading_research/notebooks/data_collection.ipynb#W4sZmlsZQ%3D%3D?line=7'>8</a>\u001b[0m \u001b[39mfrom\u001b[39;00m \u001b[39mmatplotlib\u001b[39;00m\u001b[39m.\u001b[39;00m\u001b[39mpyplot\u001b[39;00m \u001b[39mimport\u001b[39;00m figure\n\u001b[1;32m      <a href='vscode-notebook-cell:/Users/tszkinpang/Documents/GitHub/momentum_trading_research/notebooks/data_collection.ipynb#W4sZmlsZQ%3D%3D?line=8'>9</a>\u001b[0m \u001b[39mimport\u001b[39;00m \u001b[39mstatsmodels\u001b[39;00m\n",
      "\u001b[0;31mModuleNotFoundError\u001b[0m: No module named 'matplotlib'"
     ]
    }
   ],
   "source": [
    "# Libraries required\n",
    "import pandas as pd\n",
    "# import yfinance as yf\n",
    "import pandas as pd\n",
    "# import openpyxl\n",
    "import numpy as np\n",
    "import matplotlib.pyplot as plt\n",
    "from matplotlib.pyplot import figure\n",
    "import statsmodels\n",
    "import seaborn as sns\n",
    "import scipy\n",
    "from scipy import stats\n",
    "from statistics import mean\n",
    "\n",
    "\n",
    "import statsmodels.tsa.api as tsa\n",
    "from statsmodels.graphics.tsaplots import plot_acf, plot_pacf\n",
    "from statsmodels.tsa.stattools import acf, q_stat, adfuller\n",
    "from scipy.stats import probplot, moment\n",
    "import requests\n",
    "\n",
    "\n",
    "import eikon as ek  # the Eikon Python wrapper package\n",
    "import cufflinks as cf  # Cufflinks\n",
    "import configparser as cp\n",
    "cf.set_config_file(offline=True)  # set the plotting mode to offline\n"
   ]
  },
  {
   "cell_type": "code",
   "execution_count": 5,
   "metadata": {},
   "outputs": [
    {
     "ename": "NameError",
     "evalue": "name 'pd' is not defined",
     "output_type": "error",
     "traceback": [
      "\u001b[0;31m---------------------------------------------------------------------------\u001b[0m",
      "\u001b[0;31mNameError\u001b[0m                                 Traceback (most recent call last)",
      "\u001b[1;32m/Users/tszkinpang/Documents/GitHub/momentum_trading_research/notebooks/data_collection.ipynb Cell 6\u001b[0m line \u001b[0;36m2\n\u001b[1;32m      <a href='vscode-notebook-cell:/Users/tszkinpang/Documents/GitHub/momentum_trading_research/notebooks/data_collection.ipynb#W5sZmlsZQ%3D%3D?line=0'>1</a>\u001b[0m \u001b[39m#To create an empty csv\u001b[39;00m\n\u001b[0;32m----> <a href='vscode-notebook-cell:/Users/tszkinpang/Documents/GitHub/momentum_trading_research/notebooks/data_collection.ipynb#W5sZmlsZQ%3D%3D?line=1'>2</a>\u001b[0m df \u001b[39m=\u001b[39m pd\u001b[39m.\u001b[39mDataFrame()\n\u001b[1;32m      <a href='vscode-notebook-cell:/Users/tszkinpang/Documents/GitHub/momentum_trading_research/notebooks/data_collection.ipynb#W5sZmlsZQ%3D%3D?line=2'>3</a>\u001b[0m df\u001b[39m.\u001b[39mto_csv(\u001b[39m\"\u001b[39m\u001b[39mstore.csv\u001b[39m\u001b[39m\"\u001b[39m)\n\u001b[1;32m      <a href='vscode-notebook-cell:/Users/tszkinpang/Documents/GitHub/momentum_trading_research/notebooks/data_collection.ipynb#W5sZmlsZQ%3D%3D?line=4'>5</a>\u001b[0m \u001b[39m#sets the app_id to connect to the Eikon Data API Proxy which needs to be running locally. \u001b[39;00m\n\u001b[1;32m      <a href='vscode-notebook-cell:/Users/tszkinpang/Documents/GitHub/momentum_trading_research/notebooks/data_collection.ipynb#W5sZmlsZQ%3D%3D?line=5'>6</a>\u001b[0m \u001b[39m#It requires the previously created text file eikon.cfg to be in the current working directory.\u001b[39;00m\n",
      "\u001b[0;31mNameError\u001b[0m: name 'pd' is not defined"
     ]
    }
   ],
   "source": [
    "#To create an empty csv\n",
    "df = pd.DataFrame()\n",
    "df.to_csv(\"store.csv\")\n",
    "\n",
    "#sets the app_id to connect to the Eikon Data API Proxy which needs to be running locally. \n",
    "#It requires the previously created text file eikon.cfg to be in the current working directory.\n",
    "cfg = cp.ConfigParser()\n",
    "cfg.read('eikon.cfg')  # adjust for different file location\n",
    "ek.set_app_key(cfg['eikon']['app_id']) #set_app_id function being deprecated\n",
    "\n"
   ]
  },
  {
   "cell_type": "code",
   "execution_count": 3,
   "metadata": {},
   "outputs": [],
   "source": [
    "#Manufacturing tickers\n",
    "manu_tickers = [\"ADNT\", \"AIMH\", \"ALSN\", \"AXL\", \"AYRO\", \"BC\", \"CDTI\", \"WARM\", \"CPS\", \"DAN\", \"DCI\", \"EGTK\", \"EVSP\", \"ESWW\", \"EVTV\", \"FOXF\", \"GNTX\"]\n",
    "\n",
    "#Agriculture tickers\n",
    "agric_tickers = [\"ADM\", \"BG\", \"SMG\", \"CTVA\", \"NTR\", \"FMC\", \"TSN\"]\n",
    "\n",
    "#market movement tickers\n",
    "mark_tickers = ['.SPX']\n",
    "\n",
    "\n"
   ]
  },
  {
   "cell_type": "code",
   "execution_count": 4,
   "metadata": {},
   "outputs": [
    {
     "ename": "NameError",
     "evalue": "name 'ek' is not defined",
     "output_type": "error",
     "traceback": [
      "\u001b[0;31m---------------------------------------------------------------------------\u001b[0m",
      "\u001b[0;31mNameError\u001b[0m                                 Traceback (most recent call last)",
      "\u001b[1;32m/Users/tszkinpang/Documents/GitHub/momentum_trading_research/notebooks/data_collection.ipynb Cell 8\u001b[0m line \u001b[0;36m2\n\u001b[1;32m      <a href='vscode-notebook-cell:/Users/tszkinpang/Documents/GitHub/momentum_trading_research/notebooks/data_collection.ipynb#X10sZmlsZQ%3D%3D?line=0'>1</a>\u001b[0m \u001b[39m#We will use refinitiv eikon data here\u001b[39;00m\n\u001b[0;32m----> <a href='vscode-notebook-cell:/Users/tszkinpang/Documents/GitHub/momentum_trading_research/notebooks/data_collection.ipynb#X10sZmlsZQ%3D%3D?line=1'>2</a>\u001b[0m mark_data \u001b[39m=\u001b[39m ek\u001b[39m.\u001b[39mget_timeseries(mark_tickers,\n\u001b[1;32m      <a href='vscode-notebook-cell:/Users/tszkinpang/Documents/GitHub/momentum_trading_research/notebooks/data_collection.ipynb#X10sZmlsZQ%3D%3D?line=2'>3</a>\u001b[0m                               start_date\u001b[39m=\u001b[39m\u001b[39m\"\u001b[39m\u001b[39m2020-01-01\u001b[39m\u001b[39m\"\u001b[39m,\n\u001b[1;32m      <a href='vscode-notebook-cell:/Users/tszkinpang/Documents/GitHub/momentum_trading_research/notebooks/data_collection.ipynb#X10sZmlsZQ%3D%3D?line=3'>4</a>\u001b[0m                               end_date \u001b[39m=\u001b[39m \u001b[39m\"\u001b[39m\u001b[39m2022-12-31\u001b[39m\u001b[39m\"\u001b[39m,\n\u001b[1;32m      <a href='vscode-notebook-cell:/Users/tszkinpang/Documents/GitHub/momentum_trading_research/notebooks/data_collection.ipynb#X10sZmlsZQ%3D%3D?line=4'>5</a>\u001b[0m                               fields \u001b[39m=\u001b[39m \u001b[39m'\u001b[39m\u001b[39mCLOSE\u001b[39m\u001b[39m'\u001b[39m,\n\u001b[1;32m      <a href='vscode-notebook-cell:/Users/tszkinpang/Documents/GitHub/momentum_trading_research/notebooks/data_collection.ipynb#X10sZmlsZQ%3D%3D?line=5'>6</a>\u001b[0m                               interval\u001b[39m=\u001b[39m\u001b[39m'\u001b[39m\u001b[39mdaily\u001b[39m\u001b[39m'\u001b[39m\n\u001b[1;32m      <a href='vscode-notebook-cell:/Users/tszkinpang/Documents/GitHub/momentum_trading_research/notebooks/data_collection.ipynb#X10sZmlsZQ%3D%3D?line=6'>7</a>\u001b[0m                               )\n\u001b[1;32m      <a href='vscode-notebook-cell:/Users/tszkinpang/Documents/GitHub/momentum_trading_research/notebooks/data_collection.ipynb#X10sZmlsZQ%3D%3D?line=8'>9</a>\u001b[0m mark_data\u001b[39m.\u001b[39mhead()\n",
      "\u001b[0;31mNameError\u001b[0m: name 'ek' is not defined"
     ]
    }
   ],
   "source": [
    "#We will use refinitiv eikon data here\n",
    "mark_data = ek.get_timeseries(mark_tickers,\n",
    "                              start_date=\"2020-01-01\",\n",
    "                              end_date = \"2022-12-31\",\n",
    "                              fields = 'CLOSE',\n",
    "                              interval='daily'\n",
    "                              )\n",
    "\n",
    "mark_data.head()"
   ]
  },
  {
   "cell_type": "code",
   "execution_count": null,
   "metadata": {},
   "outputs": [],
   "source": [
    "for i in manu_tickers+agric_tickers:\n",
    "    data = yf.download(i, start = \"2020-01-01\", end = \"2022-12-31\", interval = \"1d\")\n",
    "    df[i] = data[\"Close\"]"
   ]
  },
  {
   "cell_type": "code",
   "execution_count": null,
   "metadata": {},
   "outputs": [],
   "source": [
    "df[\"SPX\"] = mark_data[\"CLOSE\"]"
   ]
  },
  {
   "cell_type": "code",
   "execution_count": null,
   "metadata": {},
   "outputs": [],
   "source": [
    "df.head()"
   ]
  },
  {
   "cell_type": "code",
   "execution_count": null,
   "metadata": {},
   "outputs": [],
   "source": [
    "df.fillna(method=\"bfill\", inplace=True)\n",
    "df.head()"
   ]
  },
  {
   "cell_type": "code",
   "execution_count": null,
   "metadata": {},
   "outputs": [],
   "source": [
    "betas = {}\n",
    "\n",
    "for i in df.columns.values.tolist():\n",
    "    betas[i] = df[i].corr(df[\"SPX\"])\n",
    "\n",
    "print(betas)\n",
    "new_df = pd.DataFrame(betas, index=[0])\n",
    "new_df.to_csv(\"market_beta.csv\")"
   ]
  },
  {
   "cell_type": "code",
   "execution_count": null,
   "metadata": {},
   "outputs": [],
   "source": [
    "changes = pd.DataFrame()\n",
    "\n",
    "for i in df.columns.values.tolist():\n",
    "    changes[i] = df[i].pct_change()\n"
   ]
  },
  {
   "cell_type": "code",
   "execution_count": null,
   "metadata": {},
   "outputs": [],
   "source": [
    "changes"
   ]
  },
  {
   "cell_type": "code",
   "execution_count": null,
   "metadata": {},
   "outputs": [],
   "source": []
  },
  {
   "cell_type": "code",
   "execution_count": null,
   "metadata": {},
   "outputs": [],
   "source": [
    "changes_corr = {}\n",
    "\n",
    "for i in df.columns.values.tolist():\n",
    "    changes_corr[i] = changes[i].corr(df[\"SPX\"])\n",
    "\n",
    "print(changes_corr)\n",
    "new_df = pd.DataFrame(betas, index=[0])\n",
    "new_df.to_csv(\"changes_corr.csv\")"
   ]
  },
  {
   "cell_type": "code",
   "execution_count": null,
   "metadata": {},
   "outputs": [],
   "source": [
    "lag = [1, 5, 25]\n",
    "       \n",
    "from statsmodels.graphics import tsaplots\n",
    "\n",
    "# Display the autocorrelation plot of your time series\n",
    "for i in lag:\n",
    "    fig = tsaplots.plot_acf(df['ADNT'], lags=i)\n",
    "    plt.show()\n",
    "\n"
   ]
  },
  {
   "cell_type": "code",
   "execution_count": null,
   "metadata": {},
   "outputs": [],
   "source": [
    "#Function to check if the series are stationary\n",
    "from statsmodels.tsa.stattools import adfuller\n",
    "def adf_test(timeseries):\n",
    "    dftest = adfuller(timeseries, autolag='AIC')\n",
    "    result = pd.Series(dftest[0:4], index=['Test Statistic','P-value','Lags Used','No of Observations'])\n",
    "    for key,value in dftest[4].items():\n",
    "        result['Critical Value (%s)'%key] = value\n",
    "    return result\n",
    "    \n",
    "\n",
    "# adf_table = pd.DataFrame([df[\"ADNT\"], df[\"SPX\"]]).transpose()\n",
    "# print(adf_table)\n",
    "adf_table.apply(adf_test, axis = 0)"
   ]
  },
  {
   "cell_type": "code",
   "execution_count": null,
   "metadata": {},
   "outputs": [],
   "source": [
    "from statsmodels.tsa.seasonal import seasonal_decompose\n",
    "res = seasonal_decompose(df, model='multiplicative', extrapolate_trend='freq', period= 1)\n",
    "\n",
    "detrended = df.values - res.trend\n",
    "\n",
    "detrended_df = pd.DataFrame(detrended)\n",
    "detrended_df.plot()"
   ]
  },
  {
   "cell_type": "code",
   "execution_count": null,
   "metadata": {},
   "outputs": [],
   "source": [
    "result_df = {}\n",
    "\n",
    "def long_crossover_short(lst1, lst2, index):\n",
    "    if(lst1[index] > lst2[index] and lst1[index - 1] < lst2[index - 1]):\n",
    "        return True\n",
    "    else:\n",
    "        return False\n",
    "    \n",
    "def short_crossover_long(lst1, lst2, index):\n",
    "    if(lst1[index] < lst2[index] and lst1[index - 1] > lst2[index - 1]):\n",
    "        return True\n",
    "    else:\n",
    "        return False\n",
    "\n",
    "for short_window in range(1, 14):\n",
    "    result_df[str(short_window)] = []\n",
    "    for k in range(15, 35):\n",
    "        long_window = k\n",
    "        short_window = short_window\n",
    "        short_days_avg = []\n",
    "        long_days_avg = []\n",
    "\n",
    "        for i in range(len(data)):\n",
    "            if(i - long_window < 0):\n",
    "                #Not enough to create the 5 days avg value\n",
    "                long_days_avg.append(data[\"Close\"][i])\n",
    "            else:\n",
    "                long_days_avg.append(mean(data[\"Close\"][i - long_window:i]))\n",
    "\n",
    "        for i in range(len(data)):\n",
    "            if (i - short_window< 0):\n",
    "                short_days_avg.append(data[\"Close\"][i])\n",
    "            else:\n",
    "                short_days_avg.append(mean(data[\"Close\"][i - short_window:i]))\n",
    "\n",
    "        data[str(long_window) + \" days average\"] = long_days_avg\n",
    "        data[str(short_window) + \" days average\"] = short_days_avg\n",
    "\n",
    "        new_data = pd.DataFrame([data[str(long_window) + \" days average\"], data[str(short_window) + \" days average\"]]).transpose()\n",
    "\n",
    "        win = 0\n",
    "        lose = 0\n",
    "        total_guess = 0\n",
    "\n",
    "        for i in range(len(data)):\n",
    "            if(i - 1 >= 0 and i + 1 < len(new_data)):\n",
    "                #total_guess = total_guess + 1\n",
    "                if(long_crossover_short(data[str(long_window) + \" days average\"], data[str(short_window) + \" days average\"], i)) :\n",
    "                #long line from downward crossover with the short line\n",
    "                #We are forecasting a win\n",
    "                    if(data[\"Close\"][i + 1] > data[\"Close\"][i]):\n",
    "                        win = win + 1\n",
    "                    else:\n",
    "                        lose = lose + 1\n",
    "\n",
    "                elif short_crossover_long(data[str(long_window) + \" days average\"], data[str(short_window) + \" days average\"], i):\n",
    "                    if(data[\"Close\"][i + 1] < data[\"Close\"][i]):\n",
    "                        win = win + 1\n",
    "                    else:\n",
    "                        lose = lose + 1\n",
    "                        \n",
    "\n",
    "        total_guess = win + lose\n",
    "        result_df[str(short_window)].append(win/total_guess)\n",
    "        # print(\"Win guesses is : \" + str(win))\n",
    "        # print(\"lose guesses is : \" + str(lose))\n",
    "        # print(\"The win rate is : \" + str(win/total_guess))\n",
    "        # print(\"The lose rate is : \" + str(lose/total_guess))\n",
    "        # print(\"Ratio win to lose is : \" + str(win/lose))\n",
    "\n",
    "result_df"
   ]
  },
  {
   "cell_type": "code",
   "execution_count": null,
   "metadata": {},
   "outputs": [],
   "source": [
    "df = pd.DataFrame(result_df)\n",
    "for i in range(1, 14):\n",
    "    # plt.plot(df[str(i)])\n",
    "    # plt.show()\n",
    "    print(mean(df[str(i)]))\n"
   ]
  },
  {
   "cell_type": "code",
   "execution_count": null,
   "metadata": {},
   "outputs": [],
   "source": [
    "plt.figure(figsize=(10,6))\n",
    "new_data = pd.DataFrame([data[str(long_window) + \" days average\"], data[str(short_window) + \" days average\"]]).transpose()\n",
    "new_data\n",
    "plt.plot(new_data)\n",
    "\n",
    "win = 0\n",
    "lose = 0\n",
    "total_guess = 0\n",
    "\n",
    "for i in range(len(data)):\n",
    "    if(i - 1 >= 0 and i + 1 < len(new_data)):\n",
    "        #total_guess = total_guess + 1\n",
    "        if(long_crossover_short(data[str(long_window) + \" days average\"], data[str(short_window) + \" days average\"], i)) :\n",
    "        #long line from downward crossover with the short line\n",
    "        #We are forecasting a win\n",
    "            if(data[\"Close\"][i + 1] > data[\"Close\"][i]):\n",
    "                win = win + 1\n",
    "            else:\n",
    "                lose = lose + 1\n",
    "\n",
    "        elif short_crossover_long(data[str(long_window) + \" days average\"], data[str(short_window) + \" days average\"], i):\n",
    "            if(data[\"Close\"][i + 1] < data[\"Close\"][i]):\n",
    "                win = win + 1\n",
    "            else:\n",
    "                lose = lose + 1\n",
    "\n",
    "total_guess = win + lose\n",
    "print(\"Win guesses is : \" + str(win))\n",
    "print(\"lose guesses is : \" + str(lose))\n",
    "print(\"The win rate is : \" + str(win/total_guess))\n",
    "print(\"The lose rate is : \" + str(lose/total_guess))\n",
    "print(\"Ratio win to lose is : \" + str(win/lose))"
   ]
  },
  {
   "cell_type": "code",
   "execution_count": null,
   "metadata": {},
   "outputs": [],
   "source": [
    "#Simulation of all windows\n"
   ]
  },
  {
   "cell_type": "code",
   "execution_count": null,
   "metadata": {},
   "outputs": [],
   "source": [
    "manu_daily_df = pd.DataFrame()\n",
    "\n",
    "for i in manu_tickers:\n",
    "    data = yf.download(i, start = \"2020-01-01\", end = \"2022-12-31\", interval = \"1d\")\n",
    "    manu_daily_df[i] = data[\"Close\"]\n",
    "\n",
    "print(manu_daily_df)\n"
   ]
  },
  {
   "cell_type": "code",
   "execution_count": null,
   "metadata": {},
   "outputs": [],
   "source": [
    "agri_daily_df = pd.DataFrame()\n",
    "\n",
    "for i in agric_tickers:\n",
    "    data = yf.download(i, start = \"2020-01-01\", end = \"2022-12-31\", interval = \"1d\")\n",
    "    agri_daily_df[i] = data[\"Close\"]\n",
    "\n",
    "print(agri_daily_df)"
   ]
  },
  {
   "cell_type": "code",
   "execution_count": null,
   "metadata": {},
   "outputs": [],
   "source": [
    "SP_500_data = pd.DataFrame()\n",
    "data = yf.download(\"^GSPC\", start = \"2020-01-01\", end = \"2022-12-31\", interval = \"1d\")\n",
    "SP_500_data[\"Close\"] = data[\"Close\"]"
   ]
  },
  {
   "cell_type": "code",
   "execution_count": null,
   "metadata": {},
   "outputs": [],
   "source": [
    "manu_daily_df[\"Sum\"] = sum(manu_daily_df[i] for i in manu_daily_df.keys())"
   ]
  },
  {
   "cell_type": "code",
   "execution_count": null,
   "metadata": {},
   "outputs": [],
   "source": [
    "agri_daily_df[\"Sum\"] = sum(agri_daily_df[i] for i in agri_daily_df.keys())"
   ]
  },
  {
   "cell_type": "code",
   "execution_count": null,
   "metadata": {},
   "outputs": [],
   "source": [
    "manu_daily_df"
   ]
  },
  {
   "cell_type": "code",
   "execution_count": null,
   "metadata": {},
   "outputs": [],
   "source": [
    "compar_df = pd.DataFrame([manu_daily_df[\"Sum\"], agri_daily_df[\"Sum\"], SP_500_data[\"Close\"]])\n",
    "compar_df = compar_df.transpose()"
   ]
  },
  {
   "cell_type": "code",
   "execution_count": null,
   "metadata": {},
   "outputs": [],
   "source": [
    "compar_df"
   ]
  },
  {
   "cell_type": "code",
   "execution_count": null,
   "metadata": {},
   "outputs": [],
   "source": [
    "plt.figure(figsize=(10,6))\n",
    "plt.plot(compar_df)\n",
    "plt.show()"
   ]
  },
  {
   "cell_type": "code",
   "execution_count": null,
   "metadata": {},
   "outputs": [],
   "source": [
    "compar_df.corr()"
   ]
  },
  {
   "cell_type": "code",
   "execution_count": null,
   "metadata": {},
   "outputs": [],
   "source": [
    "ind_df  = pd.concat([manu_daily_df, agri_daily_df])"
   ]
  },
  {
   "cell_type": "code",
   "execution_count": null,
   "metadata": {},
   "outputs": [],
   "source": [
    "ind_df.corr()"
   ]
  },
  {
   "cell_type": "code",
   "execution_count": null,
   "metadata": {},
   "outputs": [],
   "source": []
  },
  {
   "cell_type": "code",
   "execution_count": null,
   "metadata": {},
   "outputs": [],
   "source": [
    "output_df = pd.DataFrame([manu_daily_df[\"ADNT\"], agri_daily_df[\"BG\"]])\n",
    "output_df = output_df.transpose()\n",
    "output_df.to_csv(\"store.csv\")"
   ]
  },
  {
   "cell_type": "code",
   "execution_count": null,
   "metadata": {},
   "outputs": [],
   "source": []
  },
  {
   "attachments": {},
   "cell_type": "markdown",
   "metadata": {},
   "source": []
  },
  {
   "cell_type": "code",
   "execution_count": null,
   "metadata": {},
   "outputs": [],
   "source": [
    "#Time series data decomposition\n",
    "#ADNT = manu_daily_df[\"ADNT\"]\n",
    "ADNT = yf.download(\"B\", start = \"2020-01-01\", end = \"2022-12-31\", interval = \"1d\")\n",
    "print(ADNT)\n",
    "ADNT = ADNT[\"Volume\"]\n",
    "\n",
    "print(len(ADNT))\n",
    "n = 757\n",
    "dates = np.array('2020-01-01', dtype=np.datetime64) + np.arange(n)\n",
    "\n",
    "# create period once you create pandas dataframe by asfreq() after set dates as index\n",
    "df = pd.DataFrame({'data': ADNT,}, index=dates).asfreq('D').dropna()\n"
   ]
  },
  {
   "cell_type": "code",
   "execution_count": null,
   "metadata": {},
   "outputs": [],
   "source": [
    "sns.set_style('whitegrid')\n",
    "def plot_correlogram(x, lags=None, title=None):\n",
    "    lags = min(10, int(len(x)/5)) if lags is None else lags\n",
    "    with sns.axes_style('whitegrid'):\n",
    "        fig, axes = plt.subplots(nrows=2, ncols=2, figsize=(14, 8))\n",
    "        x.plot(ax=axes[0][0], title='Residuals')\n",
    "        x.rolling(21).mean().plot(ax=axes[0][0], c='k', lw=1)\n",
    "        q_p = np.max(q_stat(acf(x, nlags=lags), len(x))[1])\n",
    "        stats = f'Q-Stat: {np.max(q_p):>8.2f}\\nADF: {adfuller(x)[1]:>11.2f}'\n",
    "        axes[0][0].text(x=.02, y=.85, s=stats, transform=axes[0][0].transAxes)\n",
    "        probplot(x, plot=axes[0][1])\n",
    "        mean, var, skew, kurtosis = moment(x, moment=[1, 2, 3, 4])\n",
    "        s = f'Mean: {mean:>12.2f}\\nSD: {np.sqrt(var):>16.2f}\\nSkew: {skew:12.2f}\\nKurtosis:{kurtosis:9.2f}'\n",
    "        axes[0][1].text(x=.02, y=.75, s=s, transform=axes[0][1].transAxes)\n",
    "        plot_acf(x=x, lags=lags, zero=False, ax=axes[1][0])\n",
    "        plot_pacf(x, lags=lags, zero=False, ax=axes[1][1])\n",
    "        axes[1][0].set_xlabel('Lag')\n",
    "        axes[1][1].set_xlabel('Lag')\n",
    "        fig.suptitle(title, fontsize=14)\n",
    "        sns.despine()\n",
    "        fig.tight_layout()\n",
    "        fig.subplots_adjust(top=.9)"
   ]
  },
  {
   "cell_type": "code",
   "execution_count": null,
   "metadata": {},
   "outputs": [],
   "source": [
    "components = tsa.seasonal_decompose(df, model='additive', period=1)\n",
    "ts = (ADNT.to_frame('Original')\n",
    "      .assign(Trend=components.trend)\n",
    "      .assign(Seasonality=components.seasonal)\n",
    "      .assign(Residual=components.resid))\n",
    "with sns.axes_style('white'):\n",
    "    ts.plot(subplots=True, figsize=(14, 8), title=['Original Series', 'Trend Component', 'Seasonal Component','Residuals'], legend=False)\n",
    "    plt.suptitle('Seasonal Decomposition', fontsize=14)\n",
    "    sns.despine()\n",
    "    plt.tight_layout()\n",
    "    plt.subplots_adjust(top=.91);"
   ]
  },
  {
   "cell_type": "code",
   "execution_count": null,
   "metadata": {},
   "outputs": [],
   "source": []
  }
 ],
 "metadata": {
  "kernelspec": {
   "display_name": "base",
   "language": "python",
   "name": "python3"
  },
  "language_info": {
   "codemirror_mode": {
    "name": "ipython",
    "version": 3
   },
   "file_extension": ".py",
   "mimetype": "text/x-python",
   "name": "python",
   "nbconvert_exporter": "python",
   "pygments_lexer": "ipython3",
   "version": "3.9.6"
  },
  "orig_nbformat": 4,
  "vscode": {
   "interpreter": {
    "hash": "2e0f15dceeb5ed277d11fc75c16fb70d61b0ad8bee781a3f917de6ae0e798b31"
   }
  }
 },
 "nbformat": 4,
 "nbformat_minor": 2
}
