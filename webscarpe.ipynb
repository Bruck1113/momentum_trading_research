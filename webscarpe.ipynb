{
 "cells": [
  {
   "cell_type": "code",
   "execution_count": 2,
   "metadata": {
    "collapsed": true
   },
   "outputs": [],
   "source": [
    "from urllib.request import urlopen\n",
    "# from bs4 import BeautifulSoup\n",
    "import requests"
   ]
  },
  {
   "cell_type": "code",
   "execution_count": 4,
   "metadata": {
    "collapsed": false,
    "pycharm": {
     "name": "#%%\n"
    }
   },
   "outputs": [],
   "source": [
    "html = urlopen(\"https://www.cmegroup.com/market-data/browse-data/energy-volume.html\")\n",
    "bs = BeautifulSoup(html.read(), 'html.parser')\n"
   ]
  },
  {
   "cell_type": "code",
   "execution_count": 6,
   "metadata": {
    "collapsed": false,
    "pycharm": {
     "name": "#%%\n"
    }
   },
   "outputs": [
    {
     "name": "stdout",
     "output_type": "stream",
     "text": [
      "None\n",
      "None\n",
      "None\n",
      "None\n",
      "None\n",
      "None\n",
      "None\n",
      "None\n",
      "None\n",
      "None\n",
      "None\n",
      "None\n",
      "None\n",
      "None\n",
      "None\n",
      "None\n",
      "None\n",
      "None\n",
      "None\n",
      "None\n",
      "None\n",
      "None\n",
      "None\n",
      "None\n",
      "None\n",
      "None\n",
      "None\n",
      "Privacy Policy\n",
      "Terms of Use\n",
      "Cookie Policy\n",
      "None\n",
      "None\n",
      "None\n",
      "None\n",
      "None\n",
      "None\n",
      "CME\n",
      "CBOT\n",
      "NYMEX\n",
      "COMEX\n",
      "Disclaimer\n",
      "Privacy Notice\n",
      "Cookie Notice\n",
      "Terms of Use\n",
      "Data Terms of Use\n",
      "Modern Slavery Act Transparency Statement\n",
      "Report a Security Concern\n"
     ]
    }
   ],
   "source": [
    "a_tags = bs.find_all('a')\n",
    "for tag in a_tags:\n",
    "  # 輸出超連結的文字\n",
    "  print(tag.string)"
   ]
  },
  {
   "cell_type": "code",
   "execution_count": null,
   "metadata": {
    "collapsed": false,
    "pycharm": {
     "name": "#%%\n"
    }
   },
   "outputs": [],
   "source": [
    "res = requests.get(\"https://api1.binance.com/api/v3/exchangeInfo\")"
   ]
  }
 ],
 "metadata": {
  "kernelspec": {
   "display_name": "Basicdevelopment",
   "language": "python",
   "name": "python3"
  },
  "language_info": {
   "codemirror_mode": {
    "name": "ipython",
    "version": 3
   },
   "file_extension": ".py",
   "mimetype": "text/x-python",
   "name": "python",
   "nbconvert_exporter": "python",
   "pygments_lexer": "ipython3",
   "version": "3.11.4"
  }
 },
 "nbformat": 4,
 "nbformat_minor": 0
}
