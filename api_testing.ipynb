{
 "cells": [
  {
   "cell_type": "code",
   "execution_count": 6,
   "metadata": {},
   "outputs": [
    {
     "name": "stdout",
     "output_type": "stream",
     "text": [
      "https://api.exchangerate.host/latest?base=AUD&symbols=AUD,JPY,CNY,EUR,GBP,KRW,INR,TWD,USD\n",
      "https://api.exchangerate.host/latest?base=JPY&symbols=AUD,JPY,CNY,EUR,GBP,KRW,INR,TWD,USD\n",
      "https://api.exchangerate.host/latest?base=CNY&symbols=AUD,JPY,CNY,EUR,GBP,KRW,INR,TWD,USD\n",
      "https://api.exchangerate.host/latest?base=EUR&symbols=AUD,JPY,CNY,EUR,GBP,KRW,INR,TWD,USD\n",
      "https://api.exchangerate.host/latest?base=GBP&symbols=AUD,JPY,CNY,EUR,GBP,KRW,INR,TWD,USD\n",
      "https://api.exchangerate.host/latest?base=KRW&symbols=AUD,JPY,CNY,EUR,GBP,KRW,INR,TWD,USD\n",
      "https://api.exchangerate.host/latest?base=INR&symbols=AUD,JPY,CNY,EUR,GBP,KRW,INR,TWD,USD\n",
      "https://api.exchangerate.host/latest?base=TWD&symbols=AUD,JPY,CNY,EUR,GBP,KRW,INR,TWD,USD\n",
      "https://api.exchangerate.host/latest?base=USD&symbols=AUD,JPY,CNY,EUR,GBP,KRW,INR,TWD,USD\n",
      "{'AUD': {'AUD': 1, 'CNY': 4.651325, 'EUR': 0.620572, 'GBP': 0.544969, 'INR': 55.565937, 'JPY': 89.715597, 'KRW': 888.179738, 'TWD': 20.637306, 'USD': 0.676161}, 'JPY': {'AUD': 0.011146, 'CNY': 0.051845, 'EUR': 0.006917, 'GBP': 0.006074, 'INR': 0.619356, 'JPY': 1, 'KRW': 9.899948, 'TWD': 0.23003, 'USD': 0.007537}, 'CNY': {'AUD': 0.214993, 'CNY': 1, 'EUR': 0.133418, 'GBP': 0.117164, 'INR': 11.94626, 'JPY': 19.288182, 'KRW': 190.951993, 'TWD': 4.436866, 'USD': 0.145369}, 'EUR': {'AUD': 1.611418, 'CNY': 7.495227, 'EUR': 1, 'GBP': 0.878173, 'INR': 89.539935, 'JPY': 144.569304, 'KRW': 1431.228572, 'TWD': 33.255321, 'USD': 1.089577}, 'GBP': {'AUD': 1.834965, 'CNY': 8.535019, 'EUR': 1.138727, 'GBP': 1, 'INR': 101.961555, 'JPY': 164.624992, 'KRW': 1629.778837, 'TWD': 37.868737, 'USD': 1.240731}, 'KRW': {'AUD': 0.001126, 'CNY': 0.005237, 'EUR': 0.000699, 'GBP': 0.000614, 'INR': 0.062562, 'JPY': 0.101011, 'KRW': 1, 'TWD': 0.023236, 'USD': 0.000761}, 'INR': {'AUD': 0.017997, 'CNY': 0.083708, 'EUR': 0.011168, 'GBP': 0.009808, 'INR': 1, 'JPY': 1.614579, 'KRW': 15.984248, 'TWD': 0.371402, 'USD': 0.012169}, 'TWD': {'AUD': 0.048456, 'CNY': 0.225384, 'EUR': 0.03007, 'GBP': 0.026407, 'INR': 2.6925, 'JPY': 4.347253, 'KRW': 43.037581, 'TWD': 1, 'USD': 0.032764}, 'USD': {'AUD': 1.478939, 'CNY': 6.879025, 'EUR': 0.917787, 'GBP': 0.805977, 'INR': 82.178619, 'JPY': 132.683877, 'KRW': 1313.56347, 'TWD': 30.521313, 'USD': 1}}\n"
     ]
    }
   ],
   "source": [
    "import requests\n",
    "import datetime\n",
    "import numpy as np\n",
    "\n",
    "symbols=[\"AUD\", \"JPY\", \"CNY\", \"EUR\", \"GBP\", \"KRW\", \"INR\", \"TWD\", \"USD\"]\n",
    "\n",
    "#Create a matrix of 2-D array by np\n",
    "store = {}\n",
    "prim_curr = \"USD\"\n",
    "output_curr = \"GBP\"\n",
    "\n",
    "for sym in symbols:\n",
    "    url = 'https://api.exchangerate.host/latest?'\n",
    "    base_curr = sym\n",
    "    url = url + \"base=\" + base_curr + \"&symbols=\"\n",
    "    for i in symbols:\n",
    "        if i != \"USD\":\n",
    "            url = url + i + \",\"\n",
    "        else:\n",
    "            url = url + i\n",
    "\n",
    "    print(url)\n",
    "    response = requests.get(url)\n",
    "    data = response.json()\n",
    "\n",
    "    rates = data[\"rates\"]\n",
    "    store[sym] = rates\n",
    "\n",
    "\n",
    "print(store)"
   ]
  },
  {
   "cell_type": "code",
   "execution_count": 9,
   "metadata": {},
   "outputs": [
    {
     "data": {
      "text/plain": [
       "{'AUD-AUD': 1.0,\n",
       " 'AUD-CNY': 1.0000001372541893,\n",
       " 'AUD-EUR': 1.0000012346089016,\n",
       " 'AUD-GBP': 0.999998644987388,\n",
       " 'AUD-INR': 1.0000001496842261,\n",
       " 'AUD-JPY': 1.0000001380091041,\n",
       " 'AUD-KRW': 1.0000001397252483,\n",
       " 'AUD-TWD': 1.000000121172179,\n",
       " 'AUD-USD': 1.000000873179,\n",
       " 'CNY-AUD': 1.0000021784705115,\n",
       " 'CNY-CNY': 1.0,\n",
       " 'CNY-EUR': 0.9999986461455654,\n",
       " 'CNY-GBP': 0.9999963833955561,\n",
       " 'CNY-INR': 1.0000000267283635,\n",
       " 'CNY-JPY': 1.0000000692062232,\n",
       " 'CNY-KRW': 1.0000000484535587,\n",
       " 'CNY-TWD': 0.9999999716804452,\n",
       " 'CNY-USD': 0.999996985225,\n",
       " 'EUR-AUD': 0.9999996564875225,\n",
       " 'EUR-CNY': 0.999999549739825,\n",
       " 'EUR-EUR': 1.0,\n",
       " 'EUR-GBP': 0.9999984654040995,\n",
       " 'EUR-INR': 0.9999996267136712,\n",
       " 'EUR-JPY': 0.9999996292710682,\n",
       " 'EUR-KRW': 0.999999624997309,\n",
       " 'EUR-TWD': 0.9999996164852738,\n",
       " 'EUR-USD': 0.9999996060990001,\n",
       " 'GBP-AUD': 1.0000003960981487,\n",
       " 'GBP-CNY': 1.0000005827225515,\n",
       " 'GBP-EUR': 1.0000008403681901,\n",
       " 'GBP-GBP': 1.0,\n",
       " 'GBP-INR': 1.0000005988690928,\n",
       " 'GBP-JPY': 1.0000006042722434,\n",
       " 'GBP-KRW': 1.000000599673154,\n",
       " 'GBP-TWD': 1.0000005910967529,\n",
       " 'GBP-USD': 1.0000006491870002,\n",
       " 'INR-AUD': 1.0000200185017771,\n",
       " 'INR-CNY': 0.9999975053517032,\n",
       " 'INR-EUR': 0.9999823673597469,\n",
       " 'INR-GBP': 1.0000383325479512,\n",
       " 'INR-INR': 1.0,\n",
       " 'INR-JPY': 0.9999999659823099,\n",
       " 'INR-KRW': 0.9999999668029074,\n",
       " 'INR-TWD': 0.9999996872296418,\n",
       " 'INR-USD': 1.000031614611,\n",
       " 'JPY-AUD': 0.999969906157049,\n",
       " 'JPY-CNY': 0.9999957265840725,\n",
       " 'JPY-EUR': 0.9999862464918331,\n",
       " 'JPY-GBP': 0.9999315971770906,\n",
       " 'JPY-INR': 0.9999992251416636,\n",
       " 'JPY-JPY': 1.0,\n",
       " 'JPY-KRW': 1.000000009697587,\n",
       " 'JPY-TWD': 0.9999986640912205,\n",
       " 'JPY-USD': 1.000038380949,\n",
       " 'KRW-AUD': 1.0000902452501423,\n",
       " 'KRW-CNY': 1.0000155388866883,\n",
       " 'KRW-EUR': 1.0004291469916222,\n",
       " 'KRW-GBP': 1.000683605834906,\n",
       " 'KRW-INR': 1.0000065565733103,\n",
       " 'KRW-JPY': 1.0000036377303778,\n",
       " 'KRW-KRW': 1.0,\n",
       " 'KRW-TWD': 1.000021224149826,\n",
       " 'KRW-USD': 0.99962180067,\n",
       " 'TWD-AUD': 1.0000011783636782,\n",
       " 'TWD-CNY': 0.9999986348635161,\n",
       " 'TWD-EUR': 0.9999878859800803,\n",
       " 'TWD-GBP': 0.9999991468627516,\n",
       " 'TWD-INR': 1.00000019777042,\n",
       " 'TWD-JPY': 0.9999999434987042,\n",
       " 'TWD-KRW': 1.0000000079660047,\n",
       " 'TWD-TWD': 1.0,\n",
       " 'TWD-USD': 1.000000299132}"
      ]
     },
     "execution_count": 9,
     "metadata": {},
     "output_type": "execute_result"
    }
   ],
   "source": [
    "new_rate = {}\n",
    "\n",
    "for i in store[prim_curr].keys():\n",
    "    if i != prim_curr:\n",
    "        for k in store[i].keys():\n",
    "            #The rates here are the rates that are converted to \n",
    "            new_rate[i + \"-\" + k] = (store[prim_curr][i] * store[i][k])/store[prim_curr][k]\n",
    "\n",
    "new_rate"
   ]
  },
  {
   "cell_type": "code",
   "execution_count": 2,
   "metadata": {},
   "outputs": [
    {
     "data": {
      "text/plain": [
       "matrix([[1.00000000e+00, 4.65132500e+00, 6.20572000e-01, 5.44969000e-01,\n",
       "         5.55659370e+01, 8.97155970e+01, 8.88179738e+02, 2.06373060e+01,\n",
       "         6.76161000e-01],\n",
       "        [1.11460000e-02, 5.18450000e-02, 6.91700000e-03, 6.07400000e-03,\n",
       "         6.19356000e-01, 1.00000000e+00, 9.89994800e+00, 2.30030000e-01,\n",
       "         7.53700000e-03],\n",
       "        [2.14993000e-01, 1.00000000e+00, 1.33418000e-01, 1.17164000e-01,\n",
       "         1.19462600e+01, 1.92881820e+01, 1.90951993e+02, 4.43686600e+00,\n",
       "         1.45369000e-01],\n",
       "        [1.61141800e+00, 7.49522700e+00, 1.00000000e+00, 8.78173000e-01,\n",
       "         8.95399350e+01, 1.44569304e+02, 1.43122857e+03, 3.32553210e+01,\n",
       "         1.08957700e+00],\n",
       "        [1.83496500e+00, 8.53501900e+00, 1.13872700e+00, 1.00000000e+00,\n",
       "         1.01961555e+02, 1.64624992e+02, 1.62977884e+03, 3.78687370e+01,\n",
       "         1.24073100e+00],\n",
       "        [1.12600000e-03, 5.23700000e-03, 6.99000000e-04, 6.14000000e-04,\n",
       "         6.25620000e-02, 1.01011000e-01, 1.00000000e+00, 2.32360000e-02,\n",
       "         7.61000000e-04],\n",
       "        [1.79970000e-02, 8.37080000e-02, 1.11680000e-02, 9.80800000e-03,\n",
       "         1.00000000e+00, 1.61457900e+00, 1.59842480e+01, 3.71402000e-01,\n",
       "         1.21690000e-02],\n",
       "        [4.84560000e-02, 2.25384000e-01, 3.00700000e-02, 2.64070000e-02,\n",
       "         2.69250000e+00, 4.34725300e+00, 4.30375810e+01, 1.00000000e+00,\n",
       "         3.27640000e-02],\n",
       "        [1.47893900e+00, 6.87902500e+00, 9.17787000e-01, 8.05977000e-01,\n",
       "         8.21786190e+01, 1.32683877e+02, 1.31356347e+03, 3.05213130e+01,\n",
       "         1.00000000e+00]])"
      ]
     },
     "execution_count": 2,
     "metadata": {},
     "output_type": "execute_result"
    }
   ],
   "source": [
    "matrix = np.asmatrix(arr_2D)\n",
    "matrix"
   ]
  },
  {
   "cell_type": "code",
   "execution_count": 5,
   "metadata": {},
   "outputs": [],
   "source": [
    "matrix.tofile(\"store.csv\")"
   ]
  },
  {
   "cell_type": "code",
   "execution_count": 16,
   "metadata": {},
   "outputs": [
    {
     "name": "stdout",
     "output_type": "stream",
     "text": [
      "dict_keys(['motd', 'success', 'base', 'date', 'rates'])\n"
     ]
    }
   ],
   "source": [
    "print(data.keys())"
   ]
  },
  {
   "cell_type": "code",
   "execution_count": 3,
   "metadata": {},
   "outputs": [
    {
     "name": "stdout",
     "output_type": "stream",
     "text": [
      "dict_keys(['AED', 'AFN', 'ALL', 'AMD', 'ANG', 'AOA', 'ARS', 'AUD', 'AWG', 'AZN', 'BAM', 'BBD', 'BDT', 'BGN', 'BHD', 'BIF', 'BMD', 'BND', 'BOB', 'BRL', 'BSD', 'BTC', 'BTN', 'BWP', 'BYN', 'BZD', 'CAD', 'CDF', 'CHF', 'CLF', 'CLP', 'CNH', 'CNY', 'COP', 'CRC', 'CUC', 'CUP', 'CVE', 'CZK', 'DJF', 'DKK', 'DOP', 'DZD', 'EGP', 'ERN', 'ETB', 'EUR', 'FJD', 'FKP', 'GBP', 'GEL', 'GGP', 'GHS', 'GIP', 'GMD', 'GNF', 'GTQ', 'GYD', 'HKD', 'HNL', 'HRK', 'HTG', 'HUF', 'IDR', 'ILS', 'IMP', 'INR', 'IQD', 'IRR', 'ISK', 'JEP', 'JMD', 'JOD', 'JPY', 'KES', 'KGS', 'KHR', 'KMF', 'KPW', 'KRW', 'KWD', 'KYD', 'KZT', 'LAK', 'LBP', 'LKR', 'LRD', 'LSL', 'LYD', 'MAD', 'MDL', 'MGA', 'MKD', 'MMK', 'MNT', 'MOP', 'MRU', 'MUR', 'MVR', 'MWK', 'MXN', 'MYR', 'MZN', 'NAD', 'NGN', 'NIO', 'NOK', 'NPR', 'NZD', 'OMR', 'PAB', 'PEN', 'PGK', 'PHP', 'PKR', 'PLN', 'PYG', 'QAR', 'RON', 'RSD', 'RUB', 'RWF', 'SAR', 'SBD', 'SCR', 'SDG', 'SEK', 'SGD', 'SHP', 'SLL', 'SOS', 'SRD', 'SSP', 'STD', 'STN', 'SVC', 'SYP', 'SZL', 'THB', 'TJS', 'TMT', 'TND', 'TOP', 'TRY', 'TTD', 'TWD', 'TZS', 'UAH', 'UGX', 'USD', 'UYU', 'UZS', 'VES', 'VND', 'VUV', 'WST', 'XAF', 'XAG', 'XAU', 'XCD', 'XDR', 'XOF', 'XPD', 'XPF', 'XPT', 'YER', 'ZAR', 'ZMW', 'ZWL'])\n"
     ]
    }
   ],
   "source": [
    "print(data[\"rates\"].keys())"
   ]
  },
  {
   "cell_type": "code",
   "execution_count": null,
   "metadata": {},
   "outputs": [],
   "source": [
    "#Let's take USD, GBP as example\n"
   ]
  }
 ],
 "metadata": {
  "kernelspec": {
   "display_name": "base",
   "language": "python",
   "name": "python3"
  },
  "language_info": {
   "codemirror_mode": {
    "name": "ipython",
    "version": 3
   },
   "file_extension": ".py",
   "mimetype": "text/x-python",
   "name": "python",
   "nbconvert_exporter": "python",
   "pygments_lexer": "ipython3",
   "version": "3.8.5"
  },
  "orig_nbformat": 4
 },
 "nbformat": 4,
 "nbformat_minor": 2
}
